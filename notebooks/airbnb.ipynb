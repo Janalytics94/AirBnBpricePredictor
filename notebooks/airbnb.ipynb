{
 "metadata": {
  "language_info": {
   "codemirror_mode": {
    "name": "ipython",
    "version": 3
   },
   "file_extension": ".py",
   "mimetype": "text/x-python",
   "name": "python",
   "nbconvert_exporter": "python",
   "pygments_lexer": "ipython3",
   "version": "3.9.4-final"
  },
  "orig_nbformat": 2,
  "kernelspec": {
   "name": "python3",
   "display_name": "Python 3",
   "language": "python"
  }
 },
 "nbformat": 4,
 "nbformat_minor": 2,
 "cells": [
  {
   "source": [
    "written by: Jana Vihs, vihsjana@student.hu-berlin.de, 604930\n",
    "# Dear Jupyter Notebook Reader\n",
    "\n",
    "fancy, seeing you here.\n",
    "\n",
    "# Airbnb Price Predictor \n",
    "\n",
    "### Table of Contents\n",
    "- Introduction\n",
    "    - Meta Information\n",
    "- A Word on the Experimental Design\n",
    "    - Tools\n",
    "        - Docker\n",
    "        - DVC\n",
    "        - Project Architecture\n",
    "- Data Preprocessing\n",
    "    - Missing Values        \n",
    "- Explorative Data Analysis\n",
    "    - Numeric Features about the Airbnb \n",
    "    - Numeric Features about the Host\n",
    "    - Text Data \n",
    "        - Descriptions and additonal Text Data\n",
    "        - Reviews\n",
    "    - Images \n",
    "- Feature Engineering \n",
    "    - Distance to City Center\n",
    "    - Host since in years\n",
    "    - Text Length\n",
    "    - Sentiment Analysis\n",
    "    - Images \n",
    "        - Colors and Brightness\n",
    "- Feature Selection\n",
    "    - Feature Importance \n",
    "    - Grid Search\n",
    "- Benchmark Models\n",
    "    - Multivariate Linear Regression\n",
    "    - Neural Networks  \n",
    "- Model Evaluation\n",
    "- Final Method\n",
    "    - Hyperparameter Tuning\n",
    "- Conclusion and Outlook\n",
    "- References \n",
    "\n",
    "# Introduction\n",
    "\n",
    "Whats the problem\n"
   ],
   "cell_type": "markdown",
   "metadata": {}
  },
  {
   "cell_type": "code",
   "execution_count": 1,
   "metadata": {},
   "outputs": [],
   "source": [
    "# import all necessary packages \n",
    "# Standards \n",
    "import pandas as pd \n",
    "import numpy as np\n",
    "import os \n",
    "import math\n",
    "import sys\n",
    "\n",
    "# Visulaizations\n",
    "import seaborn as sns\n",
    "import folium\n",
    "import matplotlib.pyplot as plt\n",
    "import matplotlib.image as mpimg\n",
    "%matplotlib inline\n",
    "\n",
    "import datetime\n",
    "import warnings\n",
    "warnings.filterwarnings('ignore')\n",
    "\n",
    "# Translator\n",
    "from google_trans_new import google_translator\n",
    "\n"
   ]
  },
  {
   "cell_type": "code",
   "execution_count": 2,
   "metadata": {},
   "outputs": [],
   "source": [
    "# change python path too include modules that i wrote myself\n",
    "sys.path.append(os.path.dirname('../src'))\n",
    "from src.features.preprocess.Processor import Processor\n",
    "from src.features.preprocess.Textprocessor import TextProcessor"
   ]
  },
  {
   "cell_type": "code",
   "execution_count": 3,
   "metadata": {},
   "outputs": [],
   "source": [
    "# load data set \n",
    "train = pd.read_csv('../data/raw/train.csv', index_col='listing_id')\n",
    "test = pd.read_csv('../data/raw/test.csv', index_col='listing_id')\n",
    "reviews = pd.read_csv('../data/raw/reviews.csv', index_col='listing_id')"
   ]
  },
  {
   "source": [
    "# Meta Information \n",
    "\n",
    "The designated data set is available on Kaggle https://www.kaggle.com/c/adams2021/data and contains the following features\n",
    "\n",
    "\n",
    "<!DOCTYPE html>\n",
    "<html>\n",
    "   <head>\n",
    "      <style>\n",
    "         table, td, th, tr {\n",
    "            border: 1px solid black;\n",
    "            width: 300px;\n",
    "         }\n",
    "      </style>\n",
    "   </head>\n",
    "   <body>\n",
    "      <table>\n",
    "         <tr>\n",
    "            <th>Feature</th>\n",
    "            <th>Description</th>\n",
    "            <th>Data Type</th>\n",
    "         </tr>\n",
    "         <tr>\n",
    "            <td style=\"text-align:center\">name</td>\n",
    "            <td style=\"text-align:center\">the actual name of the advertisment</td>\n",
    "            <td style=\"text-align:center\">text data</td>\n",
    "         </tr>\n",
    "         <tr>\n",
    "            <td style=\"text-align:center\">summary</td>\n",
    "            <td style=\"text-align:center\"></td>\n",
    "            <td style=\"text-align:center\">text data</td>\n",
    "         </tr>\n",
    "         <tr>\n",
    "            <td style=\"text-align:center\">space</td>\n",
    "            <td style=\"text-align:center\"></td>\n",
    "            <td style=\"text-align:center\">text data</td>\n",
    "         </tr>\n",
    "          <tr>\n",
    "            <td style=\"text-align:center\">description</td>\n",
    "            <td style=\"text-align:center\"></td>\n",
    "            <td style=\"text-align:center\">text data</td>\n",
    "         </tr>\n",
    "          <tr>\n",
    "            <td style=\"text-align:center\">experiences_offered</td>\n",
    "            <td style=\"text-align:center\"></td>\n",
    "            <td style=\"text-align:center\">text data</td>\n",
    "         </tr>\n",
    "          <tr>\n",
    "            <td style=\"text-align:center\">neigbhourhood_overview</td>\n",
    "            <td style=\"text-align:center\"></td>\n",
    "            <td style=\"text-align:center\">text data</td>\n",
    "         </tr>\n",
    "          <tr>\n",
    "            <td style=\"text-align:center\">transit</td>\n",
    "            <td style=\"text-align:center\"></td>\n",
    "            <td style=\"text-align:center\">text data</td>\n",
    "         </tr>\n",
    "          <tr>\n",
    "            <td style=\"text-align:center\">house_rules</td>\n",
    "            <td style=\"text-align:center\"></td>\n",
    "            <td style=\"text-align:center\">text data</td>\n",
    "         </tr>\n",
    "          <tr>\n",
    "            <td style=\"text-align:center\">picture_url</td>\n",
    "            <td style=\"text-align:center\"></td>\n",
    "            <td style=\"text-align:center\">text data</td>\n",
    "         </tr>\n",
    "          <tr>\n",
    "            <td style=\"text-align:center\">host_id</td>\n",
    "            <td style=\"text-align:center\"></td>\n",
    "            <td style=\"text-align:center\">text data</td>\n",
    "         </tr>\n",
    "          <tr>\n",
    "            <td style=\"text-align:center\">host_since</td>\n",
    "            <td style=\"text-align:center\"></td>\n",
    "            <td style=\"text-align:center\">text data</td>\n",
    "         </tr>\n",
    "          <tr>\n",
    "            <td style=\"text-align:center\">host_response_time</td>\n",
    "            <td style=\"text-align:center\"></td>\n",
    "            <td style=\"text-align:center\">text data</td>\n",
    "         </tr>\n",
    "          <tr>\n",
    "            <td style=\"text-align:center\">host_response_rate</td>\n",
    "            <td style=\"text-align:center\"></td>\n",
    "            <td style=\"text-align:center\">text data</td>\n",
    "         </tr>\n",
    "          <tr>\n",
    "            <td style=\"text-align:center\">host_is_superhost</td>\n",
    "            <td style=\"text-align:center\"></td>\n",
    "            <td style=\"text-align:center\">text data</td>\n",
    "         </tr>\n",
    "          <tr>\n",
    "            <td style=\"text-align:center\">host_total_listings_count</td>\n",
    "            <td style=\"text-align:center\"></td>\n",
    "            <td style=\"text-align:center\">text data</td>\n",
    "         </tr>\n",
    "          <tr>\n",
    "            <td style=\"text-align:center\">host_has_profile_pic</td>\n",
    "            <td style=\"text-align:center\"></td>\n",
    "            <td style=\"text-align:center\">text data</td>\n",
    "         </tr>\n",
    "          <tr>\n",
    "            <td style=\"text-align:center\">host_identity_verified</td>\n",
    "            <td style=\"text-align:center\"></td>\n",
    "            <td style=\"text-align:center\">text data</td>\n",
    "         </tr>\n",
    "          <tr>\n",
    "            <td style=\"text-align:center\">neighbourhood</td>\n",
    "            <td style=\"text-align:center\"></td>\n",
    "            <td style=\"text-align:center\">text data</td>\n",
    "         </tr>\n",
    "          <tr>\n",
    "            <td style=\"text-align:center\">neighbourhood_cleansed</td>\n",
    "            <td style=\"text-align:center\"></td>\n",
    "            <td style=\"text-align:center\">text data</td>\n",
    "         </tr>\n",
    "          <tr>\n",
    "            <td style=\"text-align:center\">zipcode</td>\n",
    "            <td style=\"text-align:center\"></td>\n",
    "            <td style=\"text-align:center\">text data</td>\n",
    "         </tr>\n",
    "          <tr>\n",
    "            <td style=\"text-align:center\">latitude</td>\n",
    "            <td style=\"text-align:center\"></td>\n",
    "            <td style=\"text-align:center\">text data</td>\n",
    "         </tr>\n",
    "          <tr>\n",
    "            <td style=\"text-align:center\">longitude</td>\n",
    "            <td style=\"text-align:center\"></td>\n",
    "            <td style=\"text-align:center\">text data</td>\n",
    "         </tr>\n",
    "          <tr>\n",
    "            <td style=\"text-align:center\">property_type</td>\n",
    "            <td style=\"text-align:center\"></td>\n",
    "            <td style=\"text-align:center\">text data</td>\n",
    "         </tr>\n",
    "          <tr>\n",
    "            <td style=\"text-align:center\">room_type</td>\n",
    "            <td style=\"text-align:center\"></td>\n",
    "            <td style=\"text-align:center\">text data</td>\n",
    "         </tr>\n",
    "          <tr>\n",
    "            <td style=\"text-align:center\">accommodates</td>\n",
    "            <td style=\"text-align:center\"></td>\n",
    "            <td style=\"text-align:center\">text data</td>\n",
    "         </tr>\n",
    "          <tr>\n",
    "            <td style=\"text-align:center\">bathrooms</td>\n",
    "            <td style=\"text-align:center\"></td>\n",
    "            <td style=\"text-align:center\">text data</td>\n",
    "         </tr>\n",
    "          <tr>\n",
    "            <td style=\"text-align:center\">bedrooms</td>\n",
    "            <td style=\"text-align:center\"></td>\n",
    "            <td style=\"text-align:center\">text data</td>\n",
    "         </tr>\n",
    "          <tr>\n",
    "            <td style=\"text-align:center\">beds</td>\n",
    "            <td style=\"text-align:center\"></td>\n",
    "            <td style=\"text-align:center\">text data</td>\n",
    "         </tr>\n",
    "          <tr>\n",
    "            <td style=\"text-align:center\">bed_type</td>\n",
    "            <td style=\"text-align:center\"></td>\n",
    "            <td style=\"text-align:center\">text data</td>\n",
    "         </tr>\n",
    "          <tr>\n",
    "            <td style=\"text-align:center\">amenities</td>\n",
    "            <td style=\"text-align:center\"></td>\n",
    "            <td style=\"text-align:center\">text data</td>\n",
    "         </tr>\n",
    "          <tr>\n",
    "            <td style=\"text-align:center\">guests_included</td>\n",
    "            <td style=\"text-align:center\"></td>\n",
    "            <td style=\"text-align:center\">text data</td>\n",
    "         </tr>\n",
    "          <tr>\n",
    "            <td style=\"text-align:center\">review_scores_rating</td>\n",
    "            <td style=\"text-align:center\"></td>\n",
    "            <td style=\"text-align:center\">text data</td>\n",
    "         </tr> <tr>\n",
    "            <td style=\"text-align:center\">review_scores_accuracy</td>\n",
    "            <td style=\"text-align:center\"></td>\n",
    "            <td style=\"text-align:center\">text data</td>\n",
    "         </tr>\n",
    "         </tr> <tr>\n",
    "            <td style=\"text-align:center\">review_scores_cleanliness</td>\n",
    "            <td style=\"text-align:center\"></td>\n",
    "            <td style=\"text-align:center\">text data</td>\n",
    "         </tr>\n",
    "         </tr> <tr>\n",
    "            <td style=\"text-align:center\">review_scores_checkin</td>\n",
    "            <td style=\"text-align:center\"></td>\n",
    "            <td style=\"text-align:center\">text data</td>\n",
    "         </tr>\n",
    "         </tr> <tr>\n",
    "            <td style=\"text-align:center\">review_scores_communication</td>\n",
    "            <td style=\"text-align:center\"></td>\n",
    "            <td style=\"text-align:center\">text data</td>\n",
    "         </tr>\n",
    "         </tr> <tr>\n",
    "            <td style=\"text-align:center\">review_scores_location</td>\n",
    "            <td style=\"text-align:center\"></td>\n",
    "            <td style=\"text-align:center\">text data</td>\n",
    "         </tr>\n",
    "         </tr> <tr>\n",
    "            <td style=\"text-align:center\">review_scores_value</td>\n",
    "            <td style=\"text-align:center\"></td>\n",
    "            <td style=\"text-align:center\">text data</td>\n",
    "         </tr>\n",
    "         </tr> <tr>\n",
    "            <td style=\"text-align:center\">cancellation_policy</td>\n",
    "            <td style=\"text-align:center\"></td>\n",
    "            <td style=\"text-align:center\">text data</td>\n",
    "         </tr>\n",
    "         </tr> <tr>\n",
    "            <td style=\"text-align:center\">reviews_per_month</td>\n",
    "            <td style=\"text-align:center\"></td>\n",
    "            <td style=\"text-align:center\">text data</td>\n",
    "         </tr>\n",
    "         </tr> <tr>\n",
    "            <td style=\"text-align:center\">price</td>\n",
    "            <td style=\"text-align:center\"></td>\n",
    "            <td style=\"text-align:center\">text data</td>\n",
    "         </tr>\n",
    "      </table>\n",
    "   </body>\n",
    "</html>\n",
    "\n",
    "         \n",
    "                         \n",
    "                                                \n",
    "\n",
    "The review data set contains the following :\n",
    "\n",
    "<!DOCTYPE html>\n",
    "<html>\n",
    "   <head>\n",
    "      <style>\n",
    "         table, td, th, tr {\n",
    "            border: 1px solid black;\n",
    "            width: 300px;\n",
    "         }\n",
    "      </style>\n",
    "   </head>\n",
    "   <body>\n",
    "      <table>\n",
    "         <tr>\n",
    "            <th>Feature</th>\n",
    "            <th>Description</th>\n",
    "            <th>Data Type</th>\n",
    "         </tr>\n",
    "         <tr>\n",
    "            <td style=\"text-align:center\">reviwer_id</td>\n",
    "            <td style=\"text-align:center\">the actual name of the advertisment</td>\n",
    "            <td style=\"text-align:center\">text data</td>\n",
    "         </tr>\n",
    "         <tr>\n",
    "            <td style=\"text-align:center\">comments</td>\n",
    "            <td style=\"text-align:center\">the actual name of the advertisment</td>\n",
    "            <td style=\"text-align:center\">text data</td>\n",
    "         </tr>\n",
    "         <tr>\n",
    "            <td style=\"text-align:center\">review_id</td>\n",
    "            <td style=\"text-align:center\">the actual name of the advertisment</td>\n",
    "            <td style=\"text-align:center\">text data</td>\n",
    "         </tr>\n",
    "              </table>\n",
    "   </body>\n",
    "</html>\n",
    "\n",
    "\n"
   ],
   "cell_type": "markdown",
   "metadata": {}
  },
  {
   "source": [],
   "cell_type": "markdown",
   "metadata": {}
  },
  {
   "cell_type": "code",
   "execution_count": 4,
   "metadata": {},
   "outputs": [
    {
     "output_type": "stream",
     "name": "stdout",
     "text": [
      "Our train data consists of 55284 rows and 41 columns, while our test data contains 29769 rows and 40 columns.\nThe additional data set reviews consist of 1540778 rows and 3 columns\n"
     ]
    }
   ],
   "source": [
    "print('Our train data consists of {}'.format(train.shape[0]) + ' rows and {}'.format(train.shape[1]) + ' columns, while our test data contains {}'.format(test.shape[0]) + ' rows and {}'.format(test.shape[1]) + ' columns.')\n",
    "print('The additional data set reviews consist of {}'.format(reviews.shape[0]) + ' rows and {}'.format(reviews.shape[1]) + ' columns')"
   ]
  },
  {
   "source": [
    "# A Word on the Experimental Design \n",
    "\n",
    "This Jupyter Notebook builds the core of the project and is intended to provide a common thread regarding data analysis, feature engineering and selection as well as model selection and evaluation of the final method. Nevertheless the main goal is to build a pipeline using .dvc in order to recieve price  predictions for an airbnb in London, United Kingdom [^1].\n",
    "\n",
    "## Tools\n",
    "\n",
    "As we are using a lot of new tools to develop our pipeline let us look at them a little more closely.\n",
    "\n",
    "### Docker\n",
    "\n",
    "The whole project comes with a Dockerfile, which defines our project environment. You can use it but you don't have to. If you're are a Docker Newbie checkout the following Link https://docs.docker.com/get-started/ and make sure Docker is installed. \n",
    "Then run the following commands in your terminal to build a docker image and run the application inside a container.\n",
    "\n",
    "\n",
    "1. *docker build . -t airbnb* \n",
    "2. *docker run -it --name airbnb -v $(pwd):/root/ airbnb bash*\n",
    "\n",
    "Then you should be inside the docker container. To make sure all necessary dependencies are installed please run *pip install -r requirements.txt* inside the terminal of your docker container.\n",
    "\n",
    "If you don't want to use Docker that is totally fine, just run *pip install -r requirements.txt* to have all the packages available.\n",
    "\n",
    "### .DVC\n",
    "\n",
    "https://dvc.org/\n",
    "\n",
    "### Project Architecture\n",
    "\n",
    "fives an overview of the structure of this project\n",
    "\n",
    "    ├── .gitlab-ci.yml: Defines the pipeline for CI.\n",
    "    ├── dockerfile: Defines the environment.\n",
    "    ├── README.md: Top level documentation for developers.\n",
    "    ├── data\n",
    "    │ ├── external: Data from third party sources. \n",
    "    │ ├── interim: Intermediate data that has been transformed.\n",
    "    │ ├── canonical: Final data sets for modeling.\n",
    "    │ └── raw: The original, immutable data dump.\n",
    "    ├── dvc.yaml: Defines the data pipelines.\n",
    "    ├── models: Trained and serialized models, model predictions, or model summaries.\n",
    "    │\n",
    "    ├── notebooks: Jupyter notebook.\n",
    "    ├── references: Data dictionaries, manuals and other explanatory materials.\n",
    "    │\n",
    "    ├── reports: Generated analysis as pdf etc.\n",
    "    ├── requirements.txt: Requirements file python dependencies. \n",
    "    ├── setup.py: Make this project pip installable.\n",
    "    └── src: Source code for use in this project.\n",
    "        ├── __init__.py: Makes `src` a python module\n",
    "        ├── data: Scripts to download or generate data. Scripts to turn raw data into features for modeling.\n",
    "        ├── features: Scripts to turn raw data into features for modeling.\n",
    "        ├── models: Scripts for training and scoring.\n",
    "        └── visualization: Scripts to create exploratory and results oriented visualizations.\n",
    "\n",
    "\n",
    "[^1]: <small> Packaging (installation of the package via pip) of the module is omitted, but is theoretically possible </small>."
   ],
   "cell_type": "markdown",
   "metadata": {}
  },
  {
   "source": [
    "# Data Preprocessing"
   ],
   "cell_type": "markdown",
   "metadata": {}
  },
  {
   "cell_type": "code",
   "execution_count": 5,
   "metadata": {},
   "outputs": [],
   "source": [
    "#  change data types because of memory reasons\n",
    "processor = Processor()\n",
    "train = processor.change_data_types(train)\n",
    "test = processor.change_data_types(test)\n",
    "reviews = processor.change_data_types(reviews)"
   ]
  },
  {
   "source": [
    "## Missing values\n",
    "\n",
    "As the following table shows we have a few missing values in our data. "
   ],
   "cell_type": "markdown",
   "metadata": {}
  },
  {
   "source": [
    "# Missing values in test data\n",
    "test.isnull().sum()"
   ],
   "cell_type": "code",
   "metadata": {},
   "execution_count": 6,
   "outputs": [
    {
     "output_type": "execute_result",
     "data": {
      "text/plain": [
       "name                              10\n",
       "summary                         1577\n",
       "space                           9057\n",
       "description                      943\n",
       "experiences_offered                0\n",
       "neighborhood_overview          10551\n",
       "transit                        10672\n",
       "house_rules                    12580\n",
       "picture_url                        0\n",
       "host_id                            0\n",
       "host_since                        65\n",
       "host_response_time              9572\n",
       "host_response_rate              9572\n",
       "host_is_superhost                  0\n",
       "host_total_listings_count         65\n",
       "host_has_profile_pic               0\n",
       "host_identity_verified             0\n",
       "neighbourhood                     86\n",
       "neighbourhood_cleansed             0\n",
       "zipcode                          635\n",
       "latitude                           0\n",
       "longitude                          0\n",
       "property_type                      0\n",
       "room_type                          0\n",
       "accommodates                       0\n",
       "bathrooms                         50\n",
       "bedrooms                          29\n",
       "beds                             142\n",
       "bed_type                           0\n",
       "amenities                          0\n",
       "guests_included                    0\n",
       "review_scores_rating            7200\n",
       "review_scores_accuracy          7219\n",
       "review_scores_cleanliness       7213\n",
       "review_scores_checkin           7230\n",
       "review_scores_communication     7213\n",
       "review_scores_location          7231\n",
       "review_scores_value             7233\n",
       "cancellation_policy                0\n",
       "reviews_per_month               6628\n",
       "dtype: int64"
      ]
     },
     "metadata": {},
     "execution_count": 6
    }
   ]
  },
  {
   "cell_type": "code",
   "execution_count": 7,
   "metadata": {},
   "outputs": [
    {
     "output_type": "execute_result",
     "data": {
      "text/plain": [
       "name                              14\n",
       "summary                         2954\n",
       "space                          16881\n",
       "description                     1726\n",
       "experiences_offered                0\n",
       "neighborhood_overview          19506\n",
       "transit                        19807\n",
       "house_rules                    23378\n",
       "picture_url                        0\n",
       "host_id                            0\n",
       "host_since                       111\n",
       "host_response_time             17802\n",
       "host_response_rate             17802\n",
       "host_is_superhost                  0\n",
       "host_total_listings_count        111\n",
       "host_has_profile_pic               0\n",
       "host_identity_verified             0\n",
       "neighbourhood                    147\n",
       "neighbourhood_cleansed             0\n",
       "zipcode                         1272\n",
       "latitude                           0\n",
       "longitude                          0\n",
       "property_type                      0\n",
       "room_type                          0\n",
       "accommodates                       0\n",
       "bathrooms                         70\n",
       "bedrooms                          62\n",
       "beds                             262\n",
       "bed_type                           0\n",
       "amenities                          0\n",
       "price                              0\n",
       "guests_included                    0\n",
       "review_scores_rating           13415\n",
       "review_scores_accuracy         13448\n",
       "review_scores_cleanliness      13442\n",
       "review_scores_checkin          13483\n",
       "review_scores_communication    13446\n",
       "review_scores_location         13480\n",
       "review_scores_value            13480\n",
       "cancellation_policy                0\n",
       "reviews_per_month              12380\n",
       "dtype: int64"
      ]
     },
     "metadata": {},
     "execution_count": 7
    }
   ],
   "source": [
    "# Missing values  in train data \n",
    "train.isnull().sum()"
   ]
  },
  {
   "cell_type": "code",
   "execution_count": 8,
   "metadata": {},
   "outputs": [
    {
     "output_type": "execute_result",
     "data": {
      "text/plain": [
       "reviewer_id      0\n",
       "comments       691\n",
       "review_id        0\n",
       "dtype: int64"
      ]
     },
     "metadata": {},
     "execution_count": 8
    }
   ],
   "source": [
    "# Missing values reviews\n",
    "reviews.isnull().sum()"
   ]
  },
  {
   "source": [
    "For some features we will just fill them up with a one because their has to be a bathroom at least one bedroom and one bed even if the bedroom is a living room and the bed a couch, but why then would you need an Airbnb, right ?"
   ],
   "cell_type": "markdown",
   "metadata": {}
  },
  {
   "cell_type": "code",
   "execution_count": 9,
   "metadata": {},
   "outputs": [
    {
     "output_type": "error",
     "ename": "NameError",
     "evalue": "name 'get_missing_zipcodes' is not defined",
     "traceback": [
      "\u001b[0;31m---------------------------------------------------------------------------\u001b[0m",
      "\u001b[0;31mNameError\u001b[0m                                 Traceback (most recent call last)",
      "\u001b[0;32m<ipython-input-9-be6091cec84f>\u001b[0m in \u001b[0;36m<module>\u001b[0;34m\u001b[0m\n\u001b[0;32m----> 1\u001b[0;31m \u001b[0mtrain\u001b[0m \u001b[0;34m=\u001b[0m \u001b[0mprocessor\u001b[0m\u001b[0;34m.\u001b[0m\u001b[0mNaNs\u001b[0m\u001b[0;34m(\u001b[0m\u001b[0mtrain\u001b[0m\u001b[0;34m)\u001b[0m\u001b[0;34m\u001b[0m\u001b[0;34m\u001b[0m\u001b[0m\n\u001b[0m\u001b[1;32m      2\u001b[0m \u001b[0mtest\u001b[0m \u001b[0;34m=\u001b[0m \u001b[0mprocessor\u001b[0m\u001b[0;34m.\u001b[0m\u001b[0mNaNs\u001b[0m\u001b[0;34m(\u001b[0m\u001b[0mtest\u001b[0m\u001b[0;34m)\u001b[0m\u001b[0;34m\u001b[0m\u001b[0;34m\u001b[0m\u001b[0m\n",
      "\u001b[0;32m~/src/features/preprocess/Processor.py\u001b[0m in \u001b[0;36mNaNs\u001b[0;34m(self, df)\u001b[0m\n\u001b[1;32m     90\u001b[0m         \u001b[0mindecies\u001b[0m \u001b[0;34m=\u001b[0m \u001b[0mmissing_zipcodes\u001b[0m\u001b[0;34m.\u001b[0m\u001b[0mindex\u001b[0m\u001b[0;34m.\u001b[0m\u001b[0mvalues\u001b[0m\u001b[0;34m.\u001b[0m\u001b[0mtolist\u001b[0m\u001b[0;34m(\u001b[0m\u001b[0;34m)\u001b[0m\u001b[0;34m\u001b[0m\u001b[0;34m\u001b[0m\u001b[0m\n\u001b[1;32m     91\u001b[0m         \u001b[0;31m# get zipcodes using function get_missing_zipcodes\u001b[0m\u001b[0;34m\u001b[0m\u001b[0;34m\u001b[0m\u001b[0;34m\u001b[0m\u001b[0m\n\u001b[0;32m---> 92\u001b[0;31m         \u001b[0mzipcodes\u001b[0m \u001b[0;34m=\u001b[0m \u001b[0mmissing_zipcodes\u001b[0m\u001b[0;34m.\u001b[0m\u001b[0mapply\u001b[0m\u001b[0;34m(\u001b[0m\u001b[0mget_missing_zipcodes\u001b[0m\u001b[0;34m,\u001b[0m \u001b[0maxis\u001b[0m \u001b[0;34m=\u001b[0m\u001b[0;36m1\u001b[0m\u001b[0;34m,\u001b[0m \u001b[0mlatitude\u001b[0m\u001b[0;34m=\u001b[0m\u001b[0;34m'latitude'\u001b[0m\u001b[0;34m,\u001b[0m \u001b[0mlongitude\u001b[0m\u001b[0;34m=\u001b[0m\u001b[0;34m'longitude'\u001b[0m\u001b[0;34m)\u001b[0m\u001b[0;34m.\u001b[0m\u001b[0mvalues\u001b[0m\u001b[0;34m.\u001b[0m\u001b[0mtolist\u001b[0m\u001b[0;34m(\u001b[0m\u001b[0;34m)\u001b[0m\u001b[0;34m\u001b[0m\u001b[0;34m\u001b[0m\u001b[0m\n\u001b[0m\u001b[1;32m     93\u001b[0m         \u001b[0mdict_\u001b[0m \u001b[0;34m=\u001b[0m \u001b[0mdict\u001b[0m\u001b[0;34m(\u001b[0m\u001b[0mzip\u001b[0m\u001b[0;34m(\u001b[0m\u001b[0mindecies\u001b[0m\u001b[0;34m,\u001b[0m\u001b[0mzipcodes\u001b[0m\u001b[0;34m)\u001b[0m\u001b[0;34m)\u001b[0m\u001b[0;34m\u001b[0m\u001b[0;34m\u001b[0m\u001b[0m\n\u001b[1;32m     94\u001b[0m         \u001b[0mdf\u001b[0m\u001b[0;34m[\u001b[0m\u001b[0;34m'zipcode'\u001b[0m\u001b[0;34m]\u001b[0m \u001b[0;34m=\u001b[0m \u001b[0mdf\u001b[0m\u001b[0;34m.\u001b[0m\u001b[0mzipcode\u001b[0m\u001b[0;34m.\u001b[0m\u001b[0mfillna\u001b[0m\u001b[0;34m(\u001b[0m\u001b[0mdf\u001b[0m\u001b[0;34m.\u001b[0m\u001b[0mindex\u001b[0m\u001b[0;34m.\u001b[0m\u001b[0mmap\u001b[0m\u001b[0;34m(\u001b[0m\u001b[0mdict_\u001b[0m\u001b[0;34m)\u001b[0m\u001b[0;34m)\u001b[0m\u001b[0;34m\u001b[0m\u001b[0;34m\u001b[0m\u001b[0m\n",
      "\u001b[0;31mNameError\u001b[0m: name 'get_missing_zipcodes' is not defined"
     ]
    }
   ],
   "source": [
    "train = processor.NaNs(train, zipcodes)\n",
    "test = processor.NaNs(test,zipcodes)"
   ]
  },
  {
   "cell_type": "code",
   "execution_count": 15,
   "metadata": {},
   "outputs": [],
   "source": [
    "# Merge reviews on train using listing_id\n",
    "trainReview = train.merge(reviews, on='listing_id')"
   ]
  },
  {
   "cell_type": "code",
   "execution_count": 16,
   "metadata": {},
   "outputs": [
    {
     "output_type": "execute_result",
     "data": {
      "text/plain": [
       "                                                     comments  \\\n",
       "listing_id                                                      \n",
       "9Q1RD6H7IO  The best airbnb address on my Thames Path walk...   \n",
       "9Q1RD6H7IO  very satisfied of my stay with Richard. He was...   \n",
       "9Q1RD6H7IO  As I was staying again at Richard’s home, it w...   \n",
       "9Q1RD6H7IO  very pleasant, very clean room.  Just what I n...   \n",
       "9Q1RD6H7IO  The room was very  comfortable and Richard was...   \n",
       "9Q1RD6H7IO  Richard was a lovely host! But we had a couple...   \n",
       "9Q1RD6H7IO  Richard's flat is extremely well located and G...   \n",
       "9Q1RD6H7IO  I had a very comfortable stay in Richard's cos...   \n",
       "9Q1RD6H7IO      Thanks for another comfortable stay Richard.    \n",
       "9Q1RD6H7IO  Richard is a very friendly and pleasant person...   \n",
       "\n",
       "            review_scores_rating  review_scores_accuracy  \\\n",
       "listing_id                                                 \n",
       "9Q1RD6H7IO                  95.0                    10.0   \n",
       "9Q1RD6H7IO                  95.0                    10.0   \n",
       "9Q1RD6H7IO                  95.0                    10.0   \n",
       "9Q1RD6H7IO                  95.0                    10.0   \n",
       "9Q1RD6H7IO                  95.0                    10.0   \n",
       "9Q1RD6H7IO                  95.0                    10.0   \n",
       "9Q1RD6H7IO                  95.0                    10.0   \n",
       "9Q1RD6H7IO                  95.0                    10.0   \n",
       "9Q1RD6H7IO                  95.0                    10.0   \n",
       "9Q1RD6H7IO                  95.0                    10.0   \n",
       "\n",
       "            review_scores_cleanliness  review_scores_checkin  \\\n",
       "listing_id                                                     \n",
       "9Q1RD6H7IO                       10.0                   10.0   \n",
       "9Q1RD6H7IO                       10.0                   10.0   \n",
       "9Q1RD6H7IO                       10.0                   10.0   \n",
       "9Q1RD6H7IO                       10.0                   10.0   \n",
       "9Q1RD6H7IO                       10.0                   10.0   \n",
       "9Q1RD6H7IO                       10.0                   10.0   \n",
       "9Q1RD6H7IO                       10.0                   10.0   \n",
       "9Q1RD6H7IO                       10.0                   10.0   \n",
       "9Q1RD6H7IO                       10.0                   10.0   \n",
       "9Q1RD6H7IO                       10.0                   10.0   \n",
       "\n",
       "            review_scores_communication  review_scores_location  \\\n",
       "listing_id                                                        \n",
       "9Q1RD6H7IO                         10.0                    10.0   \n",
       "9Q1RD6H7IO                         10.0                    10.0   \n",
       "9Q1RD6H7IO                         10.0                    10.0   \n",
       "9Q1RD6H7IO                         10.0                    10.0   \n",
       "9Q1RD6H7IO                         10.0                    10.0   \n",
       "9Q1RD6H7IO                         10.0                    10.0   \n",
       "9Q1RD6H7IO                         10.0                    10.0   \n",
       "9Q1RD6H7IO                         10.0                    10.0   \n",
       "9Q1RD6H7IO                         10.0                    10.0   \n",
       "9Q1RD6H7IO                         10.0                    10.0   \n",
       "\n",
       "            review_scores_value  reviews_per_month  \n",
       "listing_id                                          \n",
       "9Q1RD6H7IO                 10.0               2.37  \n",
       "9Q1RD6H7IO                 10.0               2.37  \n",
       "9Q1RD6H7IO                 10.0               2.37  \n",
       "9Q1RD6H7IO                 10.0               2.37  \n",
       "9Q1RD6H7IO                 10.0               2.37  \n",
       "9Q1RD6H7IO                 10.0               2.37  \n",
       "9Q1RD6H7IO                 10.0               2.37  \n",
       "9Q1RD6H7IO                 10.0               2.37  \n",
       "9Q1RD6H7IO                 10.0               2.37  \n",
       "9Q1RD6H7IO                 10.0               2.37  "
      ],
      "text/html": "<div>\n<style scoped>\n    .dataframe tbody tr th:only-of-type {\n        vertical-align: middle;\n    }\n\n    .dataframe tbody tr th {\n        vertical-align: top;\n    }\n\n    .dataframe thead th {\n        text-align: right;\n    }\n</style>\n<table border=\"1\" class=\"dataframe\">\n  <thead>\n    <tr style=\"text-align: right;\">\n      <th></th>\n      <th>comments</th>\n      <th>review_scores_rating</th>\n      <th>review_scores_accuracy</th>\n      <th>review_scores_cleanliness</th>\n      <th>review_scores_checkin</th>\n      <th>review_scores_communication</th>\n      <th>review_scores_location</th>\n      <th>review_scores_value</th>\n      <th>reviews_per_month</th>\n    </tr>\n    <tr>\n      <th>listing_id</th>\n      <th></th>\n      <th></th>\n      <th></th>\n      <th></th>\n      <th></th>\n      <th></th>\n      <th></th>\n      <th></th>\n      <th></th>\n    </tr>\n  </thead>\n  <tbody>\n    <tr>\n      <th>9Q1RD6H7IO</th>\n      <td>The best airbnb address on my Thames Path walk...</td>\n      <td>95.0</td>\n      <td>10.0</td>\n      <td>10.0</td>\n      <td>10.0</td>\n      <td>10.0</td>\n      <td>10.0</td>\n      <td>10.0</td>\n      <td>2.37</td>\n    </tr>\n    <tr>\n      <th>9Q1RD6H7IO</th>\n      <td>very satisfied of my stay with Richard. He was...</td>\n      <td>95.0</td>\n      <td>10.0</td>\n      <td>10.0</td>\n      <td>10.0</td>\n      <td>10.0</td>\n      <td>10.0</td>\n      <td>10.0</td>\n      <td>2.37</td>\n    </tr>\n    <tr>\n      <th>9Q1RD6H7IO</th>\n      <td>As I was staying again at Richard’s home, it w...</td>\n      <td>95.0</td>\n      <td>10.0</td>\n      <td>10.0</td>\n      <td>10.0</td>\n      <td>10.0</td>\n      <td>10.0</td>\n      <td>10.0</td>\n      <td>2.37</td>\n    </tr>\n    <tr>\n      <th>9Q1RD6H7IO</th>\n      <td>very pleasant, very clean room.  Just what I n...</td>\n      <td>95.0</td>\n      <td>10.0</td>\n      <td>10.0</td>\n      <td>10.0</td>\n      <td>10.0</td>\n      <td>10.0</td>\n      <td>10.0</td>\n      <td>2.37</td>\n    </tr>\n    <tr>\n      <th>9Q1RD6H7IO</th>\n      <td>The room was very  comfortable and Richard was...</td>\n      <td>95.0</td>\n      <td>10.0</td>\n      <td>10.0</td>\n      <td>10.0</td>\n      <td>10.0</td>\n      <td>10.0</td>\n      <td>10.0</td>\n      <td>2.37</td>\n    </tr>\n    <tr>\n      <th>9Q1RD6H7IO</th>\n      <td>Richard was a lovely host! But we had a couple...</td>\n      <td>95.0</td>\n      <td>10.0</td>\n      <td>10.0</td>\n      <td>10.0</td>\n      <td>10.0</td>\n      <td>10.0</td>\n      <td>10.0</td>\n      <td>2.37</td>\n    </tr>\n    <tr>\n      <th>9Q1RD6H7IO</th>\n      <td>Richard's flat is extremely well located and G...</td>\n      <td>95.0</td>\n      <td>10.0</td>\n      <td>10.0</td>\n      <td>10.0</td>\n      <td>10.0</td>\n      <td>10.0</td>\n      <td>10.0</td>\n      <td>2.37</td>\n    </tr>\n    <tr>\n      <th>9Q1RD6H7IO</th>\n      <td>I had a very comfortable stay in Richard's cos...</td>\n      <td>95.0</td>\n      <td>10.0</td>\n      <td>10.0</td>\n      <td>10.0</td>\n      <td>10.0</td>\n      <td>10.0</td>\n      <td>10.0</td>\n      <td>2.37</td>\n    </tr>\n    <tr>\n      <th>9Q1RD6H7IO</th>\n      <td>Thanks for another comfortable stay Richard.</td>\n      <td>95.0</td>\n      <td>10.0</td>\n      <td>10.0</td>\n      <td>10.0</td>\n      <td>10.0</td>\n      <td>10.0</td>\n      <td>10.0</td>\n      <td>2.37</td>\n    </tr>\n    <tr>\n      <th>9Q1RD6H7IO</th>\n      <td>Richard is a very friendly and pleasant person...</td>\n      <td>95.0</td>\n      <td>10.0</td>\n      <td>10.0</td>\n      <td>10.0</td>\n      <td>10.0</td>\n      <td>10.0</td>\n      <td>10.0</td>\n      <td>2.37</td>\n    </tr>\n  </tbody>\n</table>\n</div>"
     },
     "metadata": {},
     "execution_count": 16
    }
   ],
   "source": [
    "trainReview[['comments', 'review_scores_rating','review_scores_accuracy','review_scores_cleanliness','review_scores_checkin',\t'review_scores_communication',\t'review_scores_location',\t'review_scores_value', 'reviews_per_month']].head(10)"
   ]
  },
  {
   "source": [
    "In order to get a better grip of our data, we split our traing data into different categories, to make analysation simpler.\n",
    "Dataframe host which contain infos about the host of the airbnb, the information in airbnb itself and the information about the reviews."
   ],
   "cell_type": "markdown",
   "metadata": {}
  },
  {
   "cell_type": "code",
   "execution_count": 17,
   "metadata": {},
   "outputs": [],
   "source": [
    "# lets split our data set in 3 different categories to make analyse simpler\n",
    "host, airbnb, review_scores = Processor().split_df(train)"
   ]
  },
  {
   "source": [
    "As we will consider some features later during our analysis will narrow our dataframes down to specfic columns."
   ],
   "cell_type": "markdown",
   "metadata": {}
  },
  {
   "source": [
    "airbnb = airbnb.drop(['picture_url', 'longitude', 'latitude', 'zipcode', 'neighbourhood'], axis=1)"
   ],
   "cell_type": "code",
   "metadata": {},
   "execution_count": 18,
   "outputs": []
  },
  {
   "cell_type": "code",
   "execution_count": 19,
   "metadata": {},
   "outputs": [
    {
     "output_type": "execute_result",
     "data": {
      "text/plain": [
       "       review_scores_rating  review_scores_accuracy  \\\n",
       "count          41869.000000            41836.000000   \n",
       "mean              92.533043                9.502869   \n",
       "std               10.030621                0.982464   \n",
       "min               20.000000                2.000000   \n",
       "25%               90.000000                9.000000   \n",
       "50%               96.000000               10.000000   \n",
       "75%              100.000000               10.000000   \n",
       "max              100.000000               10.000000   \n",
       "\n",
       "       review_scores_cleanliness  review_scores_checkin  \\\n",
       "count               41842.000000           41801.000000   \n",
       "mean                    9.261484               9.622043   \n",
       "std                     1.138548               0.894931   \n",
       "min                     2.000000               2.000000   \n",
       "25%                     9.000000              10.000000   \n",
       "50%                    10.000000              10.000000   \n",
       "75%                    10.000000              10.000000   \n",
       "max                    10.000000              10.000000   \n",
       "\n",
       "       review_scores_communication  review_scores_location  \\\n",
       "count                 41838.000000            41804.000000   \n",
       "mean                      9.652851                9.541623   \n",
       "std                       0.873805                0.810408   \n",
       "min                       2.000000                2.000000   \n",
       "25%                      10.000000                9.000000   \n",
       "50%                      10.000000               10.000000   \n",
       "75%                      10.000000               10.000000   \n",
       "max                      10.000000               10.000000   \n",
       "\n",
       "       review_scores_value  reviews_per_month  \n",
       "count         41804.000000       42904.000000  \n",
       "mean              9.262846           1.164464  \n",
       "std               1.033351           1.353819  \n",
       "min               2.000000           0.010000  \n",
       "25%               9.000000           0.240000  \n",
       "50%               9.000000           0.730000  \n",
       "75%              10.000000           1.570000  \n",
       "max              10.000000          22.040001  "
      ],
      "text/html": "<div>\n<style scoped>\n    .dataframe tbody tr th:only-of-type {\n        vertical-align: middle;\n    }\n\n    .dataframe tbody tr th {\n        vertical-align: top;\n    }\n\n    .dataframe thead th {\n        text-align: right;\n    }\n</style>\n<table border=\"1\" class=\"dataframe\">\n  <thead>\n    <tr style=\"text-align: right;\">\n      <th></th>\n      <th>review_scores_rating</th>\n      <th>review_scores_accuracy</th>\n      <th>review_scores_cleanliness</th>\n      <th>review_scores_checkin</th>\n      <th>review_scores_communication</th>\n      <th>review_scores_location</th>\n      <th>review_scores_value</th>\n      <th>reviews_per_month</th>\n    </tr>\n  </thead>\n  <tbody>\n    <tr>\n      <th>count</th>\n      <td>41869.000000</td>\n      <td>41836.000000</td>\n      <td>41842.000000</td>\n      <td>41801.000000</td>\n      <td>41838.000000</td>\n      <td>41804.000000</td>\n      <td>41804.000000</td>\n      <td>42904.000000</td>\n    </tr>\n    <tr>\n      <th>mean</th>\n      <td>92.533043</td>\n      <td>9.502869</td>\n      <td>9.261484</td>\n      <td>9.622043</td>\n      <td>9.652851</td>\n      <td>9.541623</td>\n      <td>9.262846</td>\n      <td>1.164464</td>\n    </tr>\n    <tr>\n      <th>std</th>\n      <td>10.030621</td>\n      <td>0.982464</td>\n      <td>1.138548</td>\n      <td>0.894931</td>\n      <td>0.873805</td>\n      <td>0.810408</td>\n      <td>1.033351</td>\n      <td>1.353819</td>\n    </tr>\n    <tr>\n      <th>min</th>\n      <td>20.000000</td>\n      <td>2.000000</td>\n      <td>2.000000</td>\n      <td>2.000000</td>\n      <td>2.000000</td>\n      <td>2.000000</td>\n      <td>2.000000</td>\n      <td>0.010000</td>\n    </tr>\n    <tr>\n      <th>25%</th>\n      <td>90.000000</td>\n      <td>9.000000</td>\n      <td>9.000000</td>\n      <td>10.000000</td>\n      <td>10.000000</td>\n      <td>9.000000</td>\n      <td>9.000000</td>\n      <td>0.240000</td>\n    </tr>\n    <tr>\n      <th>50%</th>\n      <td>96.000000</td>\n      <td>10.000000</td>\n      <td>10.000000</td>\n      <td>10.000000</td>\n      <td>10.000000</td>\n      <td>10.000000</td>\n      <td>9.000000</td>\n      <td>0.730000</td>\n    </tr>\n    <tr>\n      <th>75%</th>\n      <td>100.000000</td>\n      <td>10.000000</td>\n      <td>10.000000</td>\n      <td>10.000000</td>\n      <td>10.000000</td>\n      <td>10.000000</td>\n      <td>10.000000</td>\n      <td>1.570000</td>\n    </tr>\n    <tr>\n      <th>max</th>\n      <td>100.000000</td>\n      <td>10.000000</td>\n      <td>10.000000</td>\n      <td>10.000000</td>\n      <td>10.000000</td>\n      <td>10.000000</td>\n      <td>10.000000</td>\n      <td>22.040001</td>\n    </tr>\n  </tbody>\n</table>\n</div>"
     },
     "metadata": {},
     "execution_count": 19
    }
   ],
   "source": [
    "review_scores.describe()"
   ]
  },
  {
   "source": [
    "# Explorative Data Analysis"
   ],
   "cell_type": "markdown",
   "metadata": {}
  },
  {
   "cell_type": "code",
   "execution_count": 20,
   "metadata": {},
   "outputs": [
    {
     "output_type": "execute_result",
     "data": {
      "text/plain": [
       "       accommodates     bathrooms      bedrooms          beds         price  \\\n",
       "count  55284.000000  55284.000000  55284.000000  55284.000000  55284.000000   \n",
       "mean       3.131756      1.283491      1.373453      1.707293    104.308754   \n",
       "std        1.930209      0.566288      0.859057      1.222371     83.740410   \n",
       "min        1.000000      0.000000      0.000000      0.000000     10.000000   \n",
       "25%        2.000000      1.000000      1.000000      1.000000     45.000000   \n",
       "50%        2.000000      1.000000      1.000000      1.000000     80.000000   \n",
       "75%        4.000000      1.500000      2.000000      2.000000    130.000000   \n",
       "max       16.000000     11.000000     19.000000     21.000000    500.000000   \n",
       "\n",
       "       guests_included  \n",
       "count     55284.000000  \n",
       "mean          1.574832  \n",
       "std           1.263427  \n",
       "min           1.000000  \n",
       "25%           1.000000  \n",
       "50%           1.000000  \n",
       "75%           2.000000  \n",
       "max          46.000000  "
      ],
      "text/html": "<div>\n<style scoped>\n    .dataframe tbody tr th:only-of-type {\n        vertical-align: middle;\n    }\n\n    .dataframe tbody tr th {\n        vertical-align: top;\n    }\n\n    .dataframe thead th {\n        text-align: right;\n    }\n</style>\n<table border=\"1\" class=\"dataframe\">\n  <thead>\n    <tr style=\"text-align: right;\">\n      <th></th>\n      <th>accommodates</th>\n      <th>bathrooms</th>\n      <th>bedrooms</th>\n      <th>beds</th>\n      <th>price</th>\n      <th>guests_included</th>\n    </tr>\n  </thead>\n  <tbody>\n    <tr>\n      <th>count</th>\n      <td>55284.000000</td>\n      <td>55284.000000</td>\n      <td>55284.000000</td>\n      <td>55284.000000</td>\n      <td>55284.000000</td>\n      <td>55284.000000</td>\n    </tr>\n    <tr>\n      <th>mean</th>\n      <td>3.131756</td>\n      <td>1.283491</td>\n      <td>1.373453</td>\n      <td>1.707293</td>\n      <td>104.308754</td>\n      <td>1.574832</td>\n    </tr>\n    <tr>\n      <th>std</th>\n      <td>1.930209</td>\n      <td>0.566288</td>\n      <td>0.859057</td>\n      <td>1.222371</td>\n      <td>83.740410</td>\n      <td>1.263427</td>\n    </tr>\n    <tr>\n      <th>min</th>\n      <td>1.000000</td>\n      <td>0.000000</td>\n      <td>0.000000</td>\n      <td>0.000000</td>\n      <td>10.000000</td>\n      <td>1.000000</td>\n    </tr>\n    <tr>\n      <th>25%</th>\n      <td>2.000000</td>\n      <td>1.000000</td>\n      <td>1.000000</td>\n      <td>1.000000</td>\n      <td>45.000000</td>\n      <td>1.000000</td>\n    </tr>\n    <tr>\n      <th>50%</th>\n      <td>2.000000</td>\n      <td>1.000000</td>\n      <td>1.000000</td>\n      <td>1.000000</td>\n      <td>80.000000</td>\n      <td>1.000000</td>\n    </tr>\n    <tr>\n      <th>75%</th>\n      <td>4.000000</td>\n      <td>1.500000</td>\n      <td>2.000000</td>\n      <td>2.000000</td>\n      <td>130.000000</td>\n      <td>2.000000</td>\n    </tr>\n    <tr>\n      <th>max</th>\n      <td>16.000000</td>\n      <td>11.000000</td>\n      <td>19.000000</td>\n      <td>21.000000</td>\n      <td>500.000000</td>\n      <td>46.000000</td>\n    </tr>\n  </tbody>\n</table>\n</div>"
     },
     "metadata": {},
     "execution_count": 20
    }
   ],
   "source": [
    "airbnb.describe()"
   ]
  },
  {
   "cell_type": "code",
   "execution_count": 21,
   "metadata": {},
   "outputs": [],
   "source": [
    "# Price distribution "
   ]
  },
  {
   "source": [
    "Regarding the features , makes sense "
   ],
   "cell_type": "markdown",
   "metadata": {}
  },
  {
   "cell_type": "code",
   "execution_count": 22,
   "metadata": {},
   "outputs": [
    {
     "output_type": "display_data",
     "data": {
      "text/plain": "<Figure size 432x288 with 2 Axes>",
      "image/svg+xml": "<?xml version=\"1.0\" encoding=\"utf-8\" standalone=\"no\"?>\n<!DOCTYPE svg PUBLIC \"-//W3C//DTD SVG 1.1//EN\"\n  \"http://www.w3.org/Graphics/SVG/1.1/DTD/svg11.dtd\">\n<svg height=\"340.715938pt\" version=\"1.1\" viewBox=\"0 0 435.255125 340.715938\" width=\"435.255125pt\" xmlns=\"http://www.w3.org/2000/svg\" xmlns:xlink=\"http://www.w3.org/1999/xlink\">\n <metadata>\n  <rdf:RDF xmlns:cc=\"http://creativecommons.org/ns#\" xmlns:dc=\"http://purl.org/dc/elements/1.1/\" xmlns:rdf=\"http://www.w3.org/1999/02/22-rdf-syntax-ns#\">\n   <cc:Work>\n    <dc:type rdf:resource=\"http://purl.org/dc/dcmitype/StillImage\"/>\n    <dc:date>2021-05-23T16:13:52.423342</dc:date>\n    <dc:format>image/svg+xml</dc:format>\n    <dc:creator>\n     <cc:Agent>\n      <dc:title>Matplotlib v3.4.2, https://matplotlib.org/</dc:title>\n     </cc:Agent>\n    </dc:creator>\n   </cc:Work>\n  </rdf:RDF>\n </metadata>\n <defs>\n  <style type=\"text/css\">*{stroke-linecap:butt;stroke-linejoin:round;}</style>\n </defs>\n <g id=\"figure_1\">\n  <g id=\"patch_1\">\n   <path d=\"M 0 340.715938 \nL 435.255125 340.715938 \nL 435.255125 0 \nL 0 0 \nz\n\" style=\"fill:none;\"/>\n  </g>\n  <g id=\"axes_1\">\n   <g id=\"patch_2\">\n    <path d=\"M 94.957812 245.758125 \nL 362.797813 245.758125 \nL 362.797813 28.318125 \nL 94.957812 28.318125 \nz\n\" style=\"fill:#ffffff;\"/>\n   </g>\n   <g id=\"QuadMesh_1\">\n    <path clip-path=\"url(#pbcbf78416d)\" d=\"M 94.957812 28.318125 \nL 139.597812 28.318125 \nL 139.597812 64.558125 \nL 94.957812 64.558125 \nL 94.957812 28.318125 \n\" style=\"fill:#faebdd;\"/>\n    <path clip-path=\"url(#pbcbf78416d)\" d=\"M 139.597812 28.318125 \nL 184.237812 28.318125 \nL 184.237812 64.558125 \nL 139.597812 64.558125 \nL 139.597812 28.318125 \n\" style=\"fill:#f16646;\"/>\n    <path clip-path=\"url(#pbcbf78416d)\" d=\"M 184.237812 28.318125 \nL 228.877813 28.318125 \nL 228.877813 64.558125 \nL 184.237812 64.558125 \nL 184.237812 28.318125 \n\" style=\"fill:#f6b691;\"/>\n    <path clip-path=\"url(#pbcbf78416d)\" d=\"M 228.877813 28.318125 \nL 273.517812 28.318125 \nL 273.517812 64.558125 \nL 228.877813 64.558125 \nL 228.877813 28.318125 \n\" style=\"fill:#f7caac;\"/>\n    <path clip-path=\"url(#pbcbf78416d)\" d=\"M 273.517812 28.318125 \nL 318.157812 28.318125 \nL 318.157812 64.558125 \nL 273.517812 64.558125 \nL 273.517812 28.318125 \n\" style=\"fill:#f6a880;\"/>\n    <path clip-path=\"url(#pbcbf78416d)\" d=\"M 318.157812 28.318125 \nL 362.797813 28.318125 \nL 362.797813 64.558125 \nL 318.157812 64.558125 \nL 318.157812 28.318125 \n\" style=\"fill:#f59970;\"/>\n    <path clip-path=\"url(#pbcbf78416d)\" d=\"M 94.957812 64.558125 \nL 139.597812 64.558125 \nL 139.597812 100.798125 \nL 94.957812 100.798125 \nL 94.957812 64.558125 \n\" style=\"fill:#f16646;\"/>\n    <path clip-path=\"url(#pbcbf78416d)\" d=\"M 139.597812 64.558125 \nL 184.237812 64.558125 \nL 184.237812 100.798125 \nL 139.597812 100.798125 \nL 139.597812 64.558125 \n\" style=\"fill:#faebdd;\"/>\n    <path clip-path=\"url(#pbcbf78416d)\" d=\"M 184.237812 64.558125 \nL 228.877813 64.558125 \nL 228.877813 100.798125 \nL 184.237812 100.798125 \nL 184.237812 64.558125 \n\" style=\"fill:#f37651;\"/>\n    <path clip-path=\"url(#pbcbf78416d)\" d=\"M 228.877813 64.558125 \nL 273.517812 64.558125 \nL 273.517812 100.798125 \nL 228.877813 100.798125 \nL 228.877813 64.558125 \n\" style=\"fill:#f26747;\"/>\n    <path clip-path=\"url(#pbcbf78416d)\" d=\"M 273.517812 64.558125 \nL 318.157812 64.558125 \nL 318.157812 100.798125 \nL 273.517812 100.798125 \nL 273.517812 64.558125 \n\" style=\"fill:#ef5a41;\"/>\n    <path clip-path=\"url(#pbcbf78416d)\" d=\"M 318.157812 64.558125 \nL 362.797813 64.558125 \nL 362.797813 100.798125 \nL 318.157812 100.798125 \nL 318.157812 64.558125 \n\" style=\"fill:#eb483e;\"/>\n    <path clip-path=\"url(#pbcbf78416d)\" d=\"M 94.957812 100.798125 \nL 139.597812 100.798125 \nL 139.597812 137.038125 \nL 94.957812 137.038125 \nL 94.957812 100.798125 \n\" style=\"fill:#f6b691;\"/>\n    <path clip-path=\"url(#pbcbf78416d)\" d=\"M 139.597812 100.798125 \nL 184.237812 100.798125 \nL 184.237812 137.038125 \nL 139.597812 137.038125 \nL 139.597812 100.798125 \n\" style=\"fill:#f37651;\"/>\n    <path clip-path=\"url(#pbcbf78416d)\" d=\"M 184.237812 100.798125 \nL 228.877813 100.798125 \nL 228.877813 137.038125 \nL 184.237812 137.038125 \nL 184.237812 100.798125 \n\" style=\"fill:#faebdd;\"/>\n    <path clip-path=\"url(#pbcbf78416d)\" d=\"M 228.877813 100.798125 \nL 273.517812 100.798125 \nL 273.517812 137.038125 \nL 228.877813 137.038125 \nL 228.877813 100.798125 \n\" style=\"fill:#f6ab83;\"/>\n    <path clip-path=\"url(#pbcbf78416d)\" d=\"M 273.517812 100.798125 \nL 318.157812 100.798125 \nL 318.157812 137.038125 \nL 273.517812 137.038125 \nL 273.517812 100.798125 \n\" style=\"fill:#f5966c;\"/>\n    <path clip-path=\"url(#pbcbf78416d)\" d=\"M 318.157812 100.798125 \nL 362.797813 100.798125 \nL 362.797813 137.038125 \nL 318.157812 137.038125 \nL 318.157812 100.798125 \n\" style=\"fill:#f4835b;\"/>\n    <path clip-path=\"url(#pbcbf78416d)\" d=\"M 94.957812 137.038125 \nL 139.597812 137.038125 \nL 139.597812 173.278125 \nL 94.957812 173.278125 \nL 94.957812 137.038125 \n\" style=\"fill:#f7caac;\"/>\n    <path clip-path=\"url(#pbcbf78416d)\" d=\"M 139.597812 137.038125 \nL 184.237812 137.038125 \nL 184.237812 173.278125 \nL 139.597812 173.278125 \nL 139.597812 137.038125 \n\" style=\"fill:#f26747;\"/>\n    <path clip-path=\"url(#pbcbf78416d)\" d=\"M 184.237812 137.038125 \nL 228.877813 137.038125 \nL 228.877813 173.278125 \nL 184.237812 173.278125 \nL 184.237812 137.038125 \n\" style=\"fill:#f6ab83;\"/>\n    <path clip-path=\"url(#pbcbf78416d)\" d=\"M 228.877813 137.038125 \nL 273.517812 137.038125 \nL 273.517812 173.278125 \nL 228.877813 173.278125 \nL 228.877813 137.038125 \n\" style=\"fill:#faebdd;\"/>\n    <path clip-path=\"url(#pbcbf78416d)\" d=\"M 273.517812 137.038125 \nL 318.157812 137.038125 \nL 318.157812 173.278125 \nL 273.517812 173.278125 \nL 273.517812 137.038125 \n\" style=\"fill:#f58b63;\"/>\n    <path clip-path=\"url(#pbcbf78416d)\" d=\"M 318.157812 137.038125 \nL 362.797813 137.038125 \nL 362.797813 173.278125 \nL 318.157812 173.278125 \nL 318.157812 137.038125 \n\" style=\"fill:#f4835b;\"/>\n    <path clip-path=\"url(#pbcbf78416d)\" d=\"M 94.957812 173.278125 \nL 139.597812 173.278125 \nL 139.597812 209.518125 \nL 94.957812 209.518125 \nL 94.957812 173.278125 \n\" style=\"fill:#f6a880;\"/>\n    <path clip-path=\"url(#pbcbf78416d)\" d=\"M 139.597812 173.278125 \nL 184.237812 173.278125 \nL 184.237812 209.518125 \nL 139.597812 209.518125 \nL 139.597812 173.278125 \n\" style=\"fill:#ef5a41;\"/>\n    <path clip-path=\"url(#pbcbf78416d)\" d=\"M 184.237812 173.278125 \nL 228.877813 173.278125 \nL 228.877813 209.518125 \nL 184.237812 209.518125 \nL 184.237812 173.278125 \n\" style=\"fill:#f5966c;\"/>\n    <path clip-path=\"url(#pbcbf78416d)\" d=\"M 228.877813 173.278125 \nL 273.517812 173.278125 \nL 273.517812 209.518125 \nL 228.877813 209.518125 \nL 228.877813 173.278125 \n\" style=\"fill:#f58b63;\"/>\n    <path clip-path=\"url(#pbcbf78416d)\" d=\"M 273.517812 173.278125 \nL 318.157812 173.278125 \nL 318.157812 209.518125 \nL 273.517812 209.518125 \nL 273.517812 173.278125 \n\" style=\"fill:#faebdd;\"/>\n    <path clip-path=\"url(#pbcbf78416d)\" d=\"M 318.157812 173.278125 \nL 362.797813 173.278125 \nL 362.797813 209.518125 \nL 318.157812 209.518125 \nL 318.157812 173.278125 \n\" style=\"fill:#f47d57;\"/>\n    <path clip-path=\"url(#pbcbf78416d)\" d=\"M 94.957812 209.518125 \nL 139.597812 209.518125 \nL 139.597812 245.758125 \nL 94.957812 245.758125 \nL 94.957812 209.518125 \n\" style=\"fill:#f59970;\"/>\n    <path clip-path=\"url(#pbcbf78416d)\" d=\"M 139.597812 209.518125 \nL 184.237812 209.518125 \nL 184.237812 245.758125 \nL 139.597812 245.758125 \nL 139.597812 209.518125 \n\" style=\"fill:#eb483e;\"/>\n    <path clip-path=\"url(#pbcbf78416d)\" d=\"M 184.237812 209.518125 \nL 228.877813 209.518125 \nL 228.877813 245.758125 \nL 184.237812 245.758125 \nL 184.237812 209.518125 \n\" style=\"fill:#f4835b;\"/>\n    <path clip-path=\"url(#pbcbf78416d)\" d=\"M 228.877813 209.518125 \nL 273.517812 209.518125 \nL 273.517812 245.758125 \nL 228.877813 245.758125 \nL 228.877813 209.518125 \n\" style=\"fill:#f4835b;\"/>\n    <path clip-path=\"url(#pbcbf78416d)\" d=\"M 273.517812 209.518125 \nL 318.157812 209.518125 \nL 318.157812 245.758125 \nL 273.517812 245.758125 \nL 273.517812 209.518125 \n\" style=\"fill:#f47d57;\"/>\n    <path clip-path=\"url(#pbcbf78416d)\" d=\"M 318.157812 209.518125 \nL 362.797813 209.518125 \nL 362.797813 245.758125 \nL 318.157812 245.758125 \nL 318.157812 209.518125 \n\" style=\"fill:#faebdd;\"/>\n   </g>\n   <g id=\"matplotlib.axis_1\">\n    <g id=\"xtick_1\">\n     <g id=\"line2d_1\">\n      <defs>\n       <path d=\"M 0 0 \nL 0 3.5 \n\" id=\"mf264b4b01d\" style=\"stroke:#000000;stroke-width:0.8;\"/>\n      </defs>\n      <g>\n       <use style=\"stroke:#000000;stroke-width:0.8;\" x=\"117.277812\" xlink:href=\"#mf264b4b01d\" y=\"245.758125\"/>\n      </g>\n     </g>\n     <g id=\"text_1\">\n      <!-- accommodates -->\n      <g transform=\"translate(120.037187 329.36125)rotate(-90)scale(0.1 -0.1)\">\n       <defs>\n        <path d=\"M 2194 1759 \nQ 1497 1759 1228 1600 \nQ 959 1441 959 1056 \nQ 959 750 1161 570 \nQ 1363 391 1709 391 \nQ 2188 391 2477 730 \nQ 2766 1069 2766 1631 \nL 2766 1759 \nL 2194 1759 \nz\nM 3341 1997 \nL 3341 0 \nL 2766 0 \nL 2766 531 \nQ 2569 213 2275 61 \nQ 1981 -91 1556 -91 \nQ 1019 -91 701 211 \nQ 384 513 384 1019 \nQ 384 1609 779 1909 \nQ 1175 2209 1959 2209 \nL 2766 2209 \nL 2766 2266 \nQ 2766 2663 2505 2880 \nQ 2244 3097 1772 3097 \nQ 1472 3097 1187 3025 \nQ 903 2953 641 2809 \nL 641 3341 \nQ 956 3463 1253 3523 \nQ 1550 3584 1831 3584 \nQ 2591 3584 2966 3190 \nQ 3341 2797 3341 1997 \nz\n\" id=\"DejaVuSans-61\" transform=\"scale(0.015625)\"/>\n        <path d=\"M 3122 3366 \nL 3122 2828 \nQ 2878 2963 2633 3030 \nQ 2388 3097 2138 3097 \nQ 1578 3097 1268 2742 \nQ 959 2388 959 1747 \nQ 959 1106 1268 751 \nQ 1578 397 2138 397 \nQ 2388 397 2633 464 \nQ 2878 531 3122 666 \nL 3122 134 \nQ 2881 22 2623 -34 \nQ 2366 -91 2075 -91 \nQ 1284 -91 818 406 \nQ 353 903 353 1747 \nQ 353 2603 823 3093 \nQ 1294 3584 2113 3584 \nQ 2378 3584 2631 3529 \nQ 2884 3475 3122 3366 \nz\n\" id=\"DejaVuSans-63\" transform=\"scale(0.015625)\"/>\n        <path d=\"M 1959 3097 \nQ 1497 3097 1228 2736 \nQ 959 2375 959 1747 \nQ 959 1119 1226 758 \nQ 1494 397 1959 397 \nQ 2419 397 2687 759 \nQ 2956 1122 2956 1747 \nQ 2956 2369 2687 2733 \nQ 2419 3097 1959 3097 \nz\nM 1959 3584 \nQ 2709 3584 3137 3096 \nQ 3566 2609 3566 1747 \nQ 3566 888 3137 398 \nQ 2709 -91 1959 -91 \nQ 1206 -91 779 398 \nQ 353 888 353 1747 \nQ 353 2609 779 3096 \nQ 1206 3584 1959 3584 \nz\n\" id=\"DejaVuSans-6f\" transform=\"scale(0.015625)\"/>\n        <path d=\"M 3328 2828 \nQ 3544 3216 3844 3400 \nQ 4144 3584 4550 3584 \nQ 5097 3584 5394 3201 \nQ 5691 2819 5691 2113 \nL 5691 0 \nL 5113 0 \nL 5113 2094 \nQ 5113 2597 4934 2840 \nQ 4756 3084 4391 3084 \nQ 3944 3084 3684 2787 \nQ 3425 2491 3425 1978 \nL 3425 0 \nL 2847 0 \nL 2847 2094 \nQ 2847 2600 2669 2842 \nQ 2491 3084 2119 3084 \nQ 1678 3084 1418 2786 \nQ 1159 2488 1159 1978 \nL 1159 0 \nL 581 0 \nL 581 3500 \nL 1159 3500 \nL 1159 2956 \nQ 1356 3278 1631 3431 \nQ 1906 3584 2284 3584 \nQ 2666 3584 2933 3390 \nQ 3200 3197 3328 2828 \nz\n\" id=\"DejaVuSans-6d\" transform=\"scale(0.015625)\"/>\n        <path d=\"M 2906 2969 \nL 2906 4863 \nL 3481 4863 \nL 3481 0 \nL 2906 0 \nL 2906 525 \nQ 2725 213 2448 61 \nQ 2172 -91 1784 -91 \nQ 1150 -91 751 415 \nQ 353 922 353 1747 \nQ 353 2572 751 3078 \nQ 1150 3584 1784 3584 \nQ 2172 3584 2448 3432 \nQ 2725 3281 2906 2969 \nz\nM 947 1747 \nQ 947 1113 1208 752 \nQ 1469 391 1925 391 \nQ 2381 391 2643 752 \nQ 2906 1113 2906 1747 \nQ 2906 2381 2643 2742 \nQ 2381 3103 1925 3103 \nQ 1469 3103 1208 2742 \nQ 947 2381 947 1747 \nz\n\" id=\"DejaVuSans-64\" transform=\"scale(0.015625)\"/>\n        <path d=\"M 1172 4494 \nL 1172 3500 \nL 2356 3500 \nL 2356 3053 \nL 1172 3053 \nL 1172 1153 \nQ 1172 725 1289 603 \nQ 1406 481 1766 481 \nL 2356 481 \nL 2356 0 \nL 1766 0 \nQ 1100 0 847 248 \nQ 594 497 594 1153 \nL 594 3053 \nL 172 3053 \nL 172 3500 \nL 594 3500 \nL 594 4494 \nL 1172 4494 \nz\n\" id=\"DejaVuSans-74\" transform=\"scale(0.015625)\"/>\n        <path d=\"M 3597 1894 \nL 3597 1613 \nL 953 1613 \nQ 991 1019 1311 708 \nQ 1631 397 2203 397 \nQ 2534 397 2845 478 \nQ 3156 559 3463 722 \nL 3463 178 \nQ 3153 47 2828 -22 \nQ 2503 -91 2169 -91 \nQ 1331 -91 842 396 \nQ 353 884 353 1716 \nQ 353 2575 817 3079 \nQ 1281 3584 2069 3584 \nQ 2775 3584 3186 3129 \nQ 3597 2675 3597 1894 \nz\nM 3022 2063 \nQ 3016 2534 2758 2815 \nQ 2500 3097 2075 3097 \nQ 1594 3097 1305 2825 \nQ 1016 2553 972 2059 \nL 3022 2063 \nz\n\" id=\"DejaVuSans-65\" transform=\"scale(0.015625)\"/>\n        <path d=\"M 2834 3397 \nL 2834 2853 \nQ 2591 2978 2328 3040 \nQ 2066 3103 1784 3103 \nQ 1356 3103 1142 2972 \nQ 928 2841 928 2578 \nQ 928 2378 1081 2264 \nQ 1234 2150 1697 2047 \nL 1894 2003 \nQ 2506 1872 2764 1633 \nQ 3022 1394 3022 966 \nQ 3022 478 2636 193 \nQ 2250 -91 1575 -91 \nQ 1294 -91 989 -36 \nQ 684 19 347 128 \nL 347 722 \nQ 666 556 975 473 \nQ 1284 391 1588 391 \nQ 1994 391 2212 530 \nQ 2431 669 2431 922 \nQ 2431 1156 2273 1281 \nQ 2116 1406 1581 1522 \nL 1381 1569 \nQ 847 1681 609 1914 \nQ 372 2147 372 2553 \nQ 372 3047 722 3315 \nQ 1072 3584 1716 3584 \nQ 2034 3584 2315 3537 \nQ 2597 3491 2834 3397 \nz\n\" id=\"DejaVuSans-73\" transform=\"scale(0.015625)\"/>\n       </defs>\n       <use xlink:href=\"#DejaVuSans-61\"/>\n       <use x=\"61.279297\" xlink:href=\"#DejaVuSans-63\"/>\n       <use x=\"116.259766\" xlink:href=\"#DejaVuSans-63\"/>\n       <use x=\"171.240234\" xlink:href=\"#DejaVuSans-6f\"/>\n       <use x=\"232.421875\" xlink:href=\"#DejaVuSans-6d\"/>\n       <use x=\"329.833984\" xlink:href=\"#DejaVuSans-6d\"/>\n       <use x=\"427.246094\" xlink:href=\"#DejaVuSans-6f\"/>\n       <use x=\"488.427734\" xlink:href=\"#DejaVuSans-64\"/>\n       <use x=\"551.904297\" xlink:href=\"#DejaVuSans-61\"/>\n       <use x=\"613.183594\" xlink:href=\"#DejaVuSans-74\"/>\n       <use x=\"652.392578\" xlink:href=\"#DejaVuSans-65\"/>\n       <use x=\"713.916016\" xlink:href=\"#DejaVuSans-73\"/>\n      </g>\n     </g>\n    </g>\n    <g id=\"xtick_2\">\n     <g id=\"line2d_2\">\n      <g>\n       <use style=\"stroke:#000000;stroke-width:0.8;\" x=\"161.917812\" xlink:href=\"#mf264b4b01d\" y=\"245.758125\"/>\n      </g>\n     </g>\n     <g id=\"text_2\">\n      <!-- bathrooms -->\n      <g transform=\"translate(164.677188 306.565938)rotate(-90)scale(0.1 -0.1)\">\n       <defs>\n        <path d=\"M 3116 1747 \nQ 3116 2381 2855 2742 \nQ 2594 3103 2138 3103 \nQ 1681 3103 1420 2742 \nQ 1159 2381 1159 1747 \nQ 1159 1113 1420 752 \nQ 1681 391 2138 391 \nQ 2594 391 2855 752 \nQ 3116 1113 3116 1747 \nz\nM 1159 2969 \nQ 1341 3281 1617 3432 \nQ 1894 3584 2278 3584 \nQ 2916 3584 3314 3078 \nQ 3713 2572 3713 1747 \nQ 3713 922 3314 415 \nQ 2916 -91 2278 -91 \nQ 1894 -91 1617 61 \nQ 1341 213 1159 525 \nL 1159 0 \nL 581 0 \nL 581 4863 \nL 1159 4863 \nL 1159 2969 \nz\n\" id=\"DejaVuSans-62\" transform=\"scale(0.015625)\"/>\n        <path d=\"M 3513 2113 \nL 3513 0 \nL 2938 0 \nL 2938 2094 \nQ 2938 2591 2744 2837 \nQ 2550 3084 2163 3084 \nQ 1697 3084 1428 2787 \nQ 1159 2491 1159 1978 \nL 1159 0 \nL 581 0 \nL 581 4863 \nL 1159 4863 \nL 1159 2956 \nQ 1366 3272 1645 3428 \nQ 1925 3584 2291 3584 \nQ 2894 3584 3203 3211 \nQ 3513 2838 3513 2113 \nz\n\" id=\"DejaVuSans-68\" transform=\"scale(0.015625)\"/>\n        <path d=\"M 2631 2963 \nQ 2534 3019 2420 3045 \nQ 2306 3072 2169 3072 \nQ 1681 3072 1420 2755 \nQ 1159 2438 1159 1844 \nL 1159 0 \nL 581 0 \nL 581 3500 \nL 1159 3500 \nL 1159 2956 \nQ 1341 3275 1631 3429 \nQ 1922 3584 2338 3584 \nQ 2397 3584 2469 3576 \nQ 2541 3569 2628 3553 \nL 2631 2963 \nz\n\" id=\"DejaVuSans-72\" transform=\"scale(0.015625)\"/>\n       </defs>\n       <use xlink:href=\"#DejaVuSans-62\"/>\n       <use x=\"63.476562\" xlink:href=\"#DejaVuSans-61\"/>\n       <use x=\"124.755859\" xlink:href=\"#DejaVuSans-74\"/>\n       <use x=\"163.964844\" xlink:href=\"#DejaVuSans-68\"/>\n       <use x=\"227.34375\" xlink:href=\"#DejaVuSans-72\"/>\n       <use x=\"266.207031\" xlink:href=\"#DejaVuSans-6f\"/>\n       <use x=\"327.388672\" xlink:href=\"#DejaVuSans-6f\"/>\n       <use x=\"388.570312\" xlink:href=\"#DejaVuSans-6d\"/>\n       <use x=\"485.982422\" xlink:href=\"#DejaVuSans-73\"/>\n      </g>\n     </g>\n    </g>\n    <g id=\"xtick_3\">\n     <g id=\"line2d_3\">\n      <g>\n       <use style=\"stroke:#000000;stroke-width:0.8;\" x=\"206.557812\" xlink:href=\"#mf264b4b01d\" y=\"245.758125\"/>\n      </g>\n     </g>\n     <g id=\"text_3\">\n      <!-- bedrooms -->\n      <g transform=\"translate(209.317187 302.681563)rotate(-90)scale(0.1 -0.1)\">\n       <use xlink:href=\"#DejaVuSans-62\"/>\n       <use x=\"63.476562\" xlink:href=\"#DejaVuSans-65\"/>\n       <use x=\"125\" xlink:href=\"#DejaVuSans-64\"/>\n       <use x=\"188.476562\" xlink:href=\"#DejaVuSans-72\"/>\n       <use x=\"227.339844\" xlink:href=\"#DejaVuSans-6f\"/>\n       <use x=\"288.521484\" xlink:href=\"#DejaVuSans-6f\"/>\n       <use x=\"349.703125\" xlink:href=\"#DejaVuSans-6d\"/>\n       <use x=\"447.115234\" xlink:href=\"#DejaVuSans-73\"/>\n      </g>\n     </g>\n    </g>\n    <g id=\"xtick_4\">\n     <g id=\"line2d_4\">\n      <g>\n       <use style=\"stroke:#000000;stroke-width:0.8;\" x=\"251.197812\" xlink:href=\"#mf264b4b01d\" y=\"245.758125\"/>\n      </g>\n     </g>\n     <g id=\"text_4\">\n      <!-- beds -->\n      <g transform=\"translate(253.957188 276.8175)rotate(-90)scale(0.1 -0.1)\">\n       <use xlink:href=\"#DejaVuSans-62\"/>\n       <use x=\"63.476562\" xlink:href=\"#DejaVuSans-65\"/>\n       <use x=\"125\" xlink:href=\"#DejaVuSans-64\"/>\n       <use x=\"188.476562\" xlink:href=\"#DejaVuSans-73\"/>\n      </g>\n     </g>\n    </g>\n    <g id=\"xtick_5\">\n     <g id=\"line2d_5\">\n      <g>\n       <use style=\"stroke:#000000;stroke-width:0.8;\" x=\"295.837812\" xlink:href=\"#mf264b4b01d\" y=\"245.758125\"/>\n      </g>\n     </g>\n     <g id=\"text_5\">\n      <!-- price -->\n      <g transform=\"translate(298.597187 277.647188)rotate(-90)scale(0.1 -0.1)\">\n       <defs>\n        <path d=\"M 1159 525 \nL 1159 -1331 \nL 581 -1331 \nL 581 3500 \nL 1159 3500 \nL 1159 2969 \nQ 1341 3281 1617 3432 \nQ 1894 3584 2278 3584 \nQ 2916 3584 3314 3078 \nQ 3713 2572 3713 1747 \nQ 3713 922 3314 415 \nQ 2916 -91 2278 -91 \nQ 1894 -91 1617 61 \nQ 1341 213 1159 525 \nz\nM 3116 1747 \nQ 3116 2381 2855 2742 \nQ 2594 3103 2138 3103 \nQ 1681 3103 1420 2742 \nQ 1159 2381 1159 1747 \nQ 1159 1113 1420 752 \nQ 1681 391 2138 391 \nQ 2594 391 2855 752 \nQ 3116 1113 3116 1747 \nz\n\" id=\"DejaVuSans-70\" transform=\"scale(0.015625)\"/>\n        <path d=\"M 603 3500 \nL 1178 3500 \nL 1178 0 \nL 603 0 \nL 603 3500 \nz\nM 603 4863 \nL 1178 4863 \nL 1178 4134 \nL 603 4134 \nL 603 4863 \nz\n\" id=\"DejaVuSans-69\" transform=\"scale(0.015625)\"/>\n       </defs>\n       <use xlink:href=\"#DejaVuSans-70\"/>\n       <use x=\"63.476562\" xlink:href=\"#DejaVuSans-72\"/>\n       <use x=\"104.589844\" xlink:href=\"#DejaVuSans-69\"/>\n       <use x=\"132.373047\" xlink:href=\"#DejaVuSans-63\"/>\n       <use x=\"187.353516\" xlink:href=\"#DejaVuSans-65\"/>\n      </g>\n     </g>\n    </g>\n    <g id=\"xtick_6\">\n     <g id=\"line2d_6\">\n      <g>\n       <use style=\"stroke:#000000;stroke-width:0.8;\" x=\"340.477813\" xlink:href=\"#mf264b4b01d\" y=\"245.758125\"/>\n      </g>\n     </g>\n     <g id=\"text_6\">\n      <!-- guests_included -->\n      <g transform=\"translate(343.098125 333.515938)rotate(-90)scale(0.1 -0.1)\">\n       <defs>\n        <path d=\"M 2906 1791 \nQ 2906 2416 2648 2759 \nQ 2391 3103 1925 3103 \nQ 1463 3103 1205 2759 \nQ 947 2416 947 1791 \nQ 947 1169 1205 825 \nQ 1463 481 1925 481 \nQ 2391 481 2648 825 \nQ 2906 1169 2906 1791 \nz\nM 3481 434 \nQ 3481 -459 3084 -895 \nQ 2688 -1331 1869 -1331 \nQ 1566 -1331 1297 -1286 \nQ 1028 -1241 775 -1147 \nL 775 -588 \nQ 1028 -725 1275 -790 \nQ 1522 -856 1778 -856 \nQ 2344 -856 2625 -561 \nQ 2906 -266 2906 331 \nL 2906 616 \nQ 2728 306 2450 153 \nQ 2172 0 1784 0 \nQ 1141 0 747 490 \nQ 353 981 353 1791 \nQ 353 2603 747 3093 \nQ 1141 3584 1784 3584 \nQ 2172 3584 2450 3431 \nQ 2728 3278 2906 2969 \nL 2906 3500 \nL 3481 3500 \nL 3481 434 \nz\n\" id=\"DejaVuSans-67\" transform=\"scale(0.015625)\"/>\n        <path d=\"M 544 1381 \nL 544 3500 \nL 1119 3500 \nL 1119 1403 \nQ 1119 906 1312 657 \nQ 1506 409 1894 409 \nQ 2359 409 2629 706 \nQ 2900 1003 2900 1516 \nL 2900 3500 \nL 3475 3500 \nL 3475 0 \nL 2900 0 \nL 2900 538 \nQ 2691 219 2414 64 \nQ 2138 -91 1772 -91 \nQ 1169 -91 856 284 \nQ 544 659 544 1381 \nz\nM 1991 3584 \nL 1991 3584 \nz\n\" id=\"DejaVuSans-75\" transform=\"scale(0.015625)\"/>\n        <path d=\"M 3263 -1063 \nL 3263 -1509 \nL -63 -1509 \nL -63 -1063 \nL 3263 -1063 \nz\n\" id=\"DejaVuSans-5f\" transform=\"scale(0.015625)\"/>\n        <path d=\"M 3513 2113 \nL 3513 0 \nL 2938 0 \nL 2938 2094 \nQ 2938 2591 2744 2837 \nQ 2550 3084 2163 3084 \nQ 1697 3084 1428 2787 \nQ 1159 2491 1159 1978 \nL 1159 0 \nL 581 0 \nL 581 3500 \nL 1159 3500 \nL 1159 2956 \nQ 1366 3272 1645 3428 \nQ 1925 3584 2291 3584 \nQ 2894 3584 3203 3211 \nQ 3513 2838 3513 2113 \nz\n\" id=\"DejaVuSans-6e\" transform=\"scale(0.015625)\"/>\n        <path d=\"M 603 4863 \nL 1178 4863 \nL 1178 0 \nL 603 0 \nL 603 4863 \nz\n\" id=\"DejaVuSans-6c\" transform=\"scale(0.015625)\"/>\n       </defs>\n       <use xlink:href=\"#DejaVuSans-67\"/>\n       <use x=\"63.476562\" xlink:href=\"#DejaVuSans-75\"/>\n       <use x=\"126.855469\" xlink:href=\"#DejaVuSans-65\"/>\n       <use x=\"188.378906\" xlink:href=\"#DejaVuSans-73\"/>\n       <use x=\"240.478516\" xlink:href=\"#DejaVuSans-74\"/>\n       <use x=\"279.6875\" xlink:href=\"#DejaVuSans-73\"/>\n       <use x=\"331.787109\" xlink:href=\"#DejaVuSans-5f\"/>\n       <use x=\"381.787109\" xlink:href=\"#DejaVuSans-69\"/>\n       <use x=\"409.570312\" xlink:href=\"#DejaVuSans-6e\"/>\n       <use x=\"472.949219\" xlink:href=\"#DejaVuSans-63\"/>\n       <use x=\"527.929688\" xlink:href=\"#DejaVuSans-6c\"/>\n       <use x=\"555.712891\" xlink:href=\"#DejaVuSans-75\"/>\n       <use x=\"619.091797\" xlink:href=\"#DejaVuSans-64\"/>\n       <use x=\"682.568359\" xlink:href=\"#DejaVuSans-65\"/>\n       <use x=\"744.091797\" xlink:href=\"#DejaVuSans-64\"/>\n      </g>\n     </g>\n    </g>\n   </g>\n   <g id=\"matplotlib.axis_2\">\n    <g id=\"ytick_1\">\n     <g id=\"line2d_7\">\n      <defs>\n       <path d=\"M 0 0 \nL -3.5 0 \n\" id=\"m4fe0a7f62f\" style=\"stroke:#000000;stroke-width:0.8;\"/>\n      </defs>\n      <g>\n       <use style=\"stroke:#000000;stroke-width:0.8;\" x=\"94.957812\" xlink:href=\"#m4fe0a7f62f\" y=\"46.438125\"/>\n      </g>\n     </g>\n     <g id=\"text_7\">\n      <!-- accommodates -->\n      <g transform=\"translate(11.354687 50.237344)scale(0.1 -0.1)\">\n       <use xlink:href=\"#DejaVuSans-61\"/>\n       <use x=\"61.279297\" xlink:href=\"#DejaVuSans-63\"/>\n       <use x=\"116.259766\" xlink:href=\"#DejaVuSans-63\"/>\n       <use x=\"171.240234\" xlink:href=\"#DejaVuSans-6f\"/>\n       <use x=\"232.421875\" xlink:href=\"#DejaVuSans-6d\"/>\n       <use x=\"329.833984\" xlink:href=\"#DejaVuSans-6d\"/>\n       <use x=\"427.246094\" xlink:href=\"#DejaVuSans-6f\"/>\n       <use x=\"488.427734\" xlink:href=\"#DejaVuSans-64\"/>\n       <use x=\"551.904297\" xlink:href=\"#DejaVuSans-61\"/>\n       <use x=\"613.183594\" xlink:href=\"#DejaVuSans-74\"/>\n       <use x=\"652.392578\" xlink:href=\"#DejaVuSans-65\"/>\n       <use x=\"713.916016\" xlink:href=\"#DejaVuSans-73\"/>\n      </g>\n     </g>\n    </g>\n    <g id=\"ytick_2\">\n     <g id=\"line2d_8\">\n      <g>\n       <use style=\"stroke:#000000;stroke-width:0.8;\" x=\"94.957812\" xlink:href=\"#m4fe0a7f62f\" y=\"82.678125\"/>\n      </g>\n     </g>\n     <g id=\"text_8\">\n      <!-- bathrooms -->\n      <g transform=\"translate(34.15 86.477344)scale(0.1 -0.1)\">\n       <use xlink:href=\"#DejaVuSans-62\"/>\n       <use x=\"63.476562\" xlink:href=\"#DejaVuSans-61\"/>\n       <use x=\"124.755859\" xlink:href=\"#DejaVuSans-74\"/>\n       <use x=\"163.964844\" xlink:href=\"#DejaVuSans-68\"/>\n       <use x=\"227.34375\" xlink:href=\"#DejaVuSans-72\"/>\n       <use x=\"266.207031\" xlink:href=\"#DejaVuSans-6f\"/>\n       <use x=\"327.388672\" xlink:href=\"#DejaVuSans-6f\"/>\n       <use x=\"388.570312\" xlink:href=\"#DejaVuSans-6d\"/>\n       <use x=\"485.982422\" xlink:href=\"#DejaVuSans-73\"/>\n      </g>\n     </g>\n    </g>\n    <g id=\"ytick_3\">\n     <g id=\"line2d_9\">\n      <g>\n       <use style=\"stroke:#000000;stroke-width:0.8;\" x=\"94.957812\" xlink:href=\"#m4fe0a7f62f\" y=\"118.918125\"/>\n      </g>\n     </g>\n     <g id=\"text_9\">\n      <!-- bedrooms -->\n      <g transform=\"translate(38.034375 122.717344)scale(0.1 -0.1)\">\n       <use xlink:href=\"#DejaVuSans-62\"/>\n       <use x=\"63.476562\" xlink:href=\"#DejaVuSans-65\"/>\n       <use x=\"125\" xlink:href=\"#DejaVuSans-64\"/>\n       <use x=\"188.476562\" xlink:href=\"#DejaVuSans-72\"/>\n       <use x=\"227.339844\" xlink:href=\"#DejaVuSans-6f\"/>\n       <use x=\"288.521484\" xlink:href=\"#DejaVuSans-6f\"/>\n       <use x=\"349.703125\" xlink:href=\"#DejaVuSans-6d\"/>\n       <use x=\"447.115234\" xlink:href=\"#DejaVuSans-73\"/>\n      </g>\n     </g>\n    </g>\n    <g id=\"ytick_4\">\n     <g id=\"line2d_10\">\n      <g>\n       <use style=\"stroke:#000000;stroke-width:0.8;\" x=\"94.957812\" xlink:href=\"#m4fe0a7f62f\" y=\"155.158125\"/>\n      </g>\n     </g>\n     <g id=\"text_10\">\n      <!-- beds -->\n      <g transform=\"translate(63.898437 158.957344)scale(0.1 -0.1)\">\n       <use xlink:href=\"#DejaVuSans-62\"/>\n       <use x=\"63.476562\" xlink:href=\"#DejaVuSans-65\"/>\n       <use x=\"125\" xlink:href=\"#DejaVuSans-64\"/>\n       <use x=\"188.476562\" xlink:href=\"#DejaVuSans-73\"/>\n      </g>\n     </g>\n    </g>\n    <g id=\"ytick_5\">\n     <g id=\"line2d_11\">\n      <g>\n       <use style=\"stroke:#000000;stroke-width:0.8;\" x=\"94.957812\" xlink:href=\"#m4fe0a7f62f\" y=\"191.398125\"/>\n      </g>\n     </g>\n     <g id=\"text_11\">\n      <!-- price -->\n      <g transform=\"translate(63.06875 195.197344)scale(0.1 -0.1)\">\n       <use xlink:href=\"#DejaVuSans-70\"/>\n       <use x=\"63.476562\" xlink:href=\"#DejaVuSans-72\"/>\n       <use x=\"104.589844\" xlink:href=\"#DejaVuSans-69\"/>\n       <use x=\"132.373047\" xlink:href=\"#DejaVuSans-63\"/>\n       <use x=\"187.353516\" xlink:href=\"#DejaVuSans-65\"/>\n      </g>\n     </g>\n    </g>\n    <g id=\"ytick_6\">\n     <g id=\"line2d_12\">\n      <g>\n       <use style=\"stroke:#000000;stroke-width:0.8;\" x=\"94.957812\" xlink:href=\"#m4fe0a7f62f\" y=\"227.638125\"/>\n      </g>\n     </g>\n     <g id=\"text_12\">\n      <!-- guests_included -->\n      <g transform=\"translate(7.2 231.437344)scale(0.1 -0.1)\">\n       <use xlink:href=\"#DejaVuSans-67\"/>\n       <use x=\"63.476562\" xlink:href=\"#DejaVuSans-75\"/>\n       <use x=\"126.855469\" xlink:href=\"#DejaVuSans-65\"/>\n       <use x=\"188.378906\" xlink:href=\"#DejaVuSans-73\"/>\n       <use x=\"240.478516\" xlink:href=\"#DejaVuSans-74\"/>\n       <use x=\"279.6875\" xlink:href=\"#DejaVuSans-73\"/>\n       <use x=\"331.787109\" xlink:href=\"#DejaVuSans-5f\"/>\n       <use x=\"381.787109\" xlink:href=\"#DejaVuSans-69\"/>\n       <use x=\"409.570312\" xlink:href=\"#DejaVuSans-6e\"/>\n       <use x=\"472.949219\" xlink:href=\"#DejaVuSans-63\"/>\n       <use x=\"527.929688\" xlink:href=\"#DejaVuSans-6c\"/>\n       <use x=\"555.712891\" xlink:href=\"#DejaVuSans-75\"/>\n       <use x=\"619.091797\" xlink:href=\"#DejaVuSans-64\"/>\n       <use x=\"682.568359\" xlink:href=\"#DejaVuSans-65\"/>\n       <use x=\"744.091797\" xlink:href=\"#DejaVuSans-64\"/>\n      </g>\n     </g>\n    </g>\n   </g>\n   <g id=\"text_13\">\n    <!-- 1 -->\n    <g style=\"fill:#262626;\" transform=\"translate(114.096562 49.1975)scale(0.1 -0.1)\">\n     <defs>\n      <path d=\"M 794 531 \nL 1825 531 \nL 1825 4091 \nL 703 3866 \nL 703 4441 \nL 1819 4666 \nL 2450 4666 \nL 2450 531 \nL 3481 531 \nL 3481 0 \nL 794 0 \nL 794 531 \nz\n\" id=\"DejaVuSans-31\" transform=\"scale(0.015625)\"/>\n     </defs>\n     <use xlink:href=\"#DejaVuSans-31\"/>\n    </g>\n   </g>\n   <g id=\"text_14\">\n    <!-- 0.36 -->\n    <g style=\"fill:#ffffff;\" transform=\"translate(150.785 49.1975)scale(0.1 -0.1)\">\n     <defs>\n      <path d=\"M 2034 4250 \nQ 1547 4250 1301 3770 \nQ 1056 3291 1056 2328 \nQ 1056 1369 1301 889 \nQ 1547 409 2034 409 \nQ 2525 409 2770 889 \nQ 3016 1369 3016 2328 \nQ 3016 3291 2770 3770 \nQ 2525 4250 2034 4250 \nz\nM 2034 4750 \nQ 2819 4750 3233 4129 \nQ 3647 3509 3647 2328 \nQ 3647 1150 3233 529 \nQ 2819 -91 2034 -91 \nQ 1250 -91 836 529 \nQ 422 1150 422 2328 \nQ 422 3509 836 4129 \nQ 1250 4750 2034 4750 \nz\n\" id=\"DejaVuSans-30\" transform=\"scale(0.015625)\"/>\n      <path d=\"M 684 794 \nL 1344 794 \nL 1344 0 \nL 684 0 \nL 684 794 \nz\n\" id=\"DejaVuSans-2e\" transform=\"scale(0.015625)\"/>\n      <path d=\"M 2597 2516 \nQ 3050 2419 3304 2112 \nQ 3559 1806 3559 1356 \nQ 3559 666 3084 287 \nQ 2609 -91 1734 -91 \nQ 1441 -91 1130 -33 \nQ 819 25 488 141 \nL 488 750 \nQ 750 597 1062 519 \nQ 1375 441 1716 441 \nQ 2309 441 2620 675 \nQ 2931 909 2931 1356 \nQ 2931 1769 2642 2001 \nQ 2353 2234 1838 2234 \nL 1294 2234 \nL 1294 2753 \nL 1863 2753 \nQ 2328 2753 2575 2939 \nQ 2822 3125 2822 3475 \nQ 2822 3834 2567 4026 \nQ 2313 4219 1838 4219 \nQ 1578 4219 1281 4162 \nQ 984 4106 628 3988 \nL 628 4550 \nQ 988 4650 1302 4700 \nQ 1616 4750 1894 4750 \nQ 2613 4750 3031 4423 \nQ 3450 4097 3450 3541 \nQ 3450 3153 3228 2886 \nQ 3006 2619 2597 2516 \nz\n\" id=\"DejaVuSans-33\" transform=\"scale(0.015625)\"/>\n      <path d=\"M 2113 2584 \nQ 1688 2584 1439 2293 \nQ 1191 2003 1191 1497 \nQ 1191 994 1439 701 \nQ 1688 409 2113 409 \nQ 2538 409 2786 701 \nQ 3034 994 3034 1497 \nQ 3034 2003 2786 2293 \nQ 2538 2584 2113 2584 \nz\nM 3366 4563 \nL 3366 3988 \nQ 3128 4100 2886 4159 \nQ 2644 4219 2406 4219 \nQ 1781 4219 1451 3797 \nQ 1122 3375 1075 2522 \nQ 1259 2794 1537 2939 \nQ 1816 3084 2150 3084 \nQ 2853 3084 3261 2657 \nQ 3669 2231 3669 1497 \nQ 3669 778 3244 343 \nQ 2819 -91 2113 -91 \nQ 1303 -91 875 529 \nQ 447 1150 447 2328 \nQ 447 3434 972 4092 \nQ 1497 4750 2381 4750 \nQ 2619 4750 2861 4703 \nQ 3103 4656 3366 4563 \nz\n\" id=\"DejaVuSans-36\" transform=\"scale(0.015625)\"/>\n     </defs>\n     <use xlink:href=\"#DejaVuSans-30\"/>\n     <use x=\"63.623047\" xlink:href=\"#DejaVuSans-2e\"/>\n     <use x=\"95.410156\" xlink:href=\"#DejaVuSans-33\"/>\n     <use x=\"159.033203\" xlink:href=\"#DejaVuSans-36\"/>\n    </g>\n   </g>\n   <g id=\"text_15\">\n    <!-- 0.72 -->\n    <g style=\"fill:#262626;\" transform=\"translate(195.425 49.1975)scale(0.1 -0.1)\">\n     <defs>\n      <path d=\"M 525 4666 \nL 3525 4666 \nL 3525 4397 \nL 1831 0 \nL 1172 0 \nL 2766 4134 \nL 525 4134 \nL 525 4666 \nz\n\" id=\"DejaVuSans-37\" transform=\"scale(0.015625)\"/>\n      <path d=\"M 1228 531 \nL 3431 531 \nL 3431 0 \nL 469 0 \nL 469 531 \nQ 828 903 1448 1529 \nQ 2069 2156 2228 2338 \nQ 2531 2678 2651 2914 \nQ 2772 3150 2772 3378 \nQ 2772 3750 2511 3984 \nQ 2250 4219 1831 4219 \nQ 1534 4219 1204 4116 \nQ 875 4013 500 3803 \nL 500 4441 \nQ 881 4594 1212 4672 \nQ 1544 4750 1819 4750 \nQ 2544 4750 2975 4387 \nQ 3406 4025 3406 3419 \nQ 3406 3131 3298 2873 \nQ 3191 2616 2906 2266 \nQ 2828 2175 2409 1742 \nQ 1991 1309 1228 531 \nz\n\" id=\"DejaVuSans-32\" transform=\"scale(0.015625)\"/>\n     </defs>\n     <use xlink:href=\"#DejaVuSans-30\"/>\n     <use x=\"63.623047\" xlink:href=\"#DejaVuSans-2e\"/>\n     <use x=\"95.410156\" xlink:href=\"#DejaVuSans-37\"/>\n     <use x=\"159.033203\" xlink:href=\"#DejaVuSans-32\"/>\n    </g>\n   </g>\n   <g id=\"text_16\">\n    <!-- 0.82 -->\n    <g style=\"fill:#262626;\" transform=\"translate(240.065 49.1975)scale(0.1 -0.1)\">\n     <defs>\n      <path d=\"M 2034 2216 \nQ 1584 2216 1326 1975 \nQ 1069 1734 1069 1313 \nQ 1069 891 1326 650 \nQ 1584 409 2034 409 \nQ 2484 409 2743 651 \nQ 3003 894 3003 1313 \nQ 3003 1734 2745 1975 \nQ 2488 2216 2034 2216 \nz\nM 1403 2484 \nQ 997 2584 770 2862 \nQ 544 3141 544 3541 \nQ 544 4100 942 4425 \nQ 1341 4750 2034 4750 \nQ 2731 4750 3128 4425 \nQ 3525 4100 3525 3541 \nQ 3525 3141 3298 2862 \nQ 3072 2584 2669 2484 \nQ 3125 2378 3379 2068 \nQ 3634 1759 3634 1313 \nQ 3634 634 3220 271 \nQ 2806 -91 2034 -91 \nQ 1263 -91 848 271 \nQ 434 634 434 1313 \nQ 434 1759 690 2068 \nQ 947 2378 1403 2484 \nz\nM 1172 3481 \nQ 1172 3119 1398 2916 \nQ 1625 2713 2034 2713 \nQ 2441 2713 2670 2916 \nQ 2900 3119 2900 3481 \nQ 2900 3844 2670 4047 \nQ 2441 4250 2034 4250 \nQ 1625 4250 1398 4047 \nQ 1172 3844 1172 3481 \nz\n\" id=\"DejaVuSans-38\" transform=\"scale(0.015625)\"/>\n     </defs>\n     <use xlink:href=\"#DejaVuSans-30\"/>\n     <use x=\"63.623047\" xlink:href=\"#DejaVuSans-2e\"/>\n     <use x=\"95.410156\" xlink:href=\"#DejaVuSans-38\"/>\n     <use x=\"159.033203\" xlink:href=\"#DejaVuSans-32\"/>\n    </g>\n   </g>\n   <g id=\"text_17\">\n    <!-- 0.65 -->\n    <g style=\"fill:#262626;\" transform=\"translate(284.705 49.1975)scale(0.1 -0.1)\">\n     <defs>\n      <path d=\"M 691 4666 \nL 3169 4666 \nL 3169 4134 \nL 1269 4134 \nL 1269 2991 \nQ 1406 3038 1543 3061 \nQ 1681 3084 1819 3084 \nQ 2600 3084 3056 2656 \nQ 3513 2228 3513 1497 \nQ 3513 744 3044 326 \nQ 2575 -91 1722 -91 \nQ 1428 -91 1123 -41 \nQ 819 9 494 109 \nL 494 744 \nQ 775 591 1075 516 \nQ 1375 441 1709 441 \nQ 2250 441 2565 725 \nQ 2881 1009 2881 1497 \nQ 2881 1984 2565 2268 \nQ 2250 2553 1709 2553 \nQ 1456 2553 1204 2497 \nQ 953 2441 691 2322 \nL 691 4666 \nz\n\" id=\"DejaVuSans-35\" transform=\"scale(0.015625)\"/>\n     </defs>\n     <use xlink:href=\"#DejaVuSans-30\"/>\n     <use x=\"63.623047\" xlink:href=\"#DejaVuSans-2e\"/>\n     <use x=\"95.410156\" xlink:href=\"#DejaVuSans-36\"/>\n     <use x=\"159.033203\" xlink:href=\"#DejaVuSans-35\"/>\n    </g>\n   </g>\n   <g id=\"text_18\">\n    <!-- 0.58 -->\n    <g style=\"fill:#262626;\" transform=\"translate(329.345 49.1975)scale(0.1 -0.1)\">\n     <use xlink:href=\"#DejaVuSans-30\"/>\n     <use x=\"63.623047\" xlink:href=\"#DejaVuSans-2e\"/>\n     <use x=\"95.410156\" xlink:href=\"#DejaVuSans-35\"/>\n     <use x=\"159.033203\" xlink:href=\"#DejaVuSans-38\"/>\n    </g>\n   </g>\n   <g id=\"text_19\">\n    <!-- 0.36 -->\n    <g style=\"fill:#ffffff;\" transform=\"translate(106.145 85.4375)scale(0.1 -0.1)\">\n     <use xlink:href=\"#DejaVuSans-30\"/>\n     <use x=\"63.623047\" xlink:href=\"#DejaVuSans-2e\"/>\n     <use x=\"95.410156\" xlink:href=\"#DejaVuSans-33\"/>\n     <use x=\"159.033203\" xlink:href=\"#DejaVuSans-36\"/>\n    </g>\n   </g>\n   <g id=\"text_20\">\n    <!-- 1 -->\n    <g style=\"fill:#262626;\" transform=\"translate(158.736562 85.4375)scale(0.1 -0.1)\">\n     <use xlink:href=\"#DejaVuSans-31\"/>\n    </g>\n   </g>\n   <g id=\"text_21\">\n    <!-- 0.43 -->\n    <g style=\"fill:#ffffff;\" transform=\"translate(195.425 85.4375)scale(0.1 -0.1)\">\n     <defs>\n      <path d=\"M 2419 4116 \nL 825 1625 \nL 2419 1625 \nL 2419 4116 \nz\nM 2253 4666 \nL 3047 4666 \nL 3047 1625 \nL 3713 1625 \nL 3713 1100 \nL 3047 1100 \nL 3047 0 \nL 2419 0 \nL 2419 1100 \nL 313 1100 \nL 313 1709 \nL 2253 4666 \nz\n\" id=\"DejaVuSans-34\" transform=\"scale(0.015625)\"/>\n     </defs>\n     <use xlink:href=\"#DejaVuSans-30\"/>\n     <use x=\"63.623047\" xlink:href=\"#DejaVuSans-2e\"/>\n     <use x=\"95.410156\" xlink:href=\"#DejaVuSans-34\"/>\n     <use x=\"159.033203\" xlink:href=\"#DejaVuSans-33\"/>\n    </g>\n   </g>\n   <g id=\"text_22\">\n    <!-- 0.36 -->\n    <g style=\"fill:#ffffff;\" transform=\"translate(240.065 85.4375)scale(0.1 -0.1)\">\n     <use xlink:href=\"#DejaVuSans-30\"/>\n     <use x=\"63.623047\" xlink:href=\"#DejaVuSans-2e\"/>\n     <use x=\"95.410156\" xlink:href=\"#DejaVuSans-33\"/>\n     <use x=\"159.033203\" xlink:href=\"#DejaVuSans-36\"/>\n    </g>\n   </g>\n   <g id=\"text_23\">\n    <!-- 0.31 -->\n    <g style=\"fill:#ffffff;\" transform=\"translate(284.705 85.4375)scale(0.1 -0.1)\">\n     <use xlink:href=\"#DejaVuSans-30\"/>\n     <use x=\"63.623047\" xlink:href=\"#DejaVuSans-2e\"/>\n     <use x=\"95.410156\" xlink:href=\"#DejaVuSans-33\"/>\n     <use x=\"159.033203\" xlink:href=\"#DejaVuSans-31\"/>\n    </g>\n   </g>\n   <g id=\"text_24\">\n    <!-- 0.24 -->\n    <g style=\"fill:#ffffff;\" transform=\"translate(329.345 85.4375)scale(0.1 -0.1)\">\n     <use xlink:href=\"#DejaVuSans-30\"/>\n     <use x=\"63.623047\" xlink:href=\"#DejaVuSans-2e\"/>\n     <use x=\"95.410156\" xlink:href=\"#DejaVuSans-32\"/>\n     <use x=\"159.033203\" xlink:href=\"#DejaVuSans-34\"/>\n    </g>\n   </g>\n   <g id=\"text_25\">\n    <!-- 0.72 -->\n    <g style=\"fill:#262626;\" transform=\"translate(106.145 121.6775)scale(0.1 -0.1)\">\n     <use xlink:href=\"#DejaVuSans-30\"/>\n     <use x=\"63.623047\" xlink:href=\"#DejaVuSans-2e\"/>\n     <use x=\"95.410156\" xlink:href=\"#DejaVuSans-37\"/>\n     <use x=\"159.033203\" xlink:href=\"#DejaVuSans-32\"/>\n    </g>\n   </g>\n   <g id=\"text_26\">\n    <!-- 0.43 -->\n    <g style=\"fill:#ffffff;\" transform=\"translate(150.785 121.6775)scale(0.1 -0.1)\">\n     <use xlink:href=\"#DejaVuSans-30\"/>\n     <use x=\"63.623047\" xlink:href=\"#DejaVuSans-2e\"/>\n     <use x=\"95.410156\" xlink:href=\"#DejaVuSans-34\"/>\n     <use x=\"159.033203\" xlink:href=\"#DejaVuSans-33\"/>\n    </g>\n   </g>\n   <g id=\"text_27\">\n    <!-- 1 -->\n    <g style=\"fill:#262626;\" transform=\"translate(203.376562 121.6775)scale(0.1 -0.1)\">\n     <use xlink:href=\"#DejaVuSans-31\"/>\n    </g>\n   </g>\n   <g id=\"text_28\">\n    <!-- 0.67 -->\n    <g style=\"fill:#262626;\" transform=\"translate(240.065 121.6775)scale(0.1 -0.1)\">\n     <use xlink:href=\"#DejaVuSans-30\"/>\n     <use x=\"63.623047\" xlink:href=\"#DejaVuSans-2e\"/>\n     <use x=\"95.410156\" xlink:href=\"#DejaVuSans-36\"/>\n     <use x=\"159.033203\" xlink:href=\"#DejaVuSans-37\"/>\n    </g>\n   </g>\n   <g id=\"text_29\">\n    <!-- 0.57 -->\n    <g style=\"fill:#262626;\" transform=\"translate(284.705 121.6775)scale(0.1 -0.1)\">\n     <use xlink:href=\"#DejaVuSans-30\"/>\n     <use x=\"63.623047\" xlink:href=\"#DejaVuSans-2e\"/>\n     <use x=\"95.410156\" xlink:href=\"#DejaVuSans-35\"/>\n     <use x=\"159.033203\" xlink:href=\"#DejaVuSans-37\"/>\n    </g>\n   </g>\n   <g id=\"text_30\">\n    <!-- 0.48 -->\n    <g style=\"fill:#ffffff;\" transform=\"translate(329.345 121.6775)scale(0.1 -0.1)\">\n     <use xlink:href=\"#DejaVuSans-30\"/>\n     <use x=\"63.623047\" xlink:href=\"#DejaVuSans-2e\"/>\n     <use x=\"95.410156\" xlink:href=\"#DejaVuSans-34\"/>\n     <use x=\"159.033203\" xlink:href=\"#DejaVuSans-38\"/>\n    </g>\n   </g>\n   <g id=\"text_31\">\n    <!-- 0.82 -->\n    <g style=\"fill:#262626;\" transform=\"translate(106.145 157.9175)scale(0.1 -0.1)\">\n     <use xlink:href=\"#DejaVuSans-30\"/>\n     <use x=\"63.623047\" xlink:href=\"#DejaVuSans-2e\"/>\n     <use x=\"95.410156\" xlink:href=\"#DejaVuSans-38\"/>\n     <use x=\"159.033203\" xlink:href=\"#DejaVuSans-32\"/>\n    </g>\n   </g>\n   <g id=\"text_32\">\n    <!-- 0.36 -->\n    <g style=\"fill:#ffffff;\" transform=\"translate(150.785 157.9175)scale(0.1 -0.1)\">\n     <use xlink:href=\"#DejaVuSans-30\"/>\n     <use x=\"63.623047\" xlink:href=\"#DejaVuSans-2e\"/>\n     <use x=\"95.410156\" xlink:href=\"#DejaVuSans-33\"/>\n     <use x=\"159.033203\" xlink:href=\"#DejaVuSans-36\"/>\n    </g>\n   </g>\n   <g id=\"text_33\">\n    <!-- 0.67 -->\n    <g style=\"fill:#262626;\" transform=\"translate(195.425 157.9175)scale(0.1 -0.1)\">\n     <use xlink:href=\"#DejaVuSans-30\"/>\n     <use x=\"63.623047\" xlink:href=\"#DejaVuSans-2e\"/>\n     <use x=\"95.410156\" xlink:href=\"#DejaVuSans-36\"/>\n     <use x=\"159.033203\" xlink:href=\"#DejaVuSans-37\"/>\n    </g>\n   </g>\n   <g id=\"text_34\">\n    <!-- 1 -->\n    <g style=\"fill:#262626;\" transform=\"translate(248.016562 157.9175)scale(0.1 -0.1)\">\n     <use xlink:href=\"#DejaVuSans-31\"/>\n    </g>\n   </g>\n   <g id=\"text_35\">\n    <!-- 0.52 -->\n    <g style=\"fill:#ffffff;\" transform=\"translate(284.705 157.9175)scale(0.1 -0.1)\">\n     <use xlink:href=\"#DejaVuSans-30\"/>\n     <use x=\"63.623047\" xlink:href=\"#DejaVuSans-2e\"/>\n     <use x=\"95.410156\" xlink:href=\"#DejaVuSans-35\"/>\n     <use x=\"159.033203\" xlink:href=\"#DejaVuSans-32\"/>\n    </g>\n   </g>\n   <g id=\"text_36\">\n    <!-- 0.48 -->\n    <g style=\"fill:#ffffff;\" transform=\"translate(329.345 157.9175)scale(0.1 -0.1)\">\n     <use xlink:href=\"#DejaVuSans-30\"/>\n     <use x=\"63.623047\" xlink:href=\"#DejaVuSans-2e\"/>\n     <use x=\"95.410156\" xlink:href=\"#DejaVuSans-34\"/>\n     <use x=\"159.033203\" xlink:href=\"#DejaVuSans-38\"/>\n    </g>\n   </g>\n   <g id=\"text_37\">\n    <!-- 0.65 -->\n    <g style=\"fill:#262626;\" transform=\"translate(106.145 194.1575)scale(0.1 -0.1)\">\n     <use xlink:href=\"#DejaVuSans-30\"/>\n     <use x=\"63.623047\" xlink:href=\"#DejaVuSans-2e\"/>\n     <use x=\"95.410156\" xlink:href=\"#DejaVuSans-36\"/>\n     <use x=\"159.033203\" xlink:href=\"#DejaVuSans-35\"/>\n    </g>\n   </g>\n   <g id=\"text_38\">\n    <!-- 0.31 -->\n    <g style=\"fill:#ffffff;\" transform=\"translate(150.785 194.1575)scale(0.1 -0.1)\">\n     <use xlink:href=\"#DejaVuSans-30\"/>\n     <use x=\"63.623047\" xlink:href=\"#DejaVuSans-2e\"/>\n     <use x=\"95.410156\" xlink:href=\"#DejaVuSans-33\"/>\n     <use x=\"159.033203\" xlink:href=\"#DejaVuSans-31\"/>\n    </g>\n   </g>\n   <g id=\"text_39\">\n    <!-- 0.57 -->\n    <g style=\"fill:#262626;\" transform=\"translate(195.425 194.1575)scale(0.1 -0.1)\">\n     <use xlink:href=\"#DejaVuSans-30\"/>\n     <use x=\"63.623047\" xlink:href=\"#DejaVuSans-2e\"/>\n     <use x=\"95.410156\" xlink:href=\"#DejaVuSans-35\"/>\n     <use x=\"159.033203\" xlink:href=\"#DejaVuSans-37\"/>\n    </g>\n   </g>\n   <g id=\"text_40\">\n    <!-- 0.52 -->\n    <g style=\"fill:#ffffff;\" transform=\"translate(240.065 194.1575)scale(0.1 -0.1)\">\n     <use xlink:href=\"#DejaVuSans-30\"/>\n     <use x=\"63.623047\" xlink:href=\"#DejaVuSans-2e\"/>\n     <use x=\"95.410156\" xlink:href=\"#DejaVuSans-35\"/>\n     <use x=\"159.033203\" xlink:href=\"#DejaVuSans-32\"/>\n    </g>\n   </g>\n   <g id=\"text_41\">\n    <!-- 1 -->\n    <g style=\"fill:#262626;\" transform=\"translate(292.656563 194.1575)scale(0.1 -0.1)\">\n     <use xlink:href=\"#DejaVuSans-31\"/>\n    </g>\n   </g>\n   <g id=\"text_42\">\n    <!-- 0.46 -->\n    <g style=\"fill:#ffffff;\" transform=\"translate(329.345 194.1575)scale(0.1 -0.1)\">\n     <use xlink:href=\"#DejaVuSans-30\"/>\n     <use x=\"63.623047\" xlink:href=\"#DejaVuSans-2e\"/>\n     <use x=\"95.410156\" xlink:href=\"#DejaVuSans-34\"/>\n     <use x=\"159.033203\" xlink:href=\"#DejaVuSans-36\"/>\n    </g>\n   </g>\n   <g id=\"text_43\">\n    <!-- 0.58 -->\n    <g style=\"fill:#262626;\" transform=\"translate(106.145 230.3975)scale(0.1 -0.1)\">\n     <use xlink:href=\"#DejaVuSans-30\"/>\n     <use x=\"63.623047\" xlink:href=\"#DejaVuSans-2e\"/>\n     <use x=\"95.410156\" xlink:href=\"#DejaVuSans-35\"/>\n     <use x=\"159.033203\" xlink:href=\"#DejaVuSans-38\"/>\n    </g>\n   </g>\n   <g id=\"text_44\">\n    <!-- 0.24 -->\n    <g style=\"fill:#ffffff;\" transform=\"translate(150.785 230.3975)scale(0.1 -0.1)\">\n     <use xlink:href=\"#DejaVuSans-30\"/>\n     <use x=\"63.623047\" xlink:href=\"#DejaVuSans-2e\"/>\n     <use x=\"95.410156\" xlink:href=\"#DejaVuSans-32\"/>\n     <use x=\"159.033203\" xlink:href=\"#DejaVuSans-34\"/>\n    </g>\n   </g>\n   <g id=\"text_45\">\n    <!-- 0.48 -->\n    <g style=\"fill:#ffffff;\" transform=\"translate(195.425 230.3975)scale(0.1 -0.1)\">\n     <use xlink:href=\"#DejaVuSans-30\"/>\n     <use x=\"63.623047\" xlink:href=\"#DejaVuSans-2e\"/>\n     <use x=\"95.410156\" xlink:href=\"#DejaVuSans-34\"/>\n     <use x=\"159.033203\" xlink:href=\"#DejaVuSans-38\"/>\n    </g>\n   </g>\n   <g id=\"text_46\">\n    <!-- 0.48 -->\n    <g style=\"fill:#ffffff;\" transform=\"translate(240.065 230.3975)scale(0.1 -0.1)\">\n     <use xlink:href=\"#DejaVuSans-30\"/>\n     <use x=\"63.623047\" xlink:href=\"#DejaVuSans-2e\"/>\n     <use x=\"95.410156\" xlink:href=\"#DejaVuSans-34\"/>\n     <use x=\"159.033203\" xlink:href=\"#DejaVuSans-38\"/>\n    </g>\n   </g>\n   <g id=\"text_47\">\n    <!-- 0.46 -->\n    <g style=\"fill:#ffffff;\" transform=\"translate(284.705 230.3975)scale(0.1 -0.1)\">\n     <use xlink:href=\"#DejaVuSans-30\"/>\n     <use x=\"63.623047\" xlink:href=\"#DejaVuSans-2e\"/>\n     <use x=\"95.410156\" xlink:href=\"#DejaVuSans-34\"/>\n     <use x=\"159.033203\" xlink:href=\"#DejaVuSans-36\"/>\n    </g>\n   </g>\n   <g id=\"text_48\">\n    <!-- 1 -->\n    <g style=\"fill:#262626;\" transform=\"translate(337.296563 230.3975)scale(0.1 -0.1)\">\n     <use xlink:href=\"#DejaVuSans-31\"/>\n    </g>\n   </g>\n   <g id=\"text_49\">\n    <!-- Correlation Heatmap -->\n    <g transform=\"translate(166.325 16.318125)scale(0.12 -0.12)\">\n     <defs>\n      <path d=\"M 4122 4306 \nL 4122 3641 \nQ 3803 3938 3442 4084 \nQ 3081 4231 2675 4231 \nQ 1875 4231 1450 3742 \nQ 1025 3253 1025 2328 \nQ 1025 1406 1450 917 \nQ 1875 428 2675 428 \nQ 3081 428 3442 575 \nQ 3803 722 4122 1019 \nL 4122 359 \nQ 3791 134 3420 21 \nQ 3050 -91 2638 -91 \nQ 1578 -91 968 557 \nQ 359 1206 359 2328 \nQ 359 3453 968 4101 \nQ 1578 4750 2638 4750 \nQ 3056 4750 3426 4639 \nQ 3797 4528 4122 4306 \nz\n\" id=\"DejaVuSans-43\" transform=\"scale(0.015625)\"/>\n      <path id=\"DejaVuSans-20\" transform=\"scale(0.015625)\"/>\n      <path d=\"M 628 4666 \nL 1259 4666 \nL 1259 2753 \nL 3553 2753 \nL 3553 4666 \nL 4184 4666 \nL 4184 0 \nL 3553 0 \nL 3553 2222 \nL 1259 2222 \nL 1259 0 \nL 628 0 \nL 628 4666 \nz\n\" id=\"DejaVuSans-48\" transform=\"scale(0.015625)\"/>\n     </defs>\n     <use xlink:href=\"#DejaVuSans-43\"/>\n     <use x=\"69.824219\" xlink:href=\"#DejaVuSans-6f\"/>\n     <use x=\"131.005859\" xlink:href=\"#DejaVuSans-72\"/>\n     <use x=\"170.369141\" xlink:href=\"#DejaVuSans-72\"/>\n     <use x=\"209.232422\" xlink:href=\"#DejaVuSans-65\"/>\n     <use x=\"270.755859\" xlink:href=\"#DejaVuSans-6c\"/>\n     <use x=\"298.539062\" xlink:href=\"#DejaVuSans-61\"/>\n     <use x=\"359.818359\" xlink:href=\"#DejaVuSans-74\"/>\n     <use x=\"399.027344\" xlink:href=\"#DejaVuSans-69\"/>\n     <use x=\"426.810547\" xlink:href=\"#DejaVuSans-6f\"/>\n     <use x=\"487.992188\" xlink:href=\"#DejaVuSans-6e\"/>\n     <use x=\"551.371094\" xlink:href=\"#DejaVuSans-20\"/>\n     <use x=\"583.158203\" xlink:href=\"#DejaVuSans-48\"/>\n     <use x=\"658.353516\" xlink:href=\"#DejaVuSans-65\"/>\n     <use x=\"719.876953\" xlink:href=\"#DejaVuSans-61\"/>\n     <use x=\"781.15625\" xlink:href=\"#DejaVuSans-74\"/>\n     <use x=\"820.365234\" xlink:href=\"#DejaVuSans-6d\"/>\n     <use x=\"917.777344\" xlink:href=\"#DejaVuSans-61\"/>\n     <use x=\"979.056641\" xlink:href=\"#DejaVuSans-70\"/>\n    </g>\n   </g>\n  </g>\n  <g id=\"axes_2\">\n   <g id=\"patch_3\">\n    <path d=\"M 379.537813 245.758125 \nL 390.409813 245.758125 \nL 390.409813 28.318125 \nL 379.537813 28.318125 \nz\n\" style=\"fill:#ffffff;\"/>\n   </g>\n   <g id=\"patch_4\">\n    <path clip-path=\"url(#p2b1e5e0574)\" d=\"M 379.537813 245.758125 \nL 379.537813 244.90875 \nL 379.537813 29.1675 \nL 379.537813 28.318125 \nL 390.409813 28.318125 \nL 390.409813 29.1675 \nL 390.409813 244.90875 \nL 390.409813 245.758125 \nL 390.409813 245.758125 \nz\n\" style=\"fill:#ffffff;stroke:#ffffff;stroke-linejoin:miter;stroke-width:0.01;\"/>\n   </g>\n   <image height=\"217\" id=\"image572c96216c\" transform=\"scale(1 -1)translate(0 -217)\" width=\"10\" x=\"380\" xlink:href=\"data:image/png;base64,\niVBORw0KGgoAAAANSUhEUgAAAAoAAADZCAYAAAAZmKE8AAABUUlEQVR4nO3Z0W3DMAyEYVJiluj+cybdoPgEUCBi1M+Ho37yJBty7tfPJ+CpFFVEVKZJa+Vqd0RhRrfjHoRhR6VmxwvU7Wtkx5VbhWMxmwwul54boQc3xoLrMCQ7GeHkZLw99lwJLpa+0UcszcFlxwv7WktX/7GnpQdDsb8Ahkd4QN3tOAhT9M18VpqF3bvQzx6lPoBRYXvDS4X5KOoLwTVLh+nf1/XBNQ5Spzp6cHmNFxxViB2vrY6J+7WWCj0U7KjCjfG5Qa2TcZj97i492B7cNLUGqb093aUXfit4Hw+o0TE4FHjkHpR26jHHxIPvpHS3Y6ijl1bqA5huId8q6Ku9YrFwrj1638PU2U7ta/Q84qV0f+nJ9jg1x2xsKzB1Xph1u5Abvu2tObrG/tJM3T/CwVA8iTr3q9lxlFqPlPYRpv5Onewjz7o/Zv8wfwrR8RfB8isehgEnIgAAAABJRU5ErkJggg==\" y=\"-28\"/>\n   <g id=\"matplotlib.axis_3\"/>\n   <g id=\"matplotlib.axis_4\">\n    <g id=\"ytick_7\">\n     <g id=\"line2d_13\">\n      <defs>\n       <path d=\"M 0 0 \nL 3.5 0 \n\" id=\"mce00e6a750\" style=\"stroke:#000000;stroke-width:0.8;\"/>\n      </defs>\n      <g>\n       <use style=\"stroke:#000000;stroke-width:0.8;\" x=\"390.409813\" xlink:href=\"#mce00e6a750\" y=\"245.758125\"/>\n      </g>\n     </g>\n     <g id=\"text_50\">\n      <!-- −1.00 -->\n      <g transform=\"translate(397.409813 249.557344)scale(0.1 -0.1)\">\n       <defs>\n        <path d=\"M 678 2272 \nL 4684 2272 \nL 4684 1741 \nL 678 1741 \nL 678 2272 \nz\n\" id=\"DejaVuSans-2212\" transform=\"scale(0.015625)\"/>\n       </defs>\n       <use xlink:href=\"#DejaVuSans-2212\"/>\n       <use x=\"83.789062\" xlink:href=\"#DejaVuSans-31\"/>\n       <use x=\"147.412109\" xlink:href=\"#DejaVuSans-2e\"/>\n       <use x=\"179.199219\" xlink:href=\"#DejaVuSans-30\"/>\n       <use x=\"242.822266\" xlink:href=\"#DejaVuSans-30\"/>\n      </g>\n     </g>\n    </g>\n    <g id=\"ytick_8\">\n     <g id=\"line2d_14\">\n      <g>\n       <use style=\"stroke:#000000;stroke-width:0.8;\" x=\"390.409813\" xlink:href=\"#mce00e6a750\" y=\"218.578125\"/>\n      </g>\n     </g>\n     <g id=\"text_51\">\n      <!-- −0.75 -->\n      <g transform=\"translate(397.409813 222.377344)scale(0.1 -0.1)\">\n       <use xlink:href=\"#DejaVuSans-2212\"/>\n       <use x=\"83.789062\" xlink:href=\"#DejaVuSans-30\"/>\n       <use x=\"147.412109\" xlink:href=\"#DejaVuSans-2e\"/>\n       <use x=\"179.199219\" xlink:href=\"#DejaVuSans-37\"/>\n       <use x=\"242.822266\" xlink:href=\"#DejaVuSans-35\"/>\n      </g>\n     </g>\n    </g>\n    <g id=\"ytick_9\">\n     <g id=\"line2d_15\">\n      <g>\n       <use style=\"stroke:#000000;stroke-width:0.8;\" x=\"390.409813\" xlink:href=\"#mce00e6a750\" y=\"191.398125\"/>\n      </g>\n     </g>\n     <g id=\"text_52\">\n      <!-- −0.50 -->\n      <g transform=\"translate(397.409813 195.197344)scale(0.1 -0.1)\">\n       <use xlink:href=\"#DejaVuSans-2212\"/>\n       <use x=\"83.789062\" xlink:href=\"#DejaVuSans-30\"/>\n       <use x=\"147.412109\" xlink:href=\"#DejaVuSans-2e\"/>\n       <use x=\"179.199219\" xlink:href=\"#DejaVuSans-35\"/>\n       <use x=\"242.822266\" xlink:href=\"#DejaVuSans-30\"/>\n      </g>\n     </g>\n    </g>\n    <g id=\"ytick_10\">\n     <g id=\"line2d_16\">\n      <g>\n       <use style=\"stroke:#000000;stroke-width:0.8;\" x=\"390.409813\" xlink:href=\"#mce00e6a750\" y=\"164.218125\"/>\n      </g>\n     </g>\n     <g id=\"text_53\">\n      <!-- −0.25 -->\n      <g transform=\"translate(397.409813 168.017344)scale(0.1 -0.1)\">\n       <use xlink:href=\"#DejaVuSans-2212\"/>\n       <use x=\"83.789062\" xlink:href=\"#DejaVuSans-30\"/>\n       <use x=\"147.412109\" xlink:href=\"#DejaVuSans-2e\"/>\n       <use x=\"179.199219\" xlink:href=\"#DejaVuSans-32\"/>\n       <use x=\"242.822266\" xlink:href=\"#DejaVuSans-35\"/>\n      </g>\n     </g>\n    </g>\n    <g id=\"ytick_11\">\n     <g id=\"line2d_17\">\n      <g>\n       <use style=\"stroke:#000000;stroke-width:0.8;\" x=\"390.409813\" xlink:href=\"#mce00e6a750\" y=\"137.038125\"/>\n      </g>\n     </g>\n     <g id=\"text_54\">\n      <!-- 0.00 -->\n      <g transform=\"translate(397.409813 140.837344)scale(0.1 -0.1)\">\n       <use xlink:href=\"#DejaVuSans-30\"/>\n       <use x=\"63.623047\" xlink:href=\"#DejaVuSans-2e\"/>\n       <use x=\"95.410156\" xlink:href=\"#DejaVuSans-30\"/>\n       <use x=\"159.033203\" xlink:href=\"#DejaVuSans-30\"/>\n      </g>\n     </g>\n    </g>\n    <g id=\"ytick_12\">\n     <g id=\"line2d_18\">\n      <g>\n       <use style=\"stroke:#000000;stroke-width:0.8;\" x=\"390.409813\" xlink:href=\"#mce00e6a750\" y=\"109.858125\"/>\n      </g>\n     </g>\n     <g id=\"text_55\">\n      <!-- 0.25 -->\n      <g transform=\"translate(397.409813 113.657344)scale(0.1 -0.1)\">\n       <use xlink:href=\"#DejaVuSans-30\"/>\n       <use x=\"63.623047\" xlink:href=\"#DejaVuSans-2e\"/>\n       <use x=\"95.410156\" xlink:href=\"#DejaVuSans-32\"/>\n       <use x=\"159.033203\" xlink:href=\"#DejaVuSans-35\"/>\n      </g>\n     </g>\n    </g>\n    <g id=\"ytick_13\">\n     <g id=\"line2d_19\">\n      <g>\n       <use style=\"stroke:#000000;stroke-width:0.8;\" x=\"390.409813\" xlink:href=\"#mce00e6a750\" y=\"82.678125\"/>\n      </g>\n     </g>\n     <g id=\"text_56\">\n      <!-- 0.50 -->\n      <g transform=\"translate(397.409813 86.477344)scale(0.1 -0.1)\">\n       <use xlink:href=\"#DejaVuSans-30\"/>\n       <use x=\"63.623047\" xlink:href=\"#DejaVuSans-2e\"/>\n       <use x=\"95.410156\" xlink:href=\"#DejaVuSans-35\"/>\n       <use x=\"159.033203\" xlink:href=\"#DejaVuSans-30\"/>\n      </g>\n     </g>\n    </g>\n    <g id=\"ytick_14\">\n     <g id=\"line2d_20\">\n      <g>\n       <use style=\"stroke:#000000;stroke-width:0.8;\" x=\"390.409813\" xlink:href=\"#mce00e6a750\" y=\"55.498125\"/>\n      </g>\n     </g>\n     <g id=\"text_57\">\n      <!-- 0.75 -->\n      <g transform=\"translate(397.409813 59.297344)scale(0.1 -0.1)\">\n       <use xlink:href=\"#DejaVuSans-30\"/>\n       <use x=\"63.623047\" xlink:href=\"#DejaVuSans-2e\"/>\n       <use x=\"95.410156\" xlink:href=\"#DejaVuSans-37\"/>\n       <use x=\"159.033203\" xlink:href=\"#DejaVuSans-35\"/>\n      </g>\n     </g>\n    </g>\n    <g id=\"ytick_15\">\n     <g id=\"line2d_21\">\n      <g>\n       <use style=\"stroke:#000000;stroke-width:0.8;\" x=\"390.409813\" xlink:href=\"#mce00e6a750\" y=\"28.318125\"/>\n      </g>\n     </g>\n     <g id=\"text_58\">\n      <!-- 1.00 -->\n      <g transform=\"translate(397.409813 32.117344)scale(0.1 -0.1)\">\n       <use xlink:href=\"#DejaVuSans-31\"/>\n       <use x=\"63.623047\" xlink:href=\"#DejaVuSans-2e\"/>\n       <use x=\"95.410156\" xlink:href=\"#DejaVuSans-30\"/>\n       <use x=\"159.033203\" xlink:href=\"#DejaVuSans-30\"/>\n      </g>\n     </g>\n    </g>\n   </g>\n   <g id=\"LineCollection_1\"/>\n   <g id=\"patch_5\">\n    <path d=\"M 379.537813 245.758125 \nL 379.537813 244.90875 \nL 379.537813 29.1675 \nL 379.537813 28.318125 \nL 390.409813 28.318125 \nL 390.409813 29.1675 \nL 390.409813 244.90875 \nL 390.409813 245.758125 \nz\n\" style=\"fill:none;\"/>\n   </g>\n  </g>\n </g>\n <defs>\n  <clipPath id=\"pbcbf78416d\">\n   <rect height=\"217.44\" width=\"267.84\" x=\"94.957812\" y=\"28.318125\"/>\n  </clipPath>\n  <clipPath id=\"p2b1e5e0574\">\n   <rect height=\"217.44\" width=\"10.872\" x=\"379.537813\" y=\"28.318125\"/>\n  </clipPath>\n </defs>\n</svg>\n",
      "image/png": "[encoded data removed]"
     },
     "metadata": {
      "needs_background": "light"
     }
    }
   ],
   "source": [
    "# Correlation plot\n",
    "corr = trainReview[['accommodates', 'bathrooms', 'bedrooms','beds', 'price','guests_included']].corr()\n",
    "heatmap = sns.heatmap(corr, vmin=-1, vmax=1, annot=True)\n",
    "heatmap.set_title('Correlation Heatmap', fontdict={'fontsize':12}, pad=12);"
   ]
  },
  {
   "cell_type": "code",
   "execution_count": null,
   "metadata": {},
   "outputs": [],
   "source": []
  },
  {
   "cell_type": "code",
   "execution_count": null,
   "metadata": {},
   "outputs": [],
   "source": []
  },
  {
   "cell_type": "code",
   "execution_count": 23,
   "metadata": {},
   "outputs": [],
   "source": [
    "# Create map\n",
    "lonlat = list(zip(train.longitude, train.latitude))\n",
    "mapit = folium.Map( location=[52.667989, -1.464582], zoom_start=6 )\n",
    "for coord in lonlat:\n",
    "    folium.Marker( location=[ coord[0], coord[1] ], fill_color='#43d9de', radius=8 ).add_to( mapit )\n",
    "\n",
    "mapit.save( 'map.html')"
   ]
  },
  {
   "source": [
    "# Feature Engineering \n",
    "\n"
   ],
   "cell_type": "markdown",
   "metadata": {}
  },
  {
   "source": [
    "## Zipcode, Longitude and Lattitude\n",
    "If you are analysing a bigger city that has multiple locations that are considered desirable, you can also run this code as many times as needed with different geographical points. (Don’t forget to change the column names so you don’t overwrite the previous point!).\n",
    "For example, there is a financial district close to the Amsterdam Zuid station that could be equally (or even more) relevant to working tenants than living close to the city center. Measuring these various scenarios is more important if you are using methods similar to multiple linear regressions rather than machine-learning statistical algorithms because they are inherently better at recognising non-linear relationships and clusters. For this reason, I won’t include it in this analysis but it is an interesting factor to weight in depending on the statistical method being used. As Airbnb is mainly used fo holiday i would say hence we chose a pretty touristic place\n",
    "**Distance to City Center**. We have chosen the Picadally Circus as city center, but using other coordinates might also be possible\n",
    "\n",
    "<img src=\"/root/data/external/londonpiccadillycircus.jpg\" alt=\"Piccadally Circus\" title=\"\" />\n",
    "\n",
    "\n",
    "\n",
    "\n",
    "## Host_Since\n",
    "\n",
    "Since we have our feature *host_since* in our dataframe we can calculate how long the host is acutally registered at the platform \n",
    "\n",
    "**Host History**\n",
    "\n",
    "## Images\n",
    "\n",
    "Thanks to the feature *picture_url* we are able to crawl all the images, so we actually are able to see how the Airbnb looks like.\n",
    "The code can be found in **/root/src/ingest/ImageCrawler.py** and the actual images will be stored in **/root/data/images/** in the designated directories regarding test and train data. The images themselves will be processed using our **ImageProcessor**. To keep our scope narrow, we will pull four values from the image that may be of value: the brightness and the RGB values, hence the number of red, blue and green pixels. \n",
    "\n",
    "** Why could this be important ? **\n",
    "\n",
    "Taking a step back, we can think of a few things in the image that may impact the price:\n",
    "\n",
    "    - Are the floors carpet or hardwood?\n",
    "    - Are the walls painted or wallpaper? Paintings or posters?\n",
    "    - Does the host have plants? Are they alive and healthy?\n",
    "    - Is the picture well-lit and inviting?\n",
    "\n",
    "\n",
    "\n",
    "\n",
    "## Reviews\n",
    "\n",
    "The reviews and the text data in general contains valuable information so we dedicated a whole chapter to it.\n",
    "\n",
    "\n",
    "## Yelp Data\n",
    "\n",
    "As we are going for holiday to London we of course want to find out about all the restaurants. want to stay close to the busiest places to actually see London, so being close to the restaurants and markets and shop might have an impact to the price of airbnb\n",
    "To find that out we scrape data using the Yelp API https://www.yelp.com/developers"
   ],
   "cell_type": "markdown",
   "metadata": {}
  },
  {
   "source": [
    "# Sentiment/ Text  Analysis\n",
    "Reviews contain reviews in different languages. spanish, french, from asian background. Thumpsup\n",
    "For example, if we are working with product reviews sentiment analysis data where we have to identify each review whether it is positive or negative. People may write the emoji in a review to express the feeling towards the product how much he/she is satisfied with the product. In that case, we may lose valuable information if we remove the emojis. In this case, a better approach is to convert emoji to word format so that it preserves the emoji information.\n",
    "\n",
    "\n",
    "1.Step : Clean Data unnecessary \\r \\n etc.\n",
    "\n",
    "2.Step : emojis\n",
    "\n",
    "3.Step : Mulitlangues"
   ],
   "cell_type": "markdown",
   "metadata": {}
  },
  {
   "cell_type": "code",
   "execution_count": 24,
   "metadata": {},
   "outputs": [
    {
     "output_type": "execute_result",
     "data": {
      "text/plain": [
       "'This is a great place to stay! Adriano and Valerio are wonderful hosts, super friendly, welcoming, and respectful. Valerio is the perfect guy to talk to and make you feel welcome in a warm home environment.\\r\\nThe bedroom is very comfortable, my mom and I stayed with them for a few days and felt like home. The bathroom and flat were very clean :) The location has close access to the tube station and many buses, food stores, and ATMs.\\r\\nValerio kindly prepared coffee and set breakfast for us every day :)\\r\\nAdriano is very knowledgeable of the city and places you should visit and ways to get there. He advised us on places to go, sights, and everything.\\r\\nThanks for being so nice guys! If I ever go back to London this will definitely be the place I hope to stay.'"
      ]
     },
     "metadata": {},
     "execution_count": 24
    }
   ],
   "source": [
    "# Initialize our Textprocessor and Translator from google\n",
    "textprocessor = TextProcessor()\n",
    "translator = google_translator()  \n",
    "reviews.comments[5]"
   ]
  },
  {
   "cell_type": "code",
   "execution_count": 25,
   "metadata": {},
   "outputs": [
    {
     "output_type": "execute_result",
     "data": {
      "text/plain": [
       "'this is a great place to stay! adriano and valerio are wonderful hosts, super friendly, welcoming, and respectful. valerio is the perfect guy to talk to and make you feel welcome in a warm home environment.the bedroom is very comfortable, my mom and i stayed with them for a few days and felt like home. the bathroom and flat were very clean :) the location has close access to the tube station and many buses, food stores, and atms.valerio kindly prepared coffee and set breakfast for us every day :)adriano is very knowledgeable of the city and places you should visit and ways to get there. he advised us on places to go, sights, and everything.thanks for being so nice guys! if i ever go back to london this will definitely be the place i hope to stay.'"
      ]
     },
     "metadata": {},
     "execution_count": 25
    }
   ],
   "source": [
    "# Step 1\n",
    "textprocessor.clean(reviews.comments[5])"
   ]
  },
  {
   "cell_type": "code",
   "execution_count": 26,
   "metadata": {},
   "outputs": [],
   "source": [
    "# Step 2\n",
    "text = textprocessor.clean(reviews.comments[1455])\n"
   ]
  },
  {
   "cell_type": "code",
   "execution_count": 27,
   "metadata": {},
   "outputs": [
    {
     "output_type": "execute_result",
     "data": {
      "text/plain": [
       "\"Hello, we have spent three great days in London, at ELISA's house! She is lovely, she and she was a stay in London very, very nice! I highly recommend it, if we return to London I would like to go home from Elisa! Thank you very muchBesos.lidia \""
      ]
     },
     "metadata": {},
     "execution_count": 27
    }
   ],
   "source": [
    "translator.translate(text)"
   ]
  },
  {
   "cell_type": "code",
   "execution_count": 28,
   "metadata": {},
   "outputs": [],
   "source": [
    "\n",
    "thumps_up = reviews[reviews.comments.str.contains('👍',na=False,regex=False)==True]"
   ]
  },
  {
   "cell_type": "code",
   "execution_count": 29,
   "metadata": {},
   "outputs": [],
   "source": [
    "asia = reviews[reviews.comments.str.contains('ﾛﾝﾄﾞﾝ',na=False,regex=False)==True]"
   ]
  },
  {
   "cell_type": "code",
   "execution_count": 30,
   "metadata": {},
   "outputs": [
    {
     "output_type": "execute_result",
     "data": {
      "text/plain": [
       "'👍'"
      ]
     },
     "metadata": {},
     "execution_count": 30
    }
   ],
   "source": [
    "thumps_up.comments[0]"
   ]
  },
  {
   "cell_type": "code",
   "execution_count": 31,
   "metadata": {},
   "outputs": [
    {
     "output_type": "execute_result",
     "data": {
      "text/plain": [
       "'thumbs_up'"
      ]
     },
     "metadata": {},
     "execution_count": 31
    }
   ],
   "source": [
    "textprocessor.convert_emojis_to_word(thumps_up.comments[0])"
   ]
  },
  {
   "cell_type": "code",
   "execution_count": 32,
   "metadata": {},
   "outputs": [],
   "source": [
    "text = asia.comments[2]"
   ]
  },
  {
   "cell_type": "code",
   "execution_count": 33,
   "metadata": {},
   "outputs": [
    {
     "output_type": "execute_result",
     "data": {
      "text/plain": [
       "\"The host house is located in a quiet upscale residential area just a short distance from London's urban areas. There are several train stations around the house, making it easy to get to London. The interior of the house was very beautiful and cozy like a home . The Host and Her Daughter Were Also Very Kind and Friendly. IF I Visit London Again, I Would Like to Stay Again.  London's urban area is located a little away, and there is a host house in a quiet luxury residential area. There are several stations around the house, and you can easily go to the urban area The house interior was very beautiful and cozy. The host and his daughter were also very kind and kind. If you visit London, I would like to stay again. If you travel to London If you stay at a person's house, everything will work. \""
      ]
     },
     "metadata": {},
     "execution_count": 33
    }
   ],
   "source": [
    "translator.translate(text)"
   ]
  },
  {
   "source": [
    "# Model Benchmarking"
   ],
   "cell_type": "markdown",
   "metadata": {}
  },
  {
   "cell_type": "code",
   "execution_count": null,
   "metadata": {},
   "outputs": [],
   "source": []
  },
  {
   "cell_type": "code",
   "execution_count": null,
   "metadata": {},
   "outputs": [],
   "source": []
  },
  {
   "cell_type": "code",
   "execution_count": null,
   "metadata": {},
   "outputs": [],
   "source": []
  },
  {
   "cell_type": "code",
   "execution_count": null,
   "metadata": {},
   "outputs": [],
   "source": []
  },
  {
   "source": [
    "# Conclusion and Outlook\n",
    "\n",
    "There is always so much more you can do!"
   ],
   "cell_type": "markdown",
   "metadata": {}
  }
 ]
}