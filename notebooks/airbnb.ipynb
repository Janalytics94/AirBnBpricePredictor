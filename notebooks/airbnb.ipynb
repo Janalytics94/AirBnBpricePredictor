{
 "metadata": {
  "language_info": {
   "codemirror_mode": {
    "name": "ipython",
    "version": 3
   },
   "file_extension": ".py",
   "mimetype": "text/x-python",
   "name": "python",
   "nbconvert_exporter": "python",
   "pygments_lexer": "ipython3",
   "version": "3.9.4-final"
  },
  "orig_nbformat": 2,
  "kernelspec": {
   "name": "python3",
   "display_name": "Python 3",
   "language": "python"
  }
 },
 "nbformat": 4,
 "nbformat_minor": 2,
 "cells": [
  {
   "source": [
    "written by: Jana Vihs, vihsjana@student.hu-berlin.de, 604930\n",
    "# Dear Jupyter Notebook Reader\n",
    "\n",
    "fancy, seeing you here.\n",
    "\n",
    "# Airbnb Price Predictor \n",
    "\n",
    "### Table of Contents\n",
    "- Introduction\n",
    "    - Meta Information\n",
    "    - Tools \n",
    "        - Docker\n",
    "        - DVC\n",
    "- Explorative Data Analysis\n",
    "    - Numeric Features about the Airbnb \n",
    "    - Numeric Features about the Host\n",
    "    - Text Data \n",
    "        - Reviews\n",
    "    - Images \n",
    "- Feature Engineering \n",
    "    - Distance to City Center\n",
    "    - Host since in years\n",
    "    - Text Length\n",
    "    - Sentiment Analysis\n",
    "    - Images \n",
    "        - Colors and Brightness\n",
    "- Feature Selection\n",
    "    - Feature Importance \n",
    "    - Grid Search\n",
    "- Benchmark Models\n",
    "    - Multivariate Linear Regression\n",
    "    - Neural Networks  \n",
    "- Model Evaluation\n",
    "- Final Method\n",
    "    - Hyperparameter Tuning\n",
    "- Conclusion and Outlook\n",
    "- References \n",
    "\n",
    "# Introduction\n"
   ],
   "cell_type": "markdown",
   "metadata": {}
  },
  {
   "cell_type": "code",
   "execution_count": 6,
   "metadata": {},
   "outputs": [],
   "source": [
    "# import all necessary packages \n",
    "# Standards \n",
    "import pandas as pd \n",
    "import numpy as np\n",
    "import os \n",
    "import math\n",
    "import sys\n",
    "\n",
    "# Visulaizations\n",
    "import seaborn as sns\n",
    "import folium\n",
    "import matplotlib.pyplot as plt\n",
    "import matplotlib.image as mpimg\n",
    "%matplotlib inline\n",
    "\n",
    "import datetime\n",
    "import warnings\n",
    "warnings.filterwarnings('ignore')\n",
    "\n"
   ]
  },
  {
   "cell_type": "code",
   "execution_count": 9,
   "metadata": {},
   "outputs": [],
   "source": [
    "# change python path too include modules that i wrote myself\n",
    "sys.path.append(os.path.dirname('../src'))\n",
    "from src.features.preprocess.Processor import Processor\n",
    "from src.features.preprocess.Textprocessor import Textprocessor"
   ]
  },
  {
   "cell_type": "code",
   "execution_count": 11,
   "metadata": {},
   "outputs": [],
   "source": [
    "# load data set \n",
    "train = pd.read_csv('../data/raw/train.csv', index_col='listing_id')\n",
    "test = pd.read_csv('../data/raw/test.csv', index_col='listing_id')\n",
    "reviews = pd.read_csv('../data/raw/reviews.csv', index_col='listing_id')"
   ]
  },
  {
   "source": [
    "# Meta Information \n",
    "\n",
    "The designated data set is available on Kaggle https://www.kaggle.com/c/adams2021/data and contains the following features\n",
    "\n",
    "* *name*:\n",
    "* *summary*:\n",
    "* *space*:\n",
    "* *description*:\n",
    "* *experiences_offered*:\n",
    "* *neigbhourhood_overview*:\n",
    "* *transit*:\n",
    "* *house_rules*:                   \n",
    "* *picture_url*:                      \n",
    "* *host_id*:                           \n",
    "* *host_since*:                        \n",
    "* *host_response_time*:              \n",
    "* *host_response_rate*:            \n",
    "* *host_is_superhost*:                  \n",
    "* *host_total_listings_count*:         \n",
    "* *host_has_profile_pic*:               \n",
    "* *host_identity_verified*:             \n",
    "* *neighbourhood*:                     \n",
    "* *neighbourhood_cleansed*:             \n",
    "* *zipcode*:                          \n",
    "* *latitude*:                           \n",
    "* *longitude*:                          \n",
    "* *property_type*:                      \n",
    "* *room_type*:                          \n",
    "* *accommodates*:                       \n",
    "* *bathrooms*:                         \n",
    "* *bedrooms*:                         \n",
    "* *beds*:                             \n",
    "* *bed_type*:                           \n",
    "* *amenities*:                           \n",
    "* *guests_included*:                    \n",
    "* *review_scores_rating*:            \n",
    "* *review_scores_accuracy*:          \n",
    "* *review_scores_cleanliness*:       \n",
    "* *review_scores_checkin*:           \n",
    "* *review_scores_communication*:     \n",
    "* *review_scores_location*:          \n",
    "* *review_scores_value*:             \n",
    "* *cancellation_policy*:                \n",
    "* *reviews_per_month*:  \n",
    "* *price*: **Target variable**\n",
    "\n",
    "The review data set contains the following :\n",
    "\n",
    "* *reviwer_id*:\n",
    "* *comments*:\n",
    "* *review_id*:\n",
    "\n"
   ],
   "cell_type": "markdown",
   "metadata": {}
  },
  {
   "cell_type": "code",
   "execution_count": 27,
   "metadata": {},
   "outputs": [
    {
     "output_type": "stream",
     "name": "stdout",
     "text": [
      "Our train data consists of 55284 rows and 41 columns, while our test data contains 29769 rows and 40 columns.\nThe additional data set reviews consist of 1540778 rows and 3 columns\n"
     ]
    }
   ],
   "source": [
    "print('Our train data consists of {}'.format(train.shape[0]) + ' rows and {}'.format(train.shape[1]) + ' columns, while our test data contains {}'.format(test.shape[0]) + ' rows and {}'.format(test.shape[1]) + ' columns.')\n",
    "print('The additional data set reviews consist of {}'.format(reviews.shape[0]) + ' rows and {}'.format(reviews.shape[1]) + ' columns')"
   ]
  },
  {
   "cell_type": "code",
   "execution_count": 12,
   "metadata": {},
   "outputs": [],
   "source": [
    "#  change data types because of memory reasons\n",
    "train = Processor().change_data_types(train)\n",
    "test = Processor().change_data_types(test)\n",
    "reviews = Processor().change_data_types(reviews)"
   ]
  },
  {
   "source": [
    "## Missing values"
   ],
   "cell_type": "markdown",
   "metadata": {}
  },
  {
   "source": [
    "# Missing values in test data\n",
    "test.isnull().sum(\n",
    ")"
   ],
   "cell_type": "code",
   "metadata": {},
   "execution_count": 29,
   "outputs": [
    {
     "output_type": "execute_result",
     "data": {
      "text/plain": [
       "name                              10\n",
       "summary                         1577\n",
       "space                           9057\n",
       "description                      943\n",
       "experiences_offered                0\n",
       "neighborhood_overview          10551\n",
       "transit                        10672\n",
       "house_rules                    12580\n",
       "picture_url                        0\n",
       "host_id                            0\n",
       "host_since                        65\n",
       "host_response_time              9572\n",
       "host_response_rate              9572\n",
       "host_is_superhost                  0\n",
       "host_total_listings_count         65\n",
       "host_has_profile_pic               0\n",
       "host_identity_verified             0\n",
       "neighbourhood                     86\n",
       "neighbourhood_cleansed             0\n",
       "zipcode                          635\n",
       "latitude                           0\n",
       "longitude                          0\n",
       "property_type                      0\n",
       "room_type                          0\n",
       "accommodates                       0\n",
       "bathrooms                         50\n",
       "bedrooms                          29\n",
       "beds                             142\n",
       "bed_type                           0\n",
       "amenities                          0\n",
       "guests_included                    0\n",
       "review_scores_rating            7200\n",
       "review_scores_accuracy          7219\n",
       "review_scores_cleanliness       7213\n",
       "review_scores_checkin           7230\n",
       "review_scores_communication     7213\n",
       "review_scores_location          7231\n",
       "review_scores_value             7233\n",
       "cancellation_policy                0\n",
       "reviews_per_month               6628\n",
       "dtype: int64"
      ]
     },
     "metadata": {},
     "execution_count": 29
    }
   ]
  },
  {
   "cell_type": "code",
   "execution_count": 4,
   "metadata": {},
   "outputs": [
    {
     "output_type": "execute_result",
     "data": {
      "text/plain": [
       "name                              14\n",
       "summary                         2954\n",
       "space                          16881\n",
       "description                     1726\n",
       "experiences_offered                0\n",
       "neighborhood_overview          19506\n",
       "transit                        19807\n",
       "house_rules                    23378\n",
       "picture_url                        0\n",
       "host_id                            0\n",
       "host_since                       111\n",
       "host_response_time             17802\n",
       "host_response_rate             17802\n",
       "host_is_superhost                  0\n",
       "host_total_listings_count        111\n",
       "host_has_profile_pic               0\n",
       "host_identity_verified             0\n",
       "neighbourhood                    147\n",
       "neighbourhood_cleansed             0\n",
       "zipcode                         1272\n",
       "latitude                           0\n",
       "longitude                          0\n",
       "property_type                      0\n",
       "room_type                          0\n",
       "accommodates                       0\n",
       "bathrooms                         70\n",
       "bedrooms                          62\n",
       "beds                             262\n",
       "bed_type                           0\n",
       "amenities                          0\n",
       "price                              0\n",
       "guests_included                    0\n",
       "review_scores_rating           13415\n",
       "review_scores_accuracy         13448\n",
       "review_scores_cleanliness      13442\n",
       "review_scores_checkin          13483\n",
       "review_scores_communication    13446\n",
       "review_scores_location         13480\n",
       "review_scores_value            13480\n",
       "cancellation_policy                0\n",
       "reviews_per_month              12380\n",
       "dtype: int64"
      ]
     },
     "metadata": {},
     "execution_count": 4
    }
   ],
   "source": [
    "# Missing values  in train data \n",
    "train.isnull().sum()"
   ]
  },
  {
   "cell_type": "code",
   "execution_count": 28,
   "metadata": {},
   "outputs": [
    {
     "output_type": "execute_result",
     "data": {
      "text/plain": [
       "reviewer_id      0\n",
       "comments       691\n",
       "review_id        0\n",
       "dtype: int64"
      ]
     },
     "metadata": {},
     "execution_count": 28
    }
   ],
   "source": [
    "# Missing values reviews\n",
    "reviews.isnull().sum()"
   ]
  },
  {
   "cell_type": "code",
   "execution_count": 30,
   "metadata": {},
   "outputs": [],
   "source": [
    "# Merge reviews on train using listing_id\n",
    "trainReview = train.merge(reviews, on='listing_id')"
   ]
  },
  {
   "source": [
    "In order to get a better grip of our data, we split our traing data into different categories, to make analysation simpler.\n",
    "Dataframe host which contain infos about the host of the airbnb, the information in airbnb itself and the information about the reviews."
   ],
   "cell_type": "markdown",
   "metadata": {}
  },
  {
   "cell_type": "code",
   "execution_count": 46,
   "metadata": {},
   "outputs": [],
   "source": [
    "# lets split our data set in 3 different categories to make analyse simpler\n",
    "host, airbnb, review_scores = Processor().split_df(train)"
   ]
  },
  {
   "source": [
    "As we will consider some features later during our analysis will narrow our dataframes down to specfic columns."
   ],
   "cell_type": "markdown",
   "metadata": {}
  },
  {
   "source": [
    "airbnb = airbnb.drop(['picture_url', 'longitude', 'latitude', 'zipcode', 'neighbourhood'], axis=1)"
   ],
   "cell_type": "code",
   "metadata": {},
   "execution_count": 47,
   "outputs": []
  },
  {
   "source": [
    "# Explorative Data Analysis"
   ],
   "cell_type": "markdown",
   "metadata": {}
  },
  {
   "cell_type": "code",
   "execution_count": 49,
   "metadata": {},
   "outputs": [
    {
     "output_type": "execute_result",
     "data": {
      "text/plain": [
       "       accommodates     bathrooms      bedrooms          beds         price  \\\n",
       "count  55284.000000  55214.000000  55222.000000  55022.000000  55284.000000   \n",
       "mean       3.131756      1.283850      1.373873      1.710661    104.308754   \n",
       "std        1.930209      0.566556      0.859448      1.224301     83.740410   \n",
       "min        1.000000      0.000000      0.000000      0.000000     10.000000   \n",
       "25%        2.000000      1.000000      1.000000      1.000000     45.000000   \n",
       "50%        2.000000      1.000000      1.000000      1.000000     80.000000   \n",
       "75%        4.000000      1.500000      2.000000      2.000000    130.000000   \n",
       "max       16.000000     11.000000     19.000000     21.000000    500.000000   \n",
       "\n",
       "       guests_included  \n",
       "count     55284.000000  \n",
       "mean          1.574832  \n",
       "std           1.263427  \n",
       "min           1.000000  \n",
       "25%           1.000000  \n",
       "50%           1.000000  \n",
       "75%           2.000000  \n",
       "max          46.000000  "
      ],
      "text/html": "<div>\n<style scoped>\n    .dataframe tbody tr th:only-of-type {\n        vertical-align: middle;\n    }\n\n    .dataframe tbody tr th {\n        vertical-align: top;\n    }\n\n    .dataframe thead th {\n        text-align: right;\n    }\n</style>\n<table border=\"1\" class=\"dataframe\">\n  <thead>\n    <tr style=\"text-align: right;\">\n      <th></th>\n      <th>accommodates</th>\n      <th>bathrooms</th>\n      <th>bedrooms</th>\n      <th>beds</th>\n      <th>price</th>\n      <th>guests_included</th>\n    </tr>\n  </thead>\n  <tbody>\n    <tr>\n      <th>count</th>\n      <td>55284.000000</td>\n      <td>55214.000000</td>\n      <td>55222.000000</td>\n      <td>55022.000000</td>\n      <td>55284.000000</td>\n      <td>55284.000000</td>\n    </tr>\n    <tr>\n      <th>mean</th>\n      <td>3.131756</td>\n      <td>1.283850</td>\n      <td>1.373873</td>\n      <td>1.710661</td>\n      <td>104.308754</td>\n      <td>1.574832</td>\n    </tr>\n    <tr>\n      <th>std</th>\n      <td>1.930209</td>\n      <td>0.566556</td>\n      <td>0.859448</td>\n      <td>1.224301</td>\n      <td>83.740410</td>\n      <td>1.263427</td>\n    </tr>\n    <tr>\n      <th>min</th>\n      <td>1.000000</td>\n      <td>0.000000</td>\n      <td>0.000000</td>\n      <td>0.000000</td>\n      <td>10.000000</td>\n      <td>1.000000</td>\n    </tr>\n    <tr>\n      <th>25%</th>\n      <td>2.000000</td>\n      <td>1.000000</td>\n      <td>1.000000</td>\n      <td>1.000000</td>\n      <td>45.000000</td>\n      <td>1.000000</td>\n    </tr>\n    <tr>\n      <th>50%</th>\n      <td>2.000000</td>\n      <td>1.000000</td>\n      <td>1.000000</td>\n      <td>1.000000</td>\n      <td>80.000000</td>\n      <td>1.000000</td>\n    </tr>\n    <tr>\n      <th>75%</th>\n      <td>4.000000</td>\n      <td>1.500000</td>\n      <td>2.000000</td>\n      <td>2.000000</td>\n      <td>130.000000</td>\n      <td>2.000000</td>\n    </tr>\n    <tr>\n      <th>max</th>\n      <td>16.000000</td>\n      <td>11.000000</td>\n      <td>19.000000</td>\n      <td>21.000000</td>\n      <td>500.000000</td>\n      <td>46.000000</td>\n    </tr>\n  </tbody>\n</table>\n</div>"
     },
     "metadata": {},
     "execution_count": 49
    }
   ],
   "source": [
    "airbnb.describe()"
   ]
  },
  {
   "cell_type": "code",
   "execution_count": 36,
   "metadata": {},
   "outputs": [],
   "source": [
    "# Price distribution "
   ]
  },
  {
   "cell_type": "code",
   "execution_count": null,
   "metadata": {},
   "outputs": [],
   "source": [
    "# Correlation plot"
   ]
  },
  {
   "cell_type": "code",
   "execution_count": null,
   "metadata": {},
   "outputs": [],
   "source": []
  },
  {
   "cell_type": "code",
   "execution_count": null,
   "metadata": {},
   "outputs": [],
   "source": []
  },
  {
   "cell_type": "code",
   "execution_count": null,
   "metadata": {},
   "outputs": [],
   "source": [
    "# Create map\n",
    "lonlat = list(zip(train.longitude, train.latitude))\n",
    "mapit = folium.Map( location=[52.667989, -1.464582], zoom_start=6 )\n",
    "for coord in lonlat:\n",
    "    folium.Marker( location=[ coord[0], coord[1] ], fill_color='#43d9de', radius=8 ).add_to( mapit )\n",
    "\n",
    "mapit.save( 'map.html')"
   ]
  },
  {
   "source": [
    "# Feature Engineering \n",
    "\n"
   ],
   "cell_type": "markdown",
   "metadata": {}
  },
  {
   "source": [
    "## Host History \n",
    "## Pictures\n",
    "## Reviews"
   ],
   "cell_type": "markdown",
   "metadata": {}
  },
  {
   "source": [
    "# Sentiment Analysis\n"
   ],
   "cell_type": "markdown",
   "metadata": {}
  },
  {
   "cell_type": "code",
   "execution_count": 60,
   "metadata": {},
   "outputs": [
    {
     "output_type": "execute_result",
     "data": {
      "text/plain": [
       "str"
      ]
     },
     "metadata": {},
     "execution_count": 60
    }
   ],
   "source": []
  },
  {
   "cell_type": "code",
   "execution_count": null,
   "metadata": {},
   "outputs": [],
   "source": []
  }
 ]
}