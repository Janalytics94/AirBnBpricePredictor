{
 "metadata": {
  "language_info": {
   "codemirror_mode": {
    "name": "ipython",
    "version": 3
   },
   "file_extension": ".py",
   "mimetype": "text/x-python",
   "name": "python",
   "nbconvert_exporter": "python",
   "pygments_lexer": "ipython3",
   "version": "3.9.4-final"
  },
  "orig_nbformat": 2,
  "kernelspec": {
   "name": "python3",
   "display_name": "Python 3",
   "language": "python"
  }
 },
 "nbformat": 4,
 "nbformat_minor": 2,
 "cells": [
  {
   "source": [
    "written by: Jana Vihs, vihsjana@student.hu-berlin.de, 604930\n",
    "# Dear Jupyter Notebook Reader\n",
    "\n",
    "fancy, seeing you here.\n",
    "\n",
    "# Airbnb Price Predictor \n",
    "\n",
    "### Table of Contents\n",
    "- Introduction\n",
    "    - Meta Information\n",
    "    - Tools \n",
    "        - Docker\n",
    "        - DVC\n",
    "- Explorative Data Analysis\n",
    "    - Numeric Features about the Airbnb \n",
    "    - Numeric Features about the Host\n",
    "    - Text Data \n",
    "        - Reviews\n",
    "    - Images \n",
    "- Feature Engineering \n",
    "    - Distance to City Center\n",
    "    - Host since in years\n",
    "    - Text Length\n",
    "    - Sentiment Analysis\n",
    "    - Images \n",
    "        - Colors and Brightness\n",
    "- Feature Selection\n",
    "    - Feature Importance \n",
    "    - Grid Search\n",
    "- Benchmark Models\n",
    "    - Multivariate Linear Regression\n",
    "    - Neural Networks  \n",
    "- Model Evaluation\n",
    "- Final Method\n",
    "    - Hyperparameter Tuning\n",
    "- Conclusion and Outlook\n",
    "- References \n",
    "\n",
    "# Introduction\n"
   ],
   "cell_type": "markdown",
   "metadata": {}
  },
  {
   "cell_type": "code",
   "execution_count": 1,
   "metadata": {},
   "outputs": [],
   "source": [
    "# import all necessary packages \n",
    "# Standards \n",
    "import pandas as pd \n",
    "import numpy as np\n",
    "import os \n",
    "import math\n",
    "\n",
    "# Visulaizations\n",
    "import seaborn as sns\n",
    "import folium\n",
    "import matplotlib.pyplot as plt\n",
    "import matplotlib.image as mpimg\n",
    "%matplotlib inline\n",
    "\n",
    "import datetime\n",
    "import warnings\n",
    "warnings.filterwarnings('ignore')\n",
    "\n",
    "# my little helpers\n",
    "from src import helpers\n"
   ]
  },
  {
   "source": [
    "## Meta Information"
   ],
   "cell_type": "markdown",
   "metadata": {}
  },
  {
   "cell_type": "code",
   "execution_count": 2,
   "metadata": {},
   "outputs": [],
   "source": [
    "# read in data set \n",
    "train = helpers.read_df('data/raw/train.csv', index_col='listing_id')\n",
    "test = helpers.read_df('data/raw/test.csv', index_col='listing_id')\n",
    "reviews = helpers.read_df('data/raw/reviews.csv', index_col='listing_id')"
   ]
  },
  {
   "cell_type": "code",
   "execution_count": 3,
   "metadata": {},
   "outputs": [],
   "source": [
    "#  change data types because of memory reasons\n",
    "train = helpers.change_data_types(train)\n",
    "test = helpers.change_data_types(test)\n",
    "reviews = helpers.change_data_types(reviews)"
   ]
  },
  {
   "cell_type": "code",
   "execution_count": null,
   "metadata": {},
   "outputs": [],
   "source": [
    "# Merge reviews on train using listing_id\n",
    "#train_review = train.merge(reviews, on='listing_id')"
   ]
  },
  {
   "cell_type": "code",
   "execution_count": 24,
   "metadata": {},
   "outputs": [
    {
     "output_type": "execute_result",
     "data": {
      "text/plain": [
       "name                              10\n",
       "summary                         1577\n",
       "space                           9057\n",
       "description                      943\n",
       "experiences_offered                0\n",
       "neighborhood_overview          10551\n",
       "transit                        10672\n",
       "house_rules                    12580\n",
       "picture_url                        0\n",
       "host_id                            0\n",
       "host_since                        65\n",
       "host_response_time              9572\n",
       "host_response_rate              9572\n",
       "host_is_superhost                  0\n",
       "host_total_listings_count         65\n",
       "host_has_profile_pic               0\n",
       "host_identity_verified             0\n",
       "neighbourhood                     86\n",
       "neighbourhood_cleansed             0\n",
       "zipcode                          635\n",
       "latitude                           0\n",
       "longitude                          0\n",
       "property_type                      0\n",
       "room_type                          0\n",
       "accommodates                       0\n",
       "bathrooms                         50\n",
       "bedrooms                          29\n",
       "beds                             142\n",
       "bed_type                           0\n",
       "amenities                          0\n",
       "guests_included                    0\n",
       "review_scores_rating            7200\n",
       "review_scores_accuracy          7219\n",
       "review_scores_cleanliness       7213\n",
       "review_scores_checkin           7230\n",
       "review_scores_communication     7213\n",
       "review_scores_location          7231\n",
       "review_scores_value             7233\n",
       "cancellation_policy                0\n",
       "reviews_per_month               6628\n",
       "dtype: int64"
      ]
     },
     "metadata": {},
     "execution_count": 24
    }
   ],
   "source": [
    "test.isnull().sum(\n",
    ")"
   ]
  },
  {
   "cell_type": "code",
   "execution_count": 4,
   "metadata": {},
   "outputs": [
    {
     "output_type": "execute_result",
     "data": {
      "text/plain": [
       "name                              14\n",
       "summary                         2954\n",
       "space                          16881\n",
       "description                     1726\n",
       "experiences_offered                0\n",
       "neighborhood_overview          19506\n",
       "transit                        19807\n",
       "house_rules                    23378\n",
       "picture_url                        0\n",
       "host_id                            0\n",
       "host_since                       111\n",
       "host_response_time             17802\n",
       "host_response_rate             17802\n",
       "host_is_superhost                  0\n",
       "host_total_listings_count        111\n",
       "host_has_profile_pic               0\n",
       "host_identity_verified             0\n",
       "neighbourhood                    147\n",
       "neighbourhood_cleansed             0\n",
       "zipcode                         1272\n",
       "latitude                           0\n",
       "longitude                          0\n",
       "property_type                      0\n",
       "room_type                          0\n",
       "accommodates                       0\n",
       "bathrooms                         70\n",
       "bedrooms                          62\n",
       "beds                             262\n",
       "bed_type                           0\n",
       "amenities                          0\n",
       "price                              0\n",
       "guests_included                    0\n",
       "review_scores_rating           13415\n",
       "review_scores_accuracy         13448\n",
       "review_scores_cleanliness      13442\n",
       "review_scores_checkin          13483\n",
       "review_scores_communication    13446\n",
       "review_scores_location         13480\n",
       "review_scores_value            13480\n",
       "cancellation_policy                0\n",
       "reviews_per_month              12380\n",
       "dtype: int64"
      ]
     },
     "metadata": {},
     "execution_count": 4
    }
   ],
   "source": [
    "# Missing values \n",
    "train.isnull().sum()"
   ]
  },
  {
   "cell_type": "code",
   "execution_count": 5,
   "metadata": {},
   "outputs": [],
   "source": [
    "# lets split our data set in 3 different categories to make analyse simpler\n",
    "host, airbnb, review_scores = helpers.split_df(train)"
   ]
  },
  {
   "cell_type": "code",
   "execution_count": 23,
   "metadata": {},
   "outputs": [
    {
     "output_type": "execute_result",
     "data": {
      "text/plain": [
       "55284"
      ]
     },
     "metadata": {},
     "execution_count": 23
    }
   ],
   "source": [
    "len(airbnb[airbnb.picture_url.isnull()!=True].picture_url)"
   ]
  },
  {
   "cell_type": "code",
   "execution_count": 10,
   "metadata": {},
   "outputs": [
    {
     "output_type": "execute_result",
     "data": {
      "text/plain": [
       "host_id                          0\n",
       "host_since                     111\n",
       "host_response_time           17802\n",
       "host_response_rate           17802\n",
       "host_is_superhost                0\n",
       "host_total_listings_count      111\n",
       "host_has_profile_pic             0\n",
       "host_identity_verified           0\n",
       "dtype: int64"
      ]
     },
     "metadata": {},
     "execution_count": 10
    }
   ],
   "source": [
    "host.isnull().sum()"
   ]
  },
  {
   "cell_type": "code",
   "execution_count": 14,
   "metadata": {},
   "outputs": [],
   "source": [
    "airbnb['description_length'] = airbnb.description.apply(lambda x: len(x))"
   ]
  },
  {
   "cell_type": "code",
   "execution_count": 17,
   "metadata": {},
   "outputs": [
    {
     "output_type": "execute_result",
     "data": {
      "text/plain": [
       "1000"
      ]
     },
     "metadata": {},
     "execution_count": 17
    }
   ],
   "source": []
  },
  {
   "source": [
    "# Explorative Data Analysis"
   ],
   "cell_type": "markdown",
   "metadata": {}
  },
  {
   "cell_type": "code",
   "execution_count": null,
   "metadata": {},
   "outputs": [],
   "source": [
    "sns.countplot(train['neighbourhood_cleansed'], palette=\"plasma\")\n",
    "fig = plt.gcf()\n",
    "fig.set_size_inches(10,10)\n",
    "plt.title('Neighbourhood Group')"
   ]
  },
  {
   "cell_type": "code",
   "execution_count": null,
   "metadata": {},
   "outputs": [],
   "source": []
  },
  {
   "cell_type": "code",
   "execution_count": null,
   "metadata": {},
   "outputs": [],
   "source": []
  },
  {
   "cell_type": "code",
   "execution_count": null,
   "metadata": {},
   "outputs": [],
   "source": []
  },
  {
   "cell_type": "code",
   "execution_count": null,
   "metadata": {},
   "outputs": [],
   "source": [
    "# Create map\n",
    "lonlat = list(zip(train.longitude, train.latitude))\n",
    "mapit = folium.Map( location=[52.667989, -1.464582], zoom_start=6 )\n",
    "for coord in lonlat:\n",
    "    folium.Marker( location=[ coord[0], coord[1] ], fill_color='#43d9de', radius=8 ).add_to( mapit )\n",
    "\n",
    "mapit.save( 'map.html')"
   ]
  },
  {
   "cell_type": "code",
   "execution_count": null,
   "metadata": {},
   "outputs": [],
   "source": []
  }
 ]
}