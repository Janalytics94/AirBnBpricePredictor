{
 "metadata": {
  "language_info": {
   "codemirror_mode": {
    "name": "ipython",
    "version": 3
   },
   "file_extension": ".py",
   "mimetype": "text/x-python",
   "name": "python",
   "nbconvert_exporter": "python",
   "pygments_lexer": "ipython3",
   "version": "3.8.9"
  },
  "orig_nbformat": 2,
  "kernelspec": {
   "name": "python3",
   "display_name": "Python 3",
   "language": "python"
  }
 },
 "nbformat": 4,
 "nbformat_minor": 2,
 "cells": [
  {
   "source": [
    "written by: Jana Vihs, vihsjana@student.hu-berlin.de, 604930\n",
    "# Dear Jupyter Notebook Reader\n",
    "\n",
    "fancy, seeing you here.\n",
    "\n",
    "# Airbnb Price Predictor \n",
    "\n",
    "### Table of Contents\n",
    "- Introduction\n",
    "    - Meta Information\n",
    "    - Tools \n",
    "        - Docker\n",
    "        - DVC\n",
    "- Explorative Data Analysis\n",
    "    - Numeric Features about the Airbnb \n",
    "    - Numeric Features about the Host\n",
    "    - Text Data \n",
    "        - Reviews\n",
    "    - Images \n",
    "- Feature Engineering \n",
    "    - Distance to City Center\n",
    "    - Host since in years\n",
    "    - Text Length\n",
    "    - Sentiment Analysis\n",
    "    - Images \n",
    "        - Colors and Brightness\n",
    "- Feature Selection\n",
    "    - Feature Importance \n",
    "    - Grid Search\n",
    "- Benchmark Models\n",
    "    - Multivariate Linear Regression\n",
    "    - Neural Networks  \n",
    "- Model Evaluation\n",
    "- Final Method\n",
    "    - Hyperparameter Tuning\n",
    "- Conclusion and Outlook\n",
    "- References \n",
    "\n",
    "# Introduction\n"
   ],
   "cell_type": "markdown",
   "metadata": {}
  },
  {
   "cell_type": "code",
   "execution_count": 12,
   "metadata": {},
   "outputs": [],
   "source": [
    "# import all necessary packages \n",
    "# Standards \n",
    "import pandas as pd \n",
    "import numpy as np\n",
    "import os \n",
    "import math\n",
    "\n",
    "# Visulaizations\n",
    "import seaborn as sns\n",
    "import folium\n",
    "import matplotlib.pyplot as plt\n",
    "import matplotlib.image as mpimg\n",
    "%matplotlib inline\n",
    "\n",
    "import datetime\n",
    "import warnings\n",
    "warnings.filterwarnings('ignore')\n",
    "\n",
    "# my little helpers\n",
    "from src import helpers\n",
    "from src import Textprocessor \n",
    "from src.Distance_Calculator import Distance_Calculator \n",
    "\n"
   ]
  },
  {
   "source": [
    "## Meta Information"
   ],
   "cell_type": "markdown",
   "metadata": {}
  },
  {
   "cell_type": "code",
   "execution_count": 3,
   "metadata": {},
   "outputs": [],
   "source": [
    "# read in data set \n",
    "train = helpers.read_df('data/train.csv', index_col='listing_id')\n",
    "test = helpers.read_df('data/test.csv', index_col='listing_id')\n",
    "reviews = helpers.read_df('data/reviews.csv', index_col='listing_id')"
   ]
  },
  {
   "cell_type": "code",
   "execution_count": 4,
   "metadata": {},
   "outputs": [],
   "source": [
    "#  change data types because of memory reasons\n",
    "train = helpers.change_data_types(train)\n",
    "test = helpers.change_data_types(test)\n",
    "reviews = helpers.change_data_types(reviews)"
   ]
  },
  {
   "cell_type": "code",
   "execution_count": 4,
   "metadata": {},
   "outputs": [
    {
     "output_type": "execute_result",
     "data": {
      "text/plain": [
       "            longitude   latitude   longPoi     latPoi  \\\n",
       "listing_id                                              \n",
       "9Q1RD6H7IO   -0.01062  51.474571 -0.133869  51.510067   \n",
       "6XDPZPGLSR   -0.12416  51.583290 -0.133869  51.510067   \n",
       "SND9OPN6IY   -0.18567  51.416340 -0.133869  51.510067   \n",
       "SE3B7BXN9G   -0.14137  51.456219 -0.133869  51.510067   \n",
       "E0C82VK0VF   -0.11219  51.481140 -0.133869  51.510067   \n",
       "...               ...        ...       ...        ...   \n",
       "HSY40NEHOI   -0.10048  51.470779 -0.133869  51.510067   \n",
       "XZXB1NS63Y   -0.00913  51.533409 -0.133869  51.510067   \n",
       "Z2T8G6D82D   -0.14177  51.574631 -0.133869  51.510067   \n",
       "8B1Q8UJWLH   -0.10193  51.565861 -0.133869  51.510067   \n",
       "BKSRYBXCFL   -0.26685  51.485489 -0.133869  51.510067   \n",
       "\n",
       "                                      originCoordinates  \\\n",
       "listing_id                                                \n",
       "9Q1RD6H7IO  (51.474571228027344, -0.010619999840855598)   \n",
       "6XDPZPGLSR   (51.583290100097656, -0.12415999919176102)   \n",
       "SND9OPN6IY    (51.41633987426758, -0.18567000329494476)   \n",
       "SE3B7BXN9G     (51.45621871948242, -0.1413699984550476)   \n",
       "E0C82VK0VF    (51.48114013671875, -0.11219000071287155)   \n",
       "...                                                 ...   \n",
       "HSY40NEHOI    (51.47077941894531, -0.10047999769449234)   \n",
       "XZXB1NS63Y   (51.533409118652344, -0.00913000013679266)   \n",
       "Z2T8G6D82D    (51.57463073730469, -0.14177000522613525)   \n",
       "8B1Q8UJWLH   (51.565860748291016, -0.10192999988794327)   \n",
       "BKSRYBXCFL    (51.48548889160156, -0.26684999465942383)   \n",
       "\n",
       "                    poiCoordinates  \n",
       "listing_id                          \n",
       "9Q1RD6H7IO  (51.510067, -0.133869)  \n",
       "6XDPZPGLSR  (51.510067, -0.133869)  \n",
       "SND9OPN6IY  (51.510067, -0.133869)  \n",
       "SE3B7BXN9G  (51.510067, -0.133869)  \n",
       "E0C82VK0VF  (51.510067, -0.133869)  \n",
       "...                            ...  \n",
       "HSY40NEHOI  (51.510067, -0.133869)  \n",
       "XZXB1NS63Y  (51.510067, -0.133869)  \n",
       "Z2T8G6D82D  (51.510067, -0.133869)  \n",
       "8B1Q8UJWLH  (51.510067, -0.133869)  \n",
       "BKSRYBXCFL  (51.510067, -0.133869)  \n",
       "\n",
       "[55284 rows x 6 columns]"
      ],
      "text/html": "<div>\n<style scoped>\n    .dataframe tbody tr th:only-of-type {\n        vertical-align: middle;\n    }\n\n    .dataframe tbody tr th {\n        vertical-align: top;\n    }\n\n    .dataframe thead th {\n        text-align: right;\n    }\n</style>\n<table border=\"1\" class=\"dataframe\">\n  <thead>\n    <tr style=\"text-align: right;\">\n      <th></th>\n      <th>longitude</th>\n      <th>latitude</th>\n      <th>longPoi</th>\n      <th>latPoi</th>\n      <th>originCoordinates</th>\n      <th>poiCoordinates</th>\n    </tr>\n    <tr>\n      <th>listing_id</th>\n      <th></th>\n      <th></th>\n      <th></th>\n      <th></th>\n      <th></th>\n      <th></th>\n    </tr>\n  </thead>\n  <tbody>\n    <tr>\n      <th>9Q1RD6H7IO</th>\n      <td>-0.01062</td>\n      <td>51.474571</td>\n      <td>-0.133869</td>\n      <td>51.510067</td>\n      <td>(51.474571228027344, -0.010619999840855598)</td>\n      <td>(51.510067, -0.133869)</td>\n    </tr>\n    <tr>\n      <th>6XDPZPGLSR</th>\n      <td>-0.12416</td>\n      <td>51.583290</td>\n      <td>-0.133869</td>\n      <td>51.510067</td>\n      <td>(51.583290100097656, -0.12415999919176102)</td>\n      <td>(51.510067, -0.133869)</td>\n    </tr>\n    <tr>\n      <th>SND9OPN6IY</th>\n      <td>-0.18567</td>\n      <td>51.416340</td>\n      <td>-0.133869</td>\n      <td>51.510067</td>\n      <td>(51.41633987426758, -0.18567000329494476)</td>\n      <td>(51.510067, -0.133869)</td>\n    </tr>\n    <tr>\n      <th>SE3B7BXN9G</th>\n      <td>-0.14137</td>\n      <td>51.456219</td>\n      <td>-0.133869</td>\n      <td>51.510067</td>\n      <td>(51.45621871948242, -0.1413699984550476)</td>\n      <td>(51.510067, -0.133869)</td>\n    </tr>\n    <tr>\n      <th>E0C82VK0VF</th>\n      <td>-0.11219</td>\n      <td>51.481140</td>\n      <td>-0.133869</td>\n      <td>51.510067</td>\n      <td>(51.48114013671875, -0.11219000071287155)</td>\n      <td>(51.510067, -0.133869)</td>\n    </tr>\n    <tr>\n      <th>...</th>\n      <td>...</td>\n      <td>...</td>\n      <td>...</td>\n      <td>...</td>\n      <td>...</td>\n      <td>...</td>\n    </tr>\n    <tr>\n      <th>HSY40NEHOI</th>\n      <td>-0.10048</td>\n      <td>51.470779</td>\n      <td>-0.133869</td>\n      <td>51.510067</td>\n      <td>(51.47077941894531, -0.10047999769449234)</td>\n      <td>(51.510067, -0.133869)</td>\n    </tr>\n    <tr>\n      <th>XZXB1NS63Y</th>\n      <td>-0.00913</td>\n      <td>51.533409</td>\n      <td>-0.133869</td>\n      <td>51.510067</td>\n      <td>(51.533409118652344, -0.00913000013679266)</td>\n      <td>(51.510067, -0.133869)</td>\n    </tr>\n    <tr>\n      <th>Z2T8G6D82D</th>\n      <td>-0.14177</td>\n      <td>51.574631</td>\n      <td>-0.133869</td>\n      <td>51.510067</td>\n      <td>(51.57463073730469, -0.14177000522613525)</td>\n      <td>(51.510067, -0.133869)</td>\n    </tr>\n    <tr>\n      <th>8B1Q8UJWLH</th>\n      <td>-0.10193</td>\n      <td>51.565861</td>\n      <td>-0.133869</td>\n      <td>51.510067</td>\n      <td>(51.565860748291016, -0.10192999988794327)</td>\n      <td>(51.510067, -0.133869)</td>\n    </tr>\n    <tr>\n      <th>BKSRYBXCFL</th>\n      <td>-0.26685</td>\n      <td>51.485489</td>\n      <td>-0.133869</td>\n      <td>51.510067</td>\n      <td>(51.48548889160156, -0.26684999465942383)</td>\n      <td>(51.510067, -0.133869)</td>\n    </tr>\n  </tbody>\n</table>\n<p>55284 rows × 6 columns</p>\n</div>"
     },
     "metadata": {},
     "execution_count": 4
    }
   ],
   "source": [
    "dist_calc = Distance_Calculator()\n",
    "longlat = dist_calc.zip_objects(train,lat_poi=51.510067,long_poi=-0.133869)\n",
    "longlat"
   ]
  },
  {
   "cell_type": "code",
   "execution_count": 5,
   "metadata": {},
   "outputs": [],
   "source": [
    "longlat['dist'] = [dist_calc.get_distance(**longlat[['originCoordinates','poiCoordinates']].iloc[i].to_dict()) for i in range(longlat.shape[0])]"
   ]
  },
  {
   "cell_type": "code",
   "execution_count": null,
   "metadata": {},
   "outputs": [],
   "source": [
    "# Merge reviews on train using listing_id\n",
    "train_review = train.merge(reviews, on='listing_id')"
   ]
  },
  {
   "cell_type": "code",
   "execution_count": 5,
   "metadata": {},
   "outputs": [],
   "source": [
    "# lets split our data set in 3 different categories to make analyse simpler\n",
    "host, airbnb, review_scores = helpers.split_df(train)"
   ]
  },
  {
   "cell_type": "code",
   "execution_count": null,
   "metadata": {},
   "outputs": [],
   "source": [
    "airbnb.amenities[0]\n"
   ]
  },
  {
   "cell_type": "code",
   "execution_count": null,
   "metadata": {},
   "outputs": [],
   "source": [
    "airbnb.description[6]"
   ]
  },
  {
   "cell_type": "code",
   "execution_count": null,
   "metadata": {},
   "outputs": [],
   "source": [
    "host[host.host_has_profile_pic.isnull()]"
   ]
  },
  {
   "cell_type": "code",
   "execution_count": 15,
   "metadata": {},
   "outputs": [],
   "source": [
    "clean = host[host.host_since.isnull()!=True]\n",
    "clean['host_since_year'] = clean['host_since'].apply(lambda x: round(x.year,0))\n",
    "clean['host_memship_in_years'] = datetime.date.today().year - clean.host_since_year"
   ]
  },
  {
   "cell_type": "code",
   "execution_count": 16,
   "metadata": {},
   "outputs": [
    {
     "output_type": "execute_result",
     "data": {
      "text/plain": [
       "              host_id host_since  host_response_time host_response_rate  \\\n",
       "listing_id                                                                \n",
       "9Q1RD6H7IO    2167992 2012-04-18      within an hour               100%   \n",
       "6XDPZPGLSR   16148175 2014-05-29  within a few hours               100%   \n",
       "SND9OPN6IY  272000199 2019-06-28      within an hour               100%   \n",
       "SE3B7BXN9G    3361233 2012-08-24  within a few hours               100%   \n",
       "E0C82VK0VF   94317022 2016-09-09      within an hour               100%   \n",
       "...               ...        ...                 ...                ...   \n",
       "HSY40NEHOI   28354624 2015-02-25                 NaN                NaN   \n",
       "XZXB1NS63Y  207619004 2018-08-05                 NaN                NaN   \n",
       "Z2T8G6D82D  137970479 2017-07-01      within an hour               100%   \n",
       "8B1Q8UJWLH   64339219 2016-03-24                 NaN                NaN   \n",
       "BKSRYBXCFL   33652372 2015-05-18      within an hour                90%   \n",
       "\n",
       "            host_is_superhost  host_total_listings_count  \\\n",
       "listing_id                                                 \n",
       "9Q1RD6H7IO               True                        1.0   \n",
       "6XDPZPGLSR               True                        1.0   \n",
       "SND9OPN6IY              False                        2.0   \n",
       "SE3B7BXN9G              False                        1.0   \n",
       "E0C82VK0VF               True                        2.0   \n",
       "...                       ...                        ...   \n",
       "HSY40NEHOI              False                        2.0   \n",
       "XZXB1NS63Y              False                        1.0   \n",
       "Z2T8G6D82D              False                        4.0   \n",
       "8B1Q8UJWLH              False                        1.0   \n",
       "BKSRYBXCFL              False                        2.0   \n",
       "\n",
       "            host_has_profile_pic  host_identity_verified  host_since_year  \\\n",
       "listing_id                                                                  \n",
       "9Q1RD6H7IO                  True                   False             2012   \n",
       "6XDPZPGLSR                  True                    True             2014   \n",
       "SND9OPN6IY                  True                   False             2019   \n",
       "SE3B7BXN9G                  True                   False             2012   \n",
       "E0C82VK0VF                  True                   False             2016   \n",
       "...                          ...                     ...              ...   \n",
       "HSY40NEHOI                  True                   False             2015   \n",
       "XZXB1NS63Y                  True                   False             2018   \n",
       "Z2T8G6D82D                  True                   False             2017   \n",
       "8B1Q8UJWLH                  True                    True             2016   \n",
       "BKSRYBXCFL                  True                   False             2015   \n",
       "\n",
       "            host_memship_in_years  \n",
       "listing_id                         \n",
       "9Q1RD6H7IO                      9  \n",
       "6XDPZPGLSR                      7  \n",
       "SND9OPN6IY                      2  \n",
       "SE3B7BXN9G                      9  \n",
       "E0C82VK0VF                      5  \n",
       "...                           ...  \n",
       "HSY40NEHOI                      6  \n",
       "XZXB1NS63Y                      3  \n",
       "Z2T8G6D82D                      4  \n",
       "8B1Q8UJWLH                      5  \n",
       "BKSRYBXCFL                      6  \n",
       "\n",
       "[55173 rows x 10 columns]"
      ],
      "text/html": "<div>\n<style scoped>\n    .dataframe tbody tr th:only-of-type {\n        vertical-align: middle;\n    }\n\n    .dataframe tbody tr th {\n        vertical-align: top;\n    }\n\n    .dataframe thead th {\n        text-align: right;\n    }\n</style>\n<table border=\"1\" class=\"dataframe\">\n  <thead>\n    <tr style=\"text-align: right;\">\n      <th></th>\n      <th>host_id</th>\n      <th>host_since</th>\n      <th>host_response_time</th>\n      <th>host_response_rate</th>\n      <th>host_is_superhost</th>\n      <th>host_total_listings_count</th>\n      <th>host_has_profile_pic</th>\n      <th>host_identity_verified</th>\n      <th>host_since_year</th>\n      <th>host_memship_in_years</th>\n    </tr>\n    <tr>\n      <th>listing_id</th>\n      <th></th>\n      <th></th>\n      <th></th>\n      <th></th>\n      <th></th>\n      <th></th>\n      <th></th>\n      <th></th>\n      <th></th>\n      <th></th>\n    </tr>\n  </thead>\n  <tbody>\n    <tr>\n      <th>9Q1RD6H7IO</th>\n      <td>2167992</td>\n      <td>2012-04-18</td>\n      <td>within an hour</td>\n      <td>100%</td>\n      <td>True</td>\n      <td>1.0</td>\n      <td>True</td>\n      <td>False</td>\n      <td>2012</td>\n      <td>9</td>\n    </tr>\n    <tr>\n      <th>6XDPZPGLSR</th>\n      <td>16148175</td>\n      <td>2014-05-29</td>\n      <td>within a few hours</td>\n      <td>100%</td>\n      <td>True</td>\n      <td>1.0</td>\n      <td>True</td>\n      <td>True</td>\n      <td>2014</td>\n      <td>7</td>\n    </tr>\n    <tr>\n      <th>SND9OPN6IY</th>\n      <td>272000199</td>\n      <td>2019-06-28</td>\n      <td>within an hour</td>\n      <td>100%</td>\n      <td>False</td>\n      <td>2.0</td>\n      <td>True</td>\n      <td>False</td>\n      <td>2019</td>\n      <td>2</td>\n    </tr>\n    <tr>\n      <th>SE3B7BXN9G</th>\n      <td>3361233</td>\n      <td>2012-08-24</td>\n      <td>within a few hours</td>\n      <td>100%</td>\n      <td>False</td>\n      <td>1.0</td>\n      <td>True</td>\n      <td>False</td>\n      <td>2012</td>\n      <td>9</td>\n    </tr>\n    <tr>\n      <th>E0C82VK0VF</th>\n      <td>94317022</td>\n      <td>2016-09-09</td>\n      <td>within an hour</td>\n      <td>100%</td>\n      <td>True</td>\n      <td>2.0</td>\n      <td>True</td>\n      <td>False</td>\n      <td>2016</td>\n      <td>5</td>\n    </tr>\n    <tr>\n      <th>...</th>\n      <td>...</td>\n      <td>...</td>\n      <td>...</td>\n      <td>...</td>\n      <td>...</td>\n      <td>...</td>\n      <td>...</td>\n      <td>...</td>\n      <td>...</td>\n      <td>...</td>\n    </tr>\n    <tr>\n      <th>HSY40NEHOI</th>\n      <td>28354624</td>\n      <td>2015-02-25</td>\n      <td>NaN</td>\n      <td>NaN</td>\n      <td>False</td>\n      <td>2.0</td>\n      <td>True</td>\n      <td>False</td>\n      <td>2015</td>\n      <td>6</td>\n    </tr>\n    <tr>\n      <th>XZXB1NS63Y</th>\n      <td>207619004</td>\n      <td>2018-08-05</td>\n      <td>NaN</td>\n      <td>NaN</td>\n      <td>False</td>\n      <td>1.0</td>\n      <td>True</td>\n      <td>False</td>\n      <td>2018</td>\n      <td>3</td>\n    </tr>\n    <tr>\n      <th>Z2T8G6D82D</th>\n      <td>137970479</td>\n      <td>2017-07-01</td>\n      <td>within an hour</td>\n      <td>100%</td>\n      <td>False</td>\n      <td>4.0</td>\n      <td>True</td>\n      <td>False</td>\n      <td>2017</td>\n      <td>4</td>\n    </tr>\n    <tr>\n      <th>8B1Q8UJWLH</th>\n      <td>64339219</td>\n      <td>2016-03-24</td>\n      <td>NaN</td>\n      <td>NaN</td>\n      <td>False</td>\n      <td>1.0</td>\n      <td>True</td>\n      <td>True</td>\n      <td>2016</td>\n      <td>5</td>\n    </tr>\n    <tr>\n      <th>BKSRYBXCFL</th>\n      <td>33652372</td>\n      <td>2015-05-18</td>\n      <td>within an hour</td>\n      <td>90%</td>\n      <td>False</td>\n      <td>2.0</td>\n      <td>True</td>\n      <td>False</td>\n      <td>2015</td>\n      <td>6</td>\n    </tr>\n  </tbody>\n</table>\n<p>55173 rows × 10 columns</p>\n</div>"
     },
     "metadata": {},
     "execution_count": 16
    }
   ],
   "source": [
    "clean"
   ]
  },
  {
   "source": [
    "# Explorative Data Analysis"
   ],
   "cell_type": "markdown",
   "metadata": {}
  },
  {
   "cell_type": "code",
   "execution_count": null,
   "metadata": {},
   "outputs": [],
   "source": [
    "sns.countplot(train['neighbourhood_cleansed'], palette=\"plasma\")\n",
    "fig = plt.gcf()\n",
    "fig.set_size_inches(10,10)\n",
    "plt.title('Neighbourhood Group')"
   ]
  },
  {
   "cell_type": "code",
   "execution_count": null,
   "metadata": {},
   "outputs": [],
   "source": []
  },
  {
   "cell_type": "code",
   "execution_count": null,
   "metadata": {},
   "outputs": [],
   "source": []
  },
  {
   "cell_type": "code",
   "execution_count": null,
   "metadata": {},
   "outputs": [],
   "source": []
  },
  {
   "cell_type": "code",
   "execution_count": null,
   "metadata": {},
   "outputs": [],
   "source": [
    "# Create map\n",
    "lonlat = list(zip(train.longitude, train.latitude))\n",
    "mapit = folium.Map( location=[52.667989, -1.464582], zoom_start=6 )\n",
    "for coord in lonlat:\n",
    "    folium.Marker( location=[ coord[0], coord[1] ], fill_color='#43d9de', radius=8 ).add_to( mapit )\n",
    "\n",
    "mapit.save( 'map.html')"
   ]
  },
  {
   "cell_type": "code",
   "execution_count": null,
   "metadata": {},
   "outputs": [],
   "source": []
  }
 ]
}