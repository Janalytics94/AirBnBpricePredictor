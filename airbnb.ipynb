{
 "metadata": {
  "language_info": {
   "codemirror_mode": {
    "name": "ipython",
    "version": 3
   },
   "file_extension": ".py",
   "mimetype": "text/x-python",
   "name": "python",
   "nbconvert_exporter": "python",
   "pygments_lexer": "ipython3",
   "version": "3.8.9"
  },
  "orig_nbformat": 2,
  "kernelspec": {
   "name": "python3",
   "display_name": "Python 3",
   "language": "python"
  }
 },
 "nbformat": 4,
 "nbformat_minor": 2,
 "cells": [
  {
   "source": [
    "# Dear Jupyter Notebook Reader"
   ],
   "cell_type": "markdown",
   "metadata": {}
  },
  {
   "cell_type": "code",
   "execution_count": 3,
   "metadata": {},
   "outputs": [],
   "source": [
    "# import all necessary packages  \n",
    "import pandas as pd \n",
    "import numpy as np\n",
    "import os \n",
    "import seaborn as sns\n",
    "from src import helpers\n",
    "from src import Textprocessor as tp"
   ]
  },
  {
   "cell_type": "code",
   "execution_count": 4,
   "metadata": {},
   "outputs": [],
   "source": [
    "train = helpers.read_df('data/train.csv', index_col='listing_id')\n",
    "#test = pd.read_csv('data/test.csv', index_col='listing_id')\n",
    "#reviews = pd.read_csv('data/reviews.csv', index_col='listing_id')"
   ]
  },
  {
   "cell_type": "code",
   "execution_count": 9,
   "metadata": {},
   "outputs": [],
   "source": [
    "processor = Textprocessor.TextProcessor()"
   ]
  },
  {
   "cell_type": "code",
   "execution_count": 17,
   "metadata": {},
   "outputs": [],
   "source": [
    "# missing values\n",
    "train = helpers.change_data_types(train)\n",
    "test = helpers.change_data_types(test)\n"
   ]
  },
  {
   "cell_type": "code",
   "execution_count": 20,
   "metadata": {},
   "outputs": [
    {
     "output_type": "execute_result",
     "data": {
      "text/plain": [
       "            reviewer_id                                           comments  \\\n",
       "listing_id                                                                   \n",
       "8Z94Z3WMCO        93896  The flat was bright, comfortable and clean and...   \n",
       "8Z94Z3WMCO        97890  We stayed with Adriano and Valerio for a week ...   \n",
       "8Z94Z3WMCO       104133  Adriano was a fantastic host. We felt very at ...   \n",
       "8Z94Z3WMCO       122714  We had a most wonderful stay with Adriano and ...   \n",
       "8Z94Z3WMCO       111543    I'm not sure which of us misunderstood the s...   \n",
       "\n",
       "            review_id  \n",
       "listing_id             \n",
       "8Z94Z3WMCO      30672  \n",
       "8Z94Z3WMCO      32236  \n",
       "8Z94Z3WMCO      41044  \n",
       "8Z94Z3WMCO      48926  \n",
       "8Z94Z3WMCO      58352  "
      ],
      "text/html": "<div>\n<style scoped>\n    .dataframe tbody tr th:only-of-type {\n        vertical-align: middle;\n    }\n\n    .dataframe tbody tr th {\n        vertical-align: top;\n    }\n\n    .dataframe thead th {\n        text-align: right;\n    }\n</style>\n<table border=\"1\" class=\"dataframe\">\n  <thead>\n    <tr style=\"text-align: right;\">\n      <th></th>\n      <th>reviewer_id</th>\n      <th>comments</th>\n      <th>review_id</th>\n    </tr>\n    <tr>\n      <th>listing_id</th>\n      <th></th>\n      <th></th>\n      <th></th>\n    </tr>\n  </thead>\n  <tbody>\n    <tr>\n      <th>8Z94Z3WMCO</th>\n      <td>93896</td>\n      <td>The flat was bright, comfortable and clean and...</td>\n      <td>30672</td>\n    </tr>\n    <tr>\n      <th>8Z94Z3WMCO</th>\n      <td>97890</td>\n      <td>We stayed with Adriano and Valerio for a week ...</td>\n      <td>32236</td>\n    </tr>\n    <tr>\n      <th>8Z94Z3WMCO</th>\n      <td>104133</td>\n      <td>Adriano was a fantastic host. We felt very at ...</td>\n      <td>41044</td>\n    </tr>\n    <tr>\n      <th>8Z94Z3WMCO</th>\n      <td>122714</td>\n      <td>We had a most wonderful stay with Adriano and ...</td>\n      <td>48926</td>\n    </tr>\n    <tr>\n      <th>8Z94Z3WMCO</th>\n      <td>111543</td>\n      <td>I'm not sure which of us misunderstood the s...</td>\n      <td>58352</td>\n    </tr>\n  </tbody>\n</table>\n</div>"
     },
     "metadata": {},
     "execution_count": 20
    }
   ],
   "source": [
    "reviews.head(5)"
   ]
  },
  {
   "cell_type": "code",
   "execution_count": 7,
   "metadata": {},
   "outputs": [],
   "source": [
    "pUrl_list = train.picture_url.unique().tolist()\n",
    "filenames = train.index.unique().tolist()"
   ]
  },
  {
   "cell_type": "code",
   "execution_count": 31,
   "metadata": {},
   "outputs": [],
   "source": [
    "pictures = train.picture_url"
   ]
  },
  {
   "cell_type": "code",
   "execution_count": 40,
   "metadata": {},
   "outputs": [
    {
     "output_type": "execute_result",
     "data": {
      "text/plain": [
       "'9Q1RD6H7IO'"
      ]
     },
     "metadata": {},
     "execution_count": 40
    }
   ],
   "source": [
    "pictures.index[0]"
   ]
  },
  {
   "cell_type": "code",
   "execution_count": 26,
   "metadata": {},
   "outputs": [
    {
     "output_type": "execute_result",
     "data": {
      "text/plain": [
       "Index(['9Q1RD6H7IO', '6XDPZPGLSR', 'SND9OPN6IY', 'SE3B7BXN9G', 'E0C82VK0VF',\n",
       "       '3OP12CBRJ5', 'MJJG3JOEYC', 'J0IOAQXJT0', 'SKWS3WE08F', 'HKAPWVENPH',\n",
       "       ...\n",
       "       '1YSHZXURHW', 'XMFL68O3MQ', 'SPCNFIJREV', 'ZHTXO3K31Z', 'OGM4XZ1K4W',\n",
       "       'HSY40NEHOI', 'XZXB1NS63Y', 'Z2T8G6D82D', '8B1Q8UJWLH', 'BKSRYBXCFL'],\n",
       "      dtype='object', name='listing_id', length=55284)"
      ]
     },
     "metadata": {},
     "execution_count": 26
    }
   ],
   "source": [
    "pictures.index.iloc"
   ]
  },
  {
   "cell_type": "code",
   "execution_count": 37,
   "metadata": {
    "tags": []
   },
   "outputs": [
    {
     "output_type": "error",
     "ename": "AttributeError",
     "evalue": "'Index' object has no attribute 'iloc'",
     "traceback": [
      "\u001b[0;31m---------------------------------------------------------------------------\u001b[0m",
      "\u001b[0;31mAttributeError\u001b[0m                            Traceback (most recent call last)",
      "\u001b[0;32m<ipython-input-37-19e07e1fb560>\u001b[0m in \u001b[0;36m<module>\u001b[0;34m\u001b[0m\n\u001b[1;32m      1\u001b[0m \u001b[0;32mfor\u001b[0m \u001b[0mi\u001b[0m \u001b[0;32min\u001b[0m \u001b[0mrange\u001b[0m\u001b[0;34m(\u001b[0m\u001b[0;36m0\u001b[0m\u001b[0;34m,\u001b[0m\u001b[0mlen\u001b[0m\u001b[0;34m(\u001b[0m\u001b[0mpictures\u001b[0m\u001b[0;34m)\u001b[0m\u001b[0;34m)\u001b[0m\u001b[0;34m:\u001b[0m\u001b[0;34m\u001b[0m\u001b[0;34m\u001b[0m\u001b[0m\n\u001b[0;32m----> 2\u001b[0;31m     \u001b[0mprint\u001b[0m\u001b[0;34m(\u001b[0m\u001b[0mpictures\u001b[0m\u001b[0;34m.\u001b[0m\u001b[0miloc\u001b[0m\u001b[0;34m[\u001b[0m\u001b[0mi\u001b[0m\u001b[0;34m]\u001b[0m\u001b[0;34m,\u001b[0m \u001b[0mpictures\u001b[0m\u001b[0;34m.\u001b[0m\u001b[0mindex\u001b[0m\u001b[0;34m.\u001b[0m\u001b[0miloc\u001b[0m\u001b[0;34m[\u001b[0m\u001b[0mi\u001b[0m\u001b[0;34m]\u001b[0m \u001b[0;34m+\u001b[0m \u001b[0;34m'.png'\u001b[0m\u001b[0;34m)\u001b[0m\u001b[0;34m\u001b[0m\u001b[0;34m\u001b[0m\u001b[0m\n\u001b[0m",
      "\u001b[0;31mAttributeError\u001b[0m: 'Index' object has no attribute 'iloc'"
     ]
    }
   ],
   "source": [
    "for i in range(0,len(pictures)):\n",
    "    print(pictures.iloc[i], pictures.index[i] + '.png')\n"
   ]
  },
  {
   "cell_type": "code",
   "execution_count": 19,
   "metadata": {},
   "outputs": [
    {
     "output_type": "execute_result",
     "data": {
      "text/plain": [
       "257d40b.jpg?aki_policy=large',\n",
       " 'https://a0.muscache.com/im/pictures/0e433ce3-88c3-4b23-9f89-29ab6326d6d0.jpg?aki_policy=large',\n",
       " 'https://a0.muscache.com/im/pictures/b5e80ee9-254a-4b7a-b1be-33fc4ac29f89.jpg?aki_policy=large',\n",
       " 'https://a0.muscache.com/im/pictures/15189f48-8134-4b46-a660-51a15d7d0303.jpg?aki_policy=large',\n",
       " 'https://a0.muscache.com/4ea/air/v2//pictures/dad22279-11b4-42cf-818c-2536b0c920b4.jpg?t=r:w1200-h720-sfit,e:fjpg-c85',\n",
       " 'https://a0.muscache.com/im/pictures/0665a722-5c41-4bcc-a6ab-5da9ec34d19e.jpg?aki_policy=large',\n",
       " 'https://a0.muscache.com/im/pictures/e4b2ad15-6cb3-4cb7-8062-5746d0670f88.jpg?aki_policy=large',\n",
       " 'https://a0.muscache.com/im/pictures/18251191/2298cca4_original.jpg?aki_policy=large',\n",
       " 'https://a0.muscache.com/im/pictures/b10408ec-5827-4fdd-816c-1560677a4a9f.jpg?aki_policy=large',\n",
       " 'https://a0.muscache.com/im/pictures/4ee74fd8-4735-487e-bc7f-07ba05419ebe.jpg?aki_policy=large',\n",
       " 'https://a0.muscache.com/im/pictures/a859c08f-c85f-4d2c-9c3b-9acbd384a544.jpg?aki_policy=large',\n",
       " 'https://a0.muscache.com/im/pictures/c25e980e-0d85-4647-8297-2b90d15bd635.jpg?aki_policy=large',\n",
       " 'https://a0.muscache.com/im/pictures/e26e0e0b-7d4c-4a55-9400-3cc78161a080.jpg?aki_policy=large',\n",
       " 'https://a0.muscache.com/im/pictures/ff3e310a-af82-4361-92e0-6e91b377cc13.jpg?aki_policy=large',\n",
       " 'https://a0.muscache.com/im/pictures/b8bf9256-4348-451b-b851-365795697ad0.jpg?aki_policy=large',\n",
       " 'https://a0.muscache.com/im/pictures/8b03c0ce-80c9-4b93-b029-7995cced759b.jpg?aki_policy=large',\n",
       " 'https://a0.muscache.com/im/pictures/98662512/9b39bd56_original.jpg?aki_policy=large',\n",
       " 'https://a0.muscache.com/im/pictures/4f18bbb3-9218-4f27-89c0-b51f1a26b012.jpg?aki_policy=large',\n",
       " 'https://a0.muscache.com/im/pictures/748a55e4-4642-40b8-b2e0-69bec56ca277.jpg?aki_policy=large',\n",
       " 'https://a0.muscache.com/im/pictures/77bfd226-96ec-4df9-8898-cc873a3fab33.jpg?aki_policy=large',\n",
       " 'https://a0.muscache.com/im/pictures/19238189/11a9078e_original.jpg?aki_policy=large',\n",
       " 'https://a0.muscache.com/im/pictures/58707435/695ed17c_original.jpg?aki_policy=large',\n",
       " 'https://a0.muscache.com/im/pictures/698b66ed-5a6e-4c71-9796-2e4306e1d31f.jpg?aki_policy=large',\n",
       " 'https://a0.muscache.com/im/pictures/980e709e-d51a-4a11-8e32-9eb3fc27ef83.jpg?aki_policy=large',\n",
       " 'https://a0.muscache.com/im/pictures/cbfa1669-920c-428a-ad25-3d84bd55fe89.jpg?aki_policy=large',\n",
       " 'https://a0.muscache.com/im/pictures/5456dd25-7eb0-43f1-926c-1376d02f19e6.jpg?aki_policy=large',\n",
       " 'https://a0.muscache.com/im/pictures/821ba314-36ca-4721-a6dd-1fe69d1986fd.jpg?aki_policy=large',\n",
       " 'https://a0.muscache.com/im/pictures/bb1e8c61-d2ab-4c75-a0ca-9d50f82eeec5.jpg?aki_policy=large',\n",
       " 'https://a0.muscache.com/im/pictures/53d353e5-14d6-4767-9a01-3a40a61c4f16.jpg?aki_policy=large',\n",
       " 'https://a0.muscache.com/im/pictures/4b788922-38f6-46d8-b616-4396b2e3a3f7.jpg?aki_policy=large',\n",
       " 'https://a0.muscache.com/im/pictures/c16a48a3-b0b6-4b2d-a09e-a9482638b93c.jpg?aki_policy=large',\n",
       " 'https://a0.muscache.com/im/pictures/36f06778-b121-4081-8618-b7886104030d.jpg?aki_policy=large',\n",
       " 'https://a0.muscache.com/im/pictures/d373fb67-fa7b-46b9-b895-963917412c58.jpg?aki_policy=large',\n",
       " 'https://a0.muscache.com/im/pictures/a8f2de69-c80f-4845-85d6-ad7604d625af.jpg?aki_policy=large',\n",
       " 'https://a0.muscache.com/im/pictures/69ac4fdb-ead2-44a7-b84d-49790f5562e5.jpg?aki_policy=large',\n",
       " 'https://a0.muscache.com/im/pictures/22ed6432-9da3-450d-9874-409753622cc7.jpg?aki_policy=large',\n",
       " 'https://a0.muscache.com/im/pictures/75d37ae5-31c4-41bc-8960-cc396a9c25f3.jpg?aki_policy=large',\n",
       " 'https://a0.muscache.com/im/pictures/116d4588-c7a8-4531-8921-969000d8e2b8.jpg?aki_policy=large',\n",
       " 'https://a0.muscache.com/im/pictures/dfc46db9-534d-4954-ab2b-54470cfb649e.jpg?aki_policy=large',\n",
       " 'https://a0.muscache.com/im/pictures/05ee5cd3-ad1d-4fcc-9188-239e33ad8fc1.jpg?aki_policy=large',\n",
       " 'https://a0.muscache.com/im/pictures/5f281742-76f0-45fe-89c6-9927cdbb2bfd.jpg?aki_policy=large',\n",
       " 'https://a0.muscache.com/im/pictures/d5233fe0-78a2-4ccd-9b1a-efef6f439ba1.jpg?aki_policy=large',\n",
       " 'https://a0.muscache.com/im/pictures/64ebd9dd-135a-4c22-b6a6-9a5a77e4d32f.jpg?aki_policy=large',\n",
       " 'https://a0.muscache.com/im/pictures/79321d91-2ae3-4dcb-9bf8-5e2de493ce6a.jpg?aki_policy=large',\n",
       " 'https://a0.muscache.com/im/pictures/50bfc529-26f1-493a-bbc7-a8e8781e17a9.jpg?aki_policy=large',\n",
       " 'https://a0.muscache.com/im/pictures/7dd2e158-4370-4791-8720-c9473c6af230.jpg?aki_policy=large',\n",
       " 'https://a0.muscache.com/im/pictures/48270ae9-41d1-4eb0-a508-895c2826a551.jpg?aki_policy=large',\n",
       " 'https://a0.muscache.com/im/pictures/e2e1fe96-3872-44c7-9c54-aaf82d98a682.jpg?aki_policy=large',\n",
       " 'https://a0.muscache.com/im/pictures/a91786a5-7ada-47ec-b914-d74bf48b0349.jpg?aki_policy=large',\n",
       " 'https://a0.muscache.com/im/pictures/3ac9ebf2-9dab-469e-bfd7-1bc23bbedb1c.jpg?aki_policy=large',\n",
       " 'https://a0.muscache.com/im/pictures/1328ce93-956c-415b-9a98-464c146c77d8.jpg?aki_policy=large',\n",
       " 'https://a0.muscache.com/im/pictures/685802c9-be25-4488-b061-6ba9d60c1ae6.jpg?aki_policy=large',\n",
       " 'https://a0.muscache.com/im/pictures/5aba5d7d-761b-41a6-8022-9ebc2928b12f.jpg?aki_policy=large',\n",
       " 'https://a0.muscache.com/im/pictures/95c39626-0183-416a-890b-884f3611a4d1.jpg?aki_policy=large',\n",
       " 'https://a0.muscache.com/im/pictures/af4c3bfb-6ed0-4b1b-a8c7-3ae72c301bf2.jpg?aki_policy=large',\n",
       " 'https://a0.muscache.com/im/pictures/58b1ee68-b5f7-4bbe-a61b-ee8a090b29b2.jpg?aki_policy=large',\n",
       " 'https://a0.muscache.com/im/pictures/6d006811-738f-488a-a3e9-c2b03b2ec584.jpg?aki_policy=large',\n",
       " 'https://a0.muscache.com/im/pictures/0f897c3b-a846-403b-a9f1-4e29fc73223f.jpg?aki_policy=large',\n",
       " 'https://a0.muscache.com/im/pictures/ce673e70-ff06-479d-82c8-5641465dde72.jpg?aki_policy=large',\n",
       " 'https://a0.muscache.com/im/pictures/a84160d6-09f0-4c82-b6a8-232b6b72c04d.jpg?aki_policy=large',\n",
       " 'https://a0.muscache.com/im/pictures/4d1379be-9690-4bb5-99f8-b01324050a20.jpg?aki_policy=large',\n",
       " 'https://a0.muscache.com/4ea/air/v2//pictures/7191b0eb-2e72-4412-87ac-202a9b9211cc.jpg?t=r:w1200-h720-sfit,e:fjpg-c85',\n",
       " 'https://a0.muscache.com/im/pictures/622a8e1c-6e12-4597-a86a-f85d4f5a5cd1.jpg?aki_policy=large',\n",
       " 'https://a0.muscache.com/im/pictures/7521b114-84e7-4a54-b636-5018b8715b68.jpg?aki_policy=large',\n",
       " 'https://a0.muscache.com/im/pictures/81194d61-1400-4cbf-81f3-a6db76a2da10.jpg?aki_policy=large',\n",
       " 'https://a0.muscache.com/im/pictures/a593726c-6538-4513-8678-e7cfcb3dd91b.jpg?aki_policy=large',\n",
       " 'https://a0.muscache.com/im/pictures/900aa5f4-9347-4126-9f45-0b539cfe9ed0.jpg?aki_policy=large',\n",
       " 'https://a0.muscache.com/im/pictures/42971188/ac7ad6c6_original.jpg?aki_policy=large',\n",
       " 'https://a0.muscache.com/im/pictures/580b0dbc-a432-471b-a331-c4976e4f1e41.jpg?aki_policy=large',\n",
       " 'https://a0.muscache.com/im/pictures/00091334-2f46-4455-bb86-afbc0f1d37c7.jpg?aki_policy=large',\n",
       " 'https://a0.muscache.com/im/pictures/9ec612e4-459c-49fe-bd20-9b551287d928.jpg?aki_policy=large',\n",
       " 'https://a0.muscache.com/im/pictures/73e3c221-d60f-4d67-b6bc-3fd892bdbd8e.jpg?aki_policy=large',\n",
       " 'https://a0.muscache.com/im/pictures/00e26503-1e65-47d0-bdd2-80755a646602.jpg?aki_policy=large',\n",
       " 'https://a0.muscache.com/im/pictures/ab6e60e3-118e-4727-99de-052338be8f35.jpg?aki_policy=large',\n",
       " 'https://a0.muscache.com/im/pictures/a06de2db-61f4-40f7-941b-a407e95b5296.jpg?aki_policy=large',\n",
       " 'https://a0.muscache.com/im/pictures/9b68bd38-4a5d-418e-b72f-e69cae52aba4.jpg?aki_policy=large',\n",
       " 'https://a0.muscache.com/im/pictures/d8884407-65b0-444b-804e-db69469b68c9.jpg?aki_policy=large',\n",
       " 'https://a0.muscache.com/im/pictures/2d0609d5-720f-4cdb-aa9d-8f0a6bf1eaf9.jpg?aki_policy=large',\n",
       " 'https://a0.muscache.com/im/pictures/a1ed4f70-9fb2-47e3-b3a7-d85293ce5fbf.jpg?aki_policy=large',\n",
       " 'https://a0.muscache.com/im/pictures/6683d597-c016-4ae3-b0d5-43e57e0c1379.jpg?aki_policy=large',\n",
       " 'https://a0.muscache.com/im/pictures/f4aafd8b-4bb0-41ec-9f71-cc32a5104ebd.jpg?aki_policy=large',\n",
       " 'https://a0.muscache.com/im/pictures/64040020/ba4572b4_original.jpg?aki_policy=large',\n",
       " 'https://a0.muscache.com/im/pictures/92814db9-9f72-4c30-8856-f77669873407.jpg?aki_policy=large',\n",
       " 'https://a0.muscache.com/im/pictures/f6a945dc-048d-429b-a9f8-b1cd04aba1e0.jpg?aki_policy=large',\n",
       " 'https://a0.muscache.com/im/pictures/d7961316-8796-4568-aaa6-e6a24f6c10f0.jpg?aki_policy=large',\n",
       " 'https://a0.muscache.com/im/pictures/71f53534-b671-49a9-9619-48ac672356c7.jpg?aki_policy=large',\n",
       " 'https://a0.muscache.com/im/pictures/ced16374-3835-404a-ad7d-ff2961394db2.jpg?aki_policy=large',\n",
       " 'https://a0.muscache.com/im/pictures/af698e84-cb86-4560-8819-e7abdef0cdb3.jpg?aki_policy=large',\n",
       " 'https://a0.muscache.com/im/pictures/a6be9df6-a32b-462f-9a47-73d44be24ed1.jpg?aki_policy=large',\n",
       " 'https://a0.muscache.com/im/pictures/83efba9c-f9a9-47ae-8255-04a672ddc3d6.jpg?aki_policy=large',\n",
       " 'https://a0.muscache.com/im/pictures/d99dae21-7036-4c35-9c0d-802eac0ac6e6.jpg?aki_policy=large',\n",
       " 'https://a0.muscache.com/im/pictures/3ea76e15-68d5-4cae-ae0d-0b15f5591247.jpg?aki_policy=large',\n",
       " 'https://a0.muscache.com/im/pictures/2f1b5b5e-f67b-44d5-983a-16c6f4d18d87.jpg?aki_policy=large',\n",
       " 'https://a0.muscache.com/im/pictures/95e24998-78c2-49b4-8f5d-23f654bc985a.jpg?aki_policy=large',\n",
       " 'https://a0.muscache.com/im/pictures/fad6d30d-8e6f-43ec-afd1-f8d0a02ef4b4.jpg?aki_policy=large',\n",
       " 'https://a0.muscache.com/im/pictures/784e7df7-4992-471f-9a52-56601c6cef0a.jpg?aki_policy=large',\n",
       " 'https://a0.muscache.com/im/pictures/36ea40ba-a55a-4603-b7e3-a571edf81cc1.jpg?aki_policy=large',\n",
       " 'https://a0.muscache.com/im/pictures/aa83013f-6f76-4ade-b5df-fe8640d3ef09.jpg?aki_policy=large',\n",
       " 'https://a0.muscache.com/im/pictures/63cb733a-4b3c-4caa-9171-958612701c72.jpg?aki_policy=large',\n",
       " 'https://a0.muscache.com/im/pictures/5a1f0992-8777-492b-ba93-ece7f1835509.jpg?aki_policy=large',\n",
       " 'https://a0.muscache.com/im/pictures/729781e9-e334-49d9-b4cb-6e178d4635ea.jpg?aki_policy=large',\n",
       " 'https://a0.muscache.com/im/pictures/37988b5e-1c8d-45c4-ad2f-e62057a4757f.jpg?aki_policy=large',\n",
       " 'https://a0.muscache.com/im/pictures/099db139-56cc-424e-b15b-9b3459b98b4a.jpg?aki_policy=large',\n",
       " 'https://a0.muscache.com/im/pictures/40a0813a-07d7-441e-9fe6-6bef26dac16b.jpg?aki_policy=large',\n",
       " 'https://a0.muscache.com/im/pictures/31460522-0da5-4cfb-be9a-dcef6dc62b52.jpg?aki_policy=large',\n",
       " 'https://a0.muscache.com/im/pictures/09f6ec8a-07b6-42df-ae8c-44515557f71d.jpg?aki_policy=large',\n",
       " 'https://a0.muscache.com/im/pictures/948743d6-6d8d-4012-ad5b-4f285de77eed.jpg?aki_policy=large',\n",
       " 'https://a0.muscache.com/im/pictures/961ce5b3-9937-40e9-b232-2f92831921f1.jpg?aki_policy=large',\n",
       " 'https://a0.muscache.com/im/pictures/2a48fcdc-5a90-4edc-97a4-589ab4409ed4.jpg?aki_policy=large',\n",
       " 'https://a0.muscache.com/im/pictures/d6667cf9-d4f0-4c78-b6aa-c03d8c2b45e7.jpg?aki_policy=large',\n",
       " 'https://a0.muscache.com/im/pictures/d12b5fa4-38cd-4a63-9381-176bd0aab7ea.jpg?aki_policy=large',\n",
       " 'https://a0.muscache.com/im/pictures/0daffd50-081a-42f0-b886-d43254a2b5e1.jpg?aki_policy=large',\n",
       " 'https://a0.muscache.com/im/pictures/386900a0-3bb9-4290-9316-a98de7a849fd.jpg?aki_policy=large',\n",
       " 'https://a0.muscache.com/im/pictures/b4d787b0-5bb5-4d0a-843e-dee917673d86.jpg?aki_policy=large',\n",
       " 'https://a0.muscache.com/im/pictures/77d9abac-9e22-4a83-95f4-51fe478b3573.jpg?aki_policy=large',\n",
       " 'https://a0.muscache.com/im/pictures/cd4e2e33-f3b8-40b6-a582-d2da29e9e53d.jpg?aki_policy=large',\n",
       " 'https://a0.muscache.com/im/pictures/4991877/c28798f3_original.jpg?aki_policy=large',\n",
       " 'https://a0.muscache.com/im/pictures/74ef9773-fe24-4069-b2aa-fc69aa70824b.jpg?aki_policy=large',\n",
       " 'https://a0.muscache.com/im/pictures/bd68c552-d0c3-4753-9861-824532f8ba4a.jpg?aki_policy=large',\n",
       " 'https://a0.muscache.com/im/pictures/3df81fdb-6b25-4604-9ffa-8b4ff2dd6919.jpg?aki_policy=large',\n",
       " 'https://a0.muscache.com/im/pictures/eff17cec-5965-4e81-aae6-f481540dba73.jpg?aki_policy=large',\n",
       " 'https://a0.muscache.com/im/pictures/109350531/b0cf6e4a_original.jpg?aki_policy=large',\n",
       " 'https://a0.muscache.com/im/pictures/123fac06-685a-4cdd-994b-84a03260d9d9.jpg?aki_policy=large',\n",
       " 'https://a0.muscache.com/im/pictures/57fd1365-79b8-410b-a804-e47fa3213dd7.jpg?aki_policy=large',\n",
       " 'https://a0.muscache.com/im/pictures/6e29b141-5b95-4d07-a446-aca2f744725e.jpg?aki_policy=large',\n",
       " 'https://a0.muscache.com/im/pictures/82220679/e2a927f9_original.jpg?aki_policy=large',\n",
       " 'https://a0.muscache.com/im/pictures/a1d89ea6-f0f4-4cb6-be0f-584def21d0cc.jpg?aki_policy=large',\n",
       " 'https://a0.muscache.com/im/pictures/1ecd81f6-395c-47f1-a201-409b41debc92.jpg?aki_policy=large',\n",
       " 'https://a0.muscache.com/im/pictures/7b0c7c3d-05d5-4f21-ab67-eb2373e9e2de.jpg?aki_policy=large',\n",
       " 'https://a0.muscache.com/im/pictures/ec0eeef0-c41a-46bc-85dc-0af92dfd67b7.jpg?aki_policy=large',\n",
       " 'https://a0.muscache.com/im/pictures/8335d144-1fc1-4d81-ae42-69edb7438c9a.jpg?aki_policy=large',\n",
       " 'https://a0.muscache.com/im/pictures/d64c104e-bbce-41ec-89d6-3d0c4de28f93.jpg?aki_policy=large',\n",
       " 'https://a0.muscache.com/im/pictures/79d22a32-1723-49c3-a357-4117d23f0e30.jpg?aki_policy=large',\n",
       " 'https://a0.muscache.com/im/pictures/ea79b57d-601f-4acd-91ad-0996a74a066b.jpg?aki_policy=large',\n",
       " 'https://a0.muscache.com/im/pictures/81861934/5babaad3_original.jpg?aki_policy=large',\n",
       " 'https://a0.muscache.com/im/pictures/ac759921-4c51-4b55-a22c-416a0f85b446.jpg?aki_policy=large',\n",
       " 'https://a0.muscache.com/im/pictures/1492b7eb-7483-40d2-b154-d83059760b75.jpg?aki_policy=large',\n",
       " 'https://a0.muscache.com/im/pictures/07c192f3-5426-4d40-a3de-815c311b82e6.jpg?aki_policy=large',\n",
       " 'https://a0.muscache.com/im/pictures/6f2bc8fe-e9c2-4712-b862-a57bd7ab2e25.jpg?aki_policy=large',\n",
       " 'https://a0.muscache.com/im/pictures/cd65f292-4160-4ffd-8ffe-cbcbbc614cfa.jpg?aki_policy=large',\n",
       " 'https://a0.muscache.com/im/pictures/33ad4ee7-de13-42b8-ad91-9ada6be3c6ef.jpg?aki_policy=large',\n",
       " 'https://a0.muscache.com/im/pictures/0e32cf20-b1e2-42ba-b7dd-60f751f04eaa.jpg?aki_policy=large',\n",
       " 'https://a0.muscache.com/im/pictures/c31d9729-aa7b-43ff-9554-74a9bb40e6fe.jpg?aki_policy=large',\n",
       " 'https://a0.muscache.com/im/pictures/98982922/cafeb988_original.jpg?aki_policy=large',\n",
       " 'https://a0.muscache.com/im/pictures/dc4f0b38-3eb0-4181-97bd-69ddd9f2dc64.jpg?aki_policy=large',\n",
       " 'https://a0.muscache.com/im/pictures/47c25e4e-ca45-4bfa-a622-82f0958434c7.jpg?aki_policy=large',\n",
       " 'https://a0.muscache.com/im/pictures/c562ac75-6dcc-4125-9801-ac47a028df26.jpg?aki_policy=large',\n",
       " 'https://a0.muscache.com/im/pictures/00bd5c0c-0f8d-4104-9d33-b32d3b252f54.jpg?aki_policy=large',\n",
       " 'https://a0.muscache.com/im/pictures/f7aaa9a5-57e2-43d9-b96c-e185fe4f66b2.jpg?aki_policy=large',\n",
       " 'https://a0.muscache.com/im/pictures/869e6127-229f-481d-80ea-ff550c0208cd.jpg?aki_policy=large',\n",
       " 'https://a0.muscache.com/im/pictures/883b61c4-43c1-4e24-bf35-16e324f85ed8.jpg?aki_policy=large',\n",
       " 'https://a0.muscache.com/im/pictures/34bf976d-3f7f-486d-9974-167c547ef0f3.jpg?aki_policy=large',\n",
       " 'https://a0.muscache.com/im/pictures/67474128-7c3f-48a4-b95d-91d133225553.jpg?aki_policy=large',\n",
       " 'https://a0.muscache.com/im/pictures/52c792b0-2597-4439-9465-8a395064813b.jpg?aki_policy=large',\n",
       " 'https://a0.muscache.com/im/pictures/287873af-9bab-4ecc-bead-59f4bbafb068.jpg?aki_policy=large',\n",
       " 'https://a0.muscache.com/im/pictures/e66f8e8e-f1c2-4fc0-bb78-63ddc9f1af24.jpg?aki_policy=large',\n",
       " 'https://a0.muscache.com/im/pictures/c6865348-acb7-45d0-a73e-c280b0b74965.jpg?aki_policy=large',\n",
       " 'https://a0.muscache.com/im/pictures/7f69c72c-84a5-4668-aafa-5dde8d60dae5.jpg?aki_policy=large',\n",
       " 'https://a0.muscache.com/im/pictures/61f31593-0245-4c5f-8d78-2ab3cdfc2eb8.jpg?aki_policy=large',\n",
       " 'https://a0.muscache.com/im/pictures/c830deb3-bc3e-4e55-b9db-b568d23fc620.jpg?aki_policy=large',\n",
       " 'https://a0.muscache.com/im/pictures/ef4755c6-963f-4d56-a2da-de91753c65ec.jpg?aki_policy=large',\n",
       " 'https://a0.muscache.com/im/pictures/1dd2c9f7-377c-40b1-8169-6926b763f3d5.jpg?aki_policy=large',\n",
       " 'https://a0.muscache.com/im/pictures/c834f365-a3d9-4fda-8b21-78e8e1939e05.jpg?aki_policy=large',\n",
       " 'https://a0.muscache.com/im/pictures/bbac5200-9fe1-49e5-9ef4-0c4a3d6f5e21.jpg?aki_policy=large',\n",
       " 'https://a0.muscache.com/im/pictures/968d8e62-0956-4295-ae76-3a1dd90fd43f.jpg?aki_policy=large',\n",
       " 'https://a0.muscache.com/im/pictures/f54704b5-cf63-486e-9a8c-2f00a6b6bb91.jpg?aki_policy=large',\n",
       " 'https://a0.muscache.com/im/pictures/9438fa20-80fb-4a65-88aa-c07650376e65.jpg?aki_policy=large',\n",
       " 'https://a0.muscache.com/im/pictures/b407443e-d32c-4fac-813f-d0aefb0a65cb.jpg?aki_policy=large',\n",
       " 'https://a0.muscache.com/im/pictures/5ee52487-4ac7-4a2b-a469-38f0b6939e9f.jpg?aki_policy=large',\n",
       " 'https://a0.muscache.com/im/pictures/a1afa2d2-3452-406e-b3cb-28bb0e0b8c77.jpg?aki_policy=large',\n",
       " 'https://a0.muscache.com/im/pictures/44b43650-9c73-41af-9eea-fa0ee351537a.jpg?aki_policy=large',\n",
       " 'https://a0.muscache.com/im/pictures/e35e7d36-3181-40b2-98b4-ae251910b3ff.jpg?aki_policy=large',\n",
       " 'https://a0.muscache.com/im/pictures/05c028e3-c0c5-4c3a-a426-baffe98a0c3c.jpg?aki_policy=large',\n",
       " 'https://a0.muscache.com/im/pictures/402e91ef-89a5-4d60-9f79-9716d1cc93c6.jpg?aki_policy=large',\n",
       " 'https://a0.muscache.com/im/pictures/bf8688bc-c850-4918-a948-aa478b060348.jpg?aki_policy=large',\n",
       " 'https://a0.muscache.com/im/pictures/3f8f1114-ce92-4b77-8d74-6660a8632da1.jpg?aki_policy=large',\n",
       " 'https://a0.muscache.com/im/pictures/0a2b1045-1f44-4aea-a4b1-ba18891f4131.jpg?aki_policy=large',\n",
       " 'https://a0.muscache.com/im/pictures/caa047d4-73e2-48b3-8683-0a7aa343124f.jpg?aki_policy=large',\n",
       " 'https://a0.muscache.com/im/pictures/42f94f66-6eab-42a3-97d4-dadbe5ef3f2f.jpg?aki_policy=large',\n",
       " 'https://a0.muscache.com/im/pictures/e60054d1-6c9d-459c-a85d-583686e369a3.jpg?aki_policy=large',\n",
       " 'https://a0.muscache.com/im/pictures/211382bb-48db-4ebe-878c-363837bbb42e.jpg?aki_policy=large',\n",
       " 'https://a0.muscache.com/im/pictures/14059993/22c8e6d9_original.jpg?aki_policy=large',\n",
       " 'https://a0.muscache.com/im/pictures/8f86e8d9-75bc-48d9-aac0-6de497d3c3f6.jpg?aki_policy=large',\n",
       " 'https://a0.muscache.com/im/pictures/68445741-dd3e-4ce1-be85-69814aeb812a.jpg?aki_policy=large',\n",
       " 'https://a0.muscache.com/im/pictures/c67c86fe-113c-4c2e-b2c9-bb2576b076fc.jpg?aki_policy=large',\n",
       " 'https://a0.muscache.com/im/pictures/848e80af-9ad5-4aa1-87cf-0084aedc38c4.jpg?aki_policy=large',\n",
       " 'https://a0.muscache.com/im/pictures/52cf596d-73cb-4ebe-9b32-dc0fe59770bc.jpg?aki_policy=large',\n",
       " 'https://a0.muscache.com/im/pictures/02b696da-a7bf-48eb-9eec-efd48cf240fd.jpg?aki_policy=large',\n",
       " 'https://a0.muscache.com/im/pictures/b77f9d17-f972-428b-8b05-5d9d13c36008.jpg?aki_policy=large',\n",
       " 'https://a0.muscache.com/4ea/air/v2//pictures/21eb4532-bb67-4232-b68f-9e676dc071d7.jpg?t=r:w1200-h720-sfit,e:fjpg-c85',\n",
       " 'https://a0.muscache.com/im/pictures/5bcce19a-a320-45b1-b3a5-1886f793e19b.jpg?aki_policy=large',\n",
       " 'https://a0.muscache.com/im/pictures/9fe925ee-c5a7-4b6d-b3c8-036d0c8d55f0.jpg?aki_policy=large',\n",
       " 'https://a0.muscache.com/im/pictures/e1d5109b-1e6f-43e5-80c8-a26cdce0c1f3.jpg?aki_policy=large',\n",
       " 'https://a0.muscache.com/4ea/air/v2//pictures/acae5b55-9b51-49a7-80e5-0c156344071b.jpg?t=r:w1200-h720-sfit,e:fjpg-c85',\n",
       " 'https://a0.muscache.com/im/pictures/2e24b241-2253-48e4-99ad-361746a09088.jpg?aki_policy=large',\n",
       " 'https://a0.muscache.com/im/pictures/4f3be221-661a-4920-abf0-b1c12672eede.jpg?aki_policy=large',\n",
       " 'https://a0.muscache.com/im/pictures/38e304c5-b349-4611-b0f7-9c023679930a.jpg?aki_policy=large',\n",
       " 'https://a0.muscache.com/im/pictures/47af0c2b-a086-43d8-8de5-956a21095492.jpg?aki_policy=large',\n",
       " 'https://a0.muscache.com/im/pictures/12624b47-728b-43a5-a2e5-5ab984f0a2f9.jpg?aki_policy=large',\n",
       " 'https://a0.muscache.com/im/pictures/69316017-d23d-4150-9771-8ff5edc3e9d6.jpg?aki_policy=large',\n",
       " 'https://a0.muscache.com/im/pictures/43d9e343-c6dc-4695-9e61-af01ca3e2b3c.jpg?aki_policy=large',\n",
       " 'https://a0.muscache.com/im/pictures/fbf8f3a8-8750-4d62-9d17-d691d1329dd8.jpg?aki_policy=large',\n",
       " 'https://a0.muscache.com/im/pictures/c05082e0-3b2b-44e3-bb59-8d7d7b06a454.jpg?aki_policy=large',\n",
       " 'https://a0.muscache.com/im/pictures/c8786489-314f-4740-adcc-c3d442480912.jpg?aki_policy=large',\n",
       " 'https://a0.muscache.com/im/pictures/c67e0cd2-a8af-4cd8-ad6d-ca7886476a84.jpg?aki_policy=large',\n",
       " ...]"
      ]
     },
     "metadata": {},
     "execution_count": 19
    }
   ],
   "source": [
    "pUrl_list"
   ]
  },
  {
   "cell_type": "code",
   "execution_count": 13,
   "metadata": {},
   "outputs": [
    {
     "output_type": "execute_result",
     "data": {
      "text/plain": [
       "Empty DataFrame\n",
       "Columns: [name, summary, space, description, experiences_offered, neighborhood_overview, transit, house_rules, picture_url, host_id, host_since, host_response_time, host_response_rate, host_is_superhost, host_total_listings_count, host_has_profile_pic, host_identity_verified, neighbourhood, neighbourhood_cleansed, zipcode, latitude, longitude, property_type, room_type, accommodates, bathrooms, bedrooms, beds, bed_type, amenities, price, guests_included, review_scores_rating, review_scores_accuracy, review_scores_cleanliness, review_scores_checkin, review_scores_communication, review_scores_location, review_scores_value, cancellation_policy, reviews_per_month]\n",
       "Index: []\n",
       "\n",
       "[0 rows x 41 columns]"
      ],
      "text/html": "<div>\n<style scoped>\n    .dataframe tbody tr th:only-of-type {\n        vertical-align: middle;\n    }\n\n    .dataframe tbody tr th {\n        vertical-align: top;\n    }\n\n    .dataframe thead th {\n        text-align: right;\n    }\n</style>\n<table border=\"1\" class=\"dataframe\">\n  <thead>\n    <tr style=\"text-align: right;\">\n      <th></th>\n      <th>name</th>\n      <th>summary</th>\n      <th>space</th>\n      <th>description</th>\n      <th>experiences_offered</th>\n      <th>neighborhood_overview</th>\n      <th>transit</th>\n      <th>house_rules</th>\n      <th>picture_url</th>\n      <th>host_id</th>\n      <th>...</th>\n      <th>guests_included</th>\n      <th>review_scores_rating</th>\n      <th>review_scores_accuracy</th>\n      <th>review_scores_cleanliness</th>\n      <th>review_scores_checkin</th>\n      <th>review_scores_communication</th>\n      <th>review_scores_location</th>\n      <th>review_scores_value</th>\n      <th>cancellation_policy</th>\n      <th>reviews_per_month</th>\n    </tr>\n    <tr>\n      <th>listing_id</th>\n      <th></th>\n      <th></th>\n      <th></th>\n      <th></th>\n      <th></th>\n      <th></th>\n      <th></th>\n      <th></th>\n      <th></th>\n      <th></th>\n      <th></th>\n      <th></th>\n      <th></th>\n      <th></th>\n      <th></th>\n      <th></th>\n      <th></th>\n      <th></th>\n      <th></th>\n      <th></th>\n      <th></th>\n    </tr>\n  </thead>\n  <tbody>\n  </tbody>\n</table>\n<p>0 rows × 41 columns</p>\n</div>"
     },
     "metadata": {},
     "execution_count": 13
    }
   ],
   "source": [
    "train.loc[train.duplicated()==True]"
   ]
  },
  {
   "cell_type": "code",
   "execution_count": null,
   "metadata": {},
   "outputs": [],
   "source": []
  }
 ]
}