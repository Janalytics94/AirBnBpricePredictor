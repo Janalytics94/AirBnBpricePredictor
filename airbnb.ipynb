{
 "metadata": {
  "language_info": {
   "codemirror_mode": {
    "name": "ipython",
    "version": 3
   },
   "file_extension": ".py",
   "mimetype": "text/x-python",
   "name": "python",
   "nbconvert_exporter": "python",
   "pygments_lexer": "ipython3",
   "version": "3.8.5-final"
  },
  "orig_nbformat": 2,
  "kernelspec": {
   "name": "python3",
   "display_name": "Python 3.8.5 64-bit",
   "metadata": {
    "interpreter": {
     "hash": "a18db832179f0ebf40d8a2f1ecb5d40a6b02251654f41ffc1aebd0a1c9eedc3a"
    }
   }
  }
 },
 "nbformat": 4,
 "nbformat_minor": 2,
 "cells": [
  {
   "source": [
    "# Dear Jupyter Notebook Reader"
   ],
   "cell_type": "markdown",
   "metadata": {}
  },
  {
   "cell_type": "code",
   "execution_count": 2,
   "metadata": {},
   "outputs": [],
   "source": [
    "# import all necessary packages  \n",
    "import pandas as pd \n",
    "import numpy as np\n",
    "import os \n",
    "import seaborn as sns\n",
    "from src import helpers\n",
    "from src import Textprocessor as tp"
   ]
  },
  {
   "cell_type": "code",
   "execution_count": 6,
   "metadata": {},
   "outputs": [],
   "source": [
    "train = helpers.read_df('data/train.csv', index_col='listing_id')\n",
    "#test = pd.read_csv('data/test.csv', index_col='listing_id')\n",
    "#reviews = pd.read_csv('data/reviews.csv', index_col='listing_id')"
   ]
  },
  {
   "cell_type": "code",
   "execution_count": 9,
   "metadata": {},
   "outputs": [],
   "source": [
    "processor = Textprocessor.TextProcessor()"
   ]
  },
  {
   "cell_type": "code",
   "execution_count": 17,
   "metadata": {},
   "outputs": [],
   "source": [
    "# missing values\n",
    "train = helpers.change_data_types(train)\n",
    "test = helpers.change_data_types(test)\n"
   ]
  },
  {
   "cell_type": "code",
   "execution_count": 20,
   "metadata": {},
   "outputs": [
    {
     "output_type": "execute_result",
     "data": {
      "text/plain": [
       "            reviewer_id                                           comments  \\\n",
       "listing_id                                                                   \n",
       "8Z94Z3WMCO        93896  The flat was bright, comfortable and clean and...   \n",
       "8Z94Z3WMCO        97890  We stayed with Adriano and Valerio for a week ...   \n",
       "8Z94Z3WMCO       104133  Adriano was a fantastic host. We felt very at ...   \n",
       "8Z94Z3WMCO       122714  We had a most wonderful stay with Adriano and ...   \n",
       "8Z94Z3WMCO       111543    I'm not sure which of us misunderstood the s...   \n",
       "\n",
       "            review_id  \n",
       "listing_id             \n",
       "8Z94Z3WMCO      30672  \n",
       "8Z94Z3WMCO      32236  \n",
       "8Z94Z3WMCO      41044  \n",
       "8Z94Z3WMCO      48926  \n",
       "8Z94Z3WMCO      58352  "
      ],
      "text/html": "<div>\n<style scoped>\n    .dataframe tbody tr th:only-of-type {\n        vertical-align: middle;\n    }\n\n    .dataframe tbody tr th {\n        vertical-align: top;\n    }\n\n    .dataframe thead th {\n        text-align: right;\n    }\n</style>\n<table border=\"1\" class=\"dataframe\">\n  <thead>\n    <tr style=\"text-align: right;\">\n      <th></th>\n      <th>reviewer_id</th>\n      <th>comments</th>\n      <th>review_id</th>\n    </tr>\n    <tr>\n      <th>listing_id</th>\n      <th></th>\n      <th></th>\n      <th></th>\n    </tr>\n  </thead>\n  <tbody>\n    <tr>\n      <th>8Z94Z3WMCO</th>\n      <td>93896</td>\n      <td>The flat was bright, comfortable and clean and...</td>\n      <td>30672</td>\n    </tr>\n    <tr>\n      <th>8Z94Z3WMCO</th>\n      <td>97890</td>\n      <td>We stayed with Adriano and Valerio for a week ...</td>\n      <td>32236</td>\n    </tr>\n    <tr>\n      <th>8Z94Z3WMCO</th>\n      <td>104133</td>\n      <td>Adriano was a fantastic host. We felt very at ...</td>\n      <td>41044</td>\n    </tr>\n    <tr>\n      <th>8Z94Z3WMCO</th>\n      <td>122714</td>\n      <td>We had a most wonderful stay with Adriano and ...</td>\n      <td>48926</td>\n    </tr>\n    <tr>\n      <th>8Z94Z3WMCO</th>\n      <td>111543</td>\n      <td>I'm not sure which of us misunderstood the s...</td>\n      <td>58352</td>\n    </tr>\n  </tbody>\n</table>\n</div>"
     },
     "metadata": {},
     "execution_count": 20
    }
   ],
   "source": [
    "reviews.head(5)"
   ]
  },
  {
   "cell_type": "code",
   "execution_count": null,
   "metadata": {},
   "outputs": [],
   "source": []
  }
 ]
}